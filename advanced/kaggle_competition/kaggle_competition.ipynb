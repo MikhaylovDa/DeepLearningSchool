{
  "nbformat": 4,
  "nbformat_minor": 0,
  "metadata": {
    "kernelspec": {
      "display_name": "Python 3",
      "language": "python",
      "name": "python3"
    },
    "language_info": {
      "codemirror_mode": {
        "name": "ipython",
        "version": 3
      },
      "file_extension": ".py",
      "mimetype": "text/x-python",
      "name": "python",
      "nbconvert_exporter": "python",
      "pygments_lexer": "ipython3",
      "version": "3.7.4"
    },
    "colab": {
      "provenance": [],
      "collapsed_sections": []
    },
    "widgets": {
      "application/vnd.jupyter.widget-state+json": {
        "14c17e9f0d6642e68dc6525b3b2e0a26": {
          "model_module": "catboost-widget",
          "model_name": "CatboostWidgetModel",
          "model_module_version": "^1.0.0",
          "state": {
            "_dom_classes": [],
            "_model_module": "catboost-widget",
            "_model_module_version": "^1.0.0",
            "_model_name": "CatboostWidgetModel",
            "_view_count": null,
            "_view_module": "catboost-widget",
            "_view_module_version": "^1.0.0",
            "_view_name": "CatboostWidgetView",
            "data": {
              "catboost_info": {
                "path": "catboost_info",
                "name": "catboost_info",
                "content": {
                  "passed_iterations": 161,
                  "total_iterations": 243,
                  "data": {
                    "iterations": [
                      {
                        "parameters": [
                          {
                            "subsample": 0.1,
                            "random_strength": 1,
                            "depth": 2,
                            "learning_rate": 0.01,
                            "iterations": 10
                          }
                        ],
                        "learn": [
                          0.8090171383,
                          0.6507734133
                        ],
                        "iteration": 0,
                        "passed_time": 0.1034815089,
                        "remaining_time": 25.04252516,
                        "test": [
                          0.8484752952,
                          0.6465832362
                        ]
                      },
                      {
                        "parameters": [
                          {
                            "subsample": 0.1,
                            "random_strength": 1,
                            "depth": 2,
                            "learning_rate": 0.1,
                            "iterations": 10
                          }
                        ],
                        "learn": [
                          0.8276351507,
                          0.4873864382
                        ],
                        "iteration": 1,
                        "passed_time": 0.1409035695,
                        "remaining_time": 16.97888012,
                        "test": [
                          0.8636793534,
                          0.4628186627
                        ]
                      },
                      {
                        "parameters": [
                          {
                            "subsample": 0.1,
                            "random_strength": 1,
                            "depth": 2,
                            "learning_rate": 0.5,
                            "iterations": 10
                          }
                        ],
                        "learn": [
                          0.8400333563,
                          0.4247327874
                        ],
                        "iteration": 2,
                        "passed_time": 0.1774891259,
                        "remaining_time": 14.19913007,
                        "test": [
                          0.8632709504,
                          0.3916368657
                        ]
                      },
                      {
                        "parameters": [
                          {
                            "subsample": 0.1,
                            "random_strength": 1,
                            "depth": 2,
                            "learning_rate": 0.01,
                            "iterations": 50
                          }
                        ],
                        "learn": [
                          0.8249127272,
                          0.5389965152
                        ],
                        "iteration": 3,
                        "passed_time": 0.3656199096,
                        "remaining_time": 21.8457896,
                        "test": [
                          0.8607512706,
                          0.5199683267
                        ]
                      },
                      {
                        "parameters": [
                          {
                            "subsample": 0.1,
                            "random_strength": 1,
                            "depth": 2,
                            "learning_rate": 0.1,
                            "iterations": 50
                          }
                        ],
                        "learn": [
                          0.843181792,
                          0.4227424092
                        ],
                        "iteration": 4,
                        "passed_time": 0.5424588724,
                        "remaining_time": 25.82104233,
                        "test": [
                          0.8692274256,
                          0.3887242908
                        ]
                      },
                      {
                        "parameters": [
                          {
                            "subsample": 0.1,
                            "random_strength": 1,
                            "depth": 2,
                            "learning_rate": 0.5,
                            "iterations": 50
                          }
                        ],
                        "learn": [
                          0.853102427,
                          0.4073184863
                        ],
                        "iteration": 5,
                        "passed_time": 0.7453864499,
                        "remaining_time": 29.44276477,
                        "test": [
                          0.8699893003,
                          0.3785510353
                        ]
                      },
                      {
                        "parameters": [
                          {
                            "subsample": 0.1,
                            "random_strength": 1,
                            "depth": 2,
                            "learning_rate": 0.01,
                            "iterations": 100
                          }
                        ],
                        "learn": [
                          0.8320519899,
                          0.485617783
                        ],
                        "iteration": 6,
                        "passed_time": 1.110681065,
                        "remaining_time": 37.44581876,
                        "test": [
                          0.8635073942,
                          0.4600011861
                        ]
                      },
                      {
                        "parameters": [
                          {
                            "subsample": 0.1,
                            "random_strength": 1,
                            "depth": 2,
                            "learning_rate": 0.1,
                            "iterations": 100
                          }
                        ],
                        "learn": [
                          0.8476299747,
                          0.4147460506
                        ],
                        "iteration": 7,
                        "passed_time": 1.459755546,
                        "remaining_time": 42.88031916,
                        "test": [
                          0.8697480798,
                          0.3829638759
                        ]
                      },
                      {
                        "parameters": [
                          {
                            "subsample": 0.1,
                            "random_strength": 1,
                            "depth": 2,
                            "learning_rate": 0.5,
                            "iterations": 100
                          }
                        ],
                        "learn": [
                          0.8581014205,
                          0.4004756863
                        ],
                        "iteration": 8,
                        "passed_time": 1.832237796,
                        "remaining_time": 47.6381827,
                        "test": [
                          0.867806374,
                          0.3797493269
                        ]
                      },
                      {
                        "parameters": [
                          {
                            "subsample": 0.1,
                            "random_strength": 10,
                            "depth": 2,
                            "learning_rate": 0.01,
                            "iterations": 10
                          }
                        ],
                        "learn": [
                          0.8123819588,
                          0.6520871295
                        ],
                        "iteration": 9,
                        "passed_time": 1.8709324,
                        "remaining_time": 43.59272493,
                        "test": [
                          0.8403072337,
                          0.6484082178
                        ]
                      },
                      {
                        "parameters": [
                          {
                            "subsample": 0.1,
                            "random_strength": 10,
                            "depth": 2,
                            "learning_rate": 0.1,
                            "iterations": 10
                          }
                        ],
                        "learn": [
                          0.8250376697,
                          0.502062886
                        ],
                        "iteration": 10,
                        "passed_time": 1.910491967,
                        "remaining_time": 40.29401239,
                        "test": [
                          0.860235393,
                          0.4791801038
                        ]
                      },
                      {
                        "parameters": [
                          {
                            "subsample": 0.1,
                            "random_strength": 10,
                            "depth": 2,
                            "learning_rate": 0.5,
                            "iterations": 10
                          }
                        ],
                        "learn": [
                          0.827292098,
                          0.436195392
                        ],
                        "iteration": 11,
                        "passed_time": 1.94828812,
                        "remaining_time": 37.50454632,
                        "test": [
                          0.8607297757,
                          0.3937802248
                        ]
                      },
                      {
                        "parameters": [
                          {
                            "subsample": 0.1,
                            "random_strength": 10,
                            "depth": 2,
                            "learning_rate": 0.01,
                            "iterations": 50
                          }
                        ],
                        "learn": [
                          0.8293657983,
                          0.555233474
                        ],
                        "iteration": 12,
                        "passed_time": 2.15190835,
                        "remaining_time": 38.07222465,
                        "test": [
                          0.8605387099,
                          0.5396593892
                        ]
                      },
                      {
                        "parameters": [
                          {
                            "subsample": 0.1,
                            "random_strength": 10,
                            "depth": 2,
                            "learning_rate": 0.1,
                            "iterations": 50
                          }
                        ],
                        "learn": [
                          0.8344697493,
                          0.4338040057
                        ],
                        "iteration": 13,
                        "passed_time": 2.33233337,
                        "remaining_time": 38.15031012,
                        "test": [
                          0.8640113302,
                          0.3944045773
                        ]
                      },
                      {
                        "parameters": [
                          {
                            "subsample": 0.1,
                            "random_strength": 10,
                            "depth": 2,
                            "learning_rate": 0.5,
                            "iterations": 50
                          }
                        ],
                        "learn": [
                          0.8496547907,
                          0.4098150905
                        ],
                        "iteration": 14,
                        "passed_time": 2.510637169,
                        "remaining_time": 38.16168497,
                        "test": [
                          0.8663112843,
                          0.3806546364
                        ]
                      },
                      {
                        "parameters": [
                          {
                            "subsample": 0.1,
                            "random_strength": 10,
                            "depth": 2,
                            "learning_rate": 0.01,
                            "iterations": 100
                          }
                        ],
                        "learn": [
                          0.8270160455,
                          0.5001206879
                        ],
                        "iteration": 15,
                        "passed_time": 2.89093821,
                        "remaining_time": 41.01518586,
                        "test": [
                          0.8581694944,
                          0.4758050791
                        ]
                      },
                      {
                        "parameters": [
                          {
                            "subsample": 0.1,
                            "random_strength": 10,
                            "depth": 2,
                            "learning_rate": 0.1,
                            "iterations": 100
                          }
                        ],
                        "learn": [
                          0.8398521969,
                          0.4236720952
                        ],
                        "iteration": 16,
                        "passed_time": 3.253612319,
                        "remaining_time": 43.25390494,
                        "test": [
                          0.8669943445,
                          0.3843970149
                        ]
                      },
                      {
                        "parameters": [
                          {
                            "subsample": 0.1,
                            "random_strength": 10,
                            "depth": 2,
                            "learning_rate": 0.5,
                            "iterations": 100
                          }
                        ],
                        "learn": [
                          0.8572529906,
                          0.4003803714
                        ],
                        "iteration": 17,
                        "passed_time": 3.605181942,
                        "remaining_time": 45.06477427,
                        "test": [
                          0.8631491459,
                          0.383318845
                        ]
                      },
                      {
                        "parameters": [
                          {
                            "subsample": 0.1,
                            "random_strength": 100,
                            "depth": 2,
                            "learning_rate": 0.01,
                            "iterations": 10
                          }
                        ],
                        "learn": [
                          0.8126771337,
                          0.6618947664
                        ],
                        "iteration": 18,
                        "passed_time": 3.644585125,
                        "remaining_time": 42.96774042,
                        "test": [
                          0.8421534067,
                          0.6589133107
                        ]
                      },
                      {
                        "parameters": [
                          {
                            "subsample": 0.1,
                            "random_strength": 100,
                            "depth": 2,
                            "learning_rate": 0.1,
                            "iterations": 10
                          }
                        ],
                        "learn": [
                          0.8126844663,
                          0.5230049977
                        ],
                        "iteration": 19,
                        "passed_time": 3.682918569,
                        "remaining_time": 41.06454205,
                        "test": [
                          0.8357622569,
                          0.5036950971
                        ]
                      },
                      {
                        "parameters": [
                          {
                            "subsample": 0.1,
                            "random_strength": 100,
                            "depth": 2,
                            "learning_rate": 0.5,
                            "iterations": 10
                          }
                        ],
                        "learn": [
                          0.8011924891,
                          0.4608237786
                        ],
                        "iteration": 20,
                        "passed_time": 3.7286351,
                        "remaining_time": 39.41699963,
                        "test": [
                          0.8309044098,
                          0.4249042966
                        ]
                      },
                      {
                        "parameters": [
                          {
                            "subsample": 0.1,
                            "random_strength": 100,
                            "depth": 2,
                            "learning_rate": 0.01,
                            "iterations": 50
                          }
                        ],
                        "learn": [
                          0.8254104842,
                          0.5791192593
                        ],
                        "iteration": 21,
                        "passed_time": 3.924260111,
                        "remaining_time": 39.42097657,
                        "test": [
                          0.854235928,
                          0.5679636845
                        ]
                      },
                      {
                        "parameters": [
                          {
                            "subsample": 0.1,
                            "random_strength": 100,
                            "depth": 2,
                            "learning_rate": 0.1,
                            "iterations": 50
                          }
                        ],
                        "learn": [
                          0.8288447493,
                          0.4478062031
                        ],
                        "iteration": 22,
                        "passed_time": 4.108212543,
                        "remaining_time": 39.29594607,
                        "test": [
                          0.8518619359,
                          0.4164414524
                        ]
                      },
                      {
                        "parameters": [
                          {
                            "subsample": 0.1,
                            "random_strength": 100,
                            "depth": 2,
                            "learning_rate": 0.5,
                            "iterations": 50
                          }
                        ],
                        "learn": [
                          0.8448641304,
                          0.4158112036
                        ],
                        "iteration": 23,
                        "passed_time": 4.282244553,
                        "remaining_time": 39.07548155,
                        "test": [
                          0.8626117735,
                          0.3859796874
                        ]
                      },
                      {
                        "parameters": [
                          {
                            "subsample": 0.1,
                            "random_strength": 100,
                            "depth": 2,
                            "learning_rate": 0.01,
                            "iterations": 100
                          }
                        ],
                        "learn": [
                          0.8269727686,
                          0.5261151178
                        ],
                        "iteration": 24,
                        "passed_time": 4.692402135,
                        "remaining_time": 40.91774661,
                        "test": [
                          0.8538848447,
                          0.507506512
                        ]
                      },
                      {
                        "parameters": [
                          {
                            "subsample": 0.1,
                            "random_strength": 100,
                            "depth": 2,
                            "learning_rate": 0.1,
                            "iterations": 100
                          }
                        ],
                        "learn": [
                          0.8344093628,
                          0.4315222406
                        ],
                        "iteration": 25,
                        "passed_time": 5.269426658,
                        "remaining_time": 43.97944557,
                        "test": [
                          0.8579091673,
                          0.3964832336
                        ]
                      },
                      {
                        "parameters": [
                          {
                            "subsample": 0.1,
                            "random_strength": 100,
                            "depth": 2,
                            "learning_rate": 0.5,
                            "iterations": 100
                          }
                        ],
                        "learn": [
                          0.8559526685,
                          0.4022424991
                        ],
                        "iteration": 26,
                        "passed_time": 5.855315029,
                        "remaining_time": 46.84252023,
                        "test": [
                          0.8648854561,
                          0.3832216347
                        ]
                      },
                      {
                        "parameters": [
                          {
                            "subsample": 0.1,
                            "random_strength": 1,
                            "depth": 4,
                            "learning_rate": 0.01,
                            "iterations": 10
                          }
                        ],
                        "learn": [
                          0.8268865022,
                          0.645465017
                        ],
                        "iteration": 27,
                        "passed_time": 5.965001251,
                        "remaining_time": 45.80268818,
                        "test": [
                          0.8523276587,
                          0.6420508584
                        ]
                      },
                      {
                        "parameters": [
                          {
                            "subsample": 0.1,
                            "random_strength": 1,
                            "depth": 4,
                            "learning_rate": 0.1,
                            "iterations": 10
                          }
                        ],
                        "learn": [
                          0.8385632333,
                          0.4614468773
                        ],
                        "iteration": 28,
                        "passed_time": 6.09454486,
                        "remaining_time": 44.97353793,
                        "test": [
                          0.8641164164,
                          0.4371408831
                        ]
                      },
                      {
                        "parameters": [
                          {
                            "subsample": 0.1,
                            "random_strength": 1,
                            "depth": 4,
                            "learning_rate": 0.5,
                            "iterations": 10
                          }
                        ],
                        "learn": [
                          0.8498559351,
                          0.4106922959
                        ],
                        "iteration": 29,
                        "passed_time": 6.19301253,
                        "remaining_time": 43.97038896,
                        "test": [
                          0.8644197333,
                          0.3841588928
                        ]
                      },
                      {
                        "parameters": [
                          {
                            "subsample": 0.1,
                            "random_strength": 1,
                            "depth": 4,
                            "learning_rate": 0.01,
                            "iterations": 50
                          }
                        ],
                        "learn": [
                          0.8403511042,
                          0.520366254
                        ],
                        "iteration": 30,
                        "passed_time": 6.844582255,
                        "remaining_time": 46.80811091,
                        "test": [
                          0.8662396347,
                          0.5026663153
                        ]
                      },
                      {
                        "parameters": [
                          {
                            "subsample": 0.1,
                            "random_strength": 1,
                            "depth": 4,
                            "learning_rate": 0.1,
                            "iterations": 50
                          }
                        ],
                        "learn": [
                          0.8556083218,
                          0.4059790131
                        ],
                        "iteration": 31,
                        "passed_time": 7.467078066,
                        "remaining_time": 49.236046,
                        "test": [
                          0.8687760327,
                          0.3817186508
                        ]
                      },
                      {
                        "parameters": [
                          {
                            "subsample": 0.1,
                            "random_strength": 1,
                            "depth": 4,
                            "learning_rate": 0.5,
                            "iterations": 50
                          }
                        ],
                        "learn": [
                          0.8784362779,
                          0.3740314125
                        ],
                        "iteration": 32,
                        "passed_time": 8.050271399,
                        "remaining_time": 51.22899981,
                        "test": [
                          0.8611883335,
                          0.3881126801
                        ]
                      },
                      {
                        "parameters": [
                          {
                            "subsample": 0.1,
                            "random_strength": 1,
                            "depth": 4,
                            "learning_rate": 0.01,
                            "iterations": 100
                          }
                        ],
                        "learn": [
                          0.8427227111,
                          0.4636987243
                        ],
                        "iteration": 33,
                        "passed_time": 9.173356865,
                        "remaining_time": 56.38916426,
                        "test": [
                          0.8672976614,
                          0.4394404388
                        ]
                      },
                      {
                        "parameters": [
                          {
                            "subsample": 0.1,
                            "random_strength": 1,
                            "depth": 4,
                            "learning_rate": 0.1,
                            "iterations": 100
                          }
                        ],
                        "learn": [
                          0.8640480504,
                          0.394407444
                        ],
                        "iteration": 34,
                        "passed_time": 10.34849403,
                        "remaining_time": 61.49962169,
                        "test": [
                          0.8676797929,
                          0.3803035168
                        ]
                      },
                      {
                        "parameters": [
                          {
                            "subsample": 0.1,
                            "random_strength": 1,
                            "depth": 4,
                            "learning_rate": 0.5,
                            "iterations": 100
                          }
                        ],
                        "learn": [
                          0.9009782609,
                          0.3439732026
                        ],
                        "iteration": 35,
                        "passed_time": 11.38776209,
                        "remaining_time": 65.47963204,
                        "test": [
                          0.8542144331,
                          0.396683172
                        ]
                      },
                      {
                        "parameters": [
                          {
                            "subsample": 0.1,
                            "random_strength": 10,
                            "depth": 4,
                            "learning_rate": 0.01,
                            "iterations": 10
                          }
                        ],
                        "learn": [
                          0.827643346,
                          0.6451897987
                        ],
                        "iteration": 36,
                        "passed_time": 11.46818796,
                        "remaining_time": 63.84991135,
                        "test": [
                          0.8537558753,
                          0.6405638663
                        ]
                      },
                      {
                        "parameters": [
                          {
                            "subsample": 0.1,
                            "random_strength": 10,
                            "depth": 4,
                            "learning_rate": 0.1,
                            "iterations": 10
                          }
                        ],
                        "learn": [
                          0.836641937,
                          0.4863695929
                        ],
                        "iteration": 37,
                        "passed_time": 11.55736538,
                        "remaining_time": 62.34894481,
                        "test": [
                          0.8642883756,
                          0.4649855732
                        ]
                      },
                      {
                        "parameters": [
                          {
                            "subsample": 0.1,
                            "random_strength": 10,
                            "depth": 4,
                            "learning_rate": 0.5,
                            "iterations": 10
                          }
                        ],
                        "learn": [
                          0.8342895963,
                          0.4276618082
                        ],
                        "iteration": 38,
                        "passed_time": 11.71415568,
                        "remaining_time": 61.27404509,
                        "test": [
                          0.8535170431,
                          0.3957946627
                        ]
                      },
                      {
                        "parameters": [
                          {
                            "subsample": 0.1,
                            "random_strength": 10,
                            "depth": 4,
                            "learning_rate": 0.01,
                            "iterations": 50
                          }
                        ],
                        "learn": [
                          0.8313260582,
                          0.5337801853
                        ],
                        "iteration": 39,
                        "passed_time": 12.2208306,
                        "remaining_time": 62.0207153,
                        "test": [
                          0.85875941,
                          0.5155782988
                        ]
                      },
                      {
                        "parameters": [
                          {
                            "subsample": 0.1,
                            "random_strength": 10,
                            "depth": 4,
                            "learning_rate": 0.1,
                            "iterations": 50
                          }
                        ],
                        "learn": [
                          0.8429403899,
                          0.4215453134
                        ],
                        "iteration": 40,
                        "passed_time": 12.74284623,
                        "remaining_time": 62.78182774,
                        "test": [
                          0.8645033245,
                          0.3897622121
                        ]
                      },
                      {
                        "parameters": [
                          {
                            "subsample": 0.1,
                            "random_strength": 10,
                            "depth": 4,
                            "learning_rate": 0.5,
                            "iterations": 50
                          }
                        ],
                        "learn": [
                          0.8729021452,
                          0.3819929461
                        ],
                        "iteration": 41,
                        "passed_time": 13.26603623,
                        "remaining_time": 63.48745909,
                        "test": [
                          0.8521461462,
                          0.39754989
                        ]
                      },
                      {
                        "parameters": [
                          {
                            "subsample": 0.1,
                            "random_strength": 10,
                            "depth": 4,
                            "learning_rate": 0.01,
                            "iterations": 100
                          }
                        ],
                        "learn": [
                          0.8329656947,
                          0.4785784001
                        ],
                        "iteration": 42,
                        "passed_time": 14.29357663,
                        "remaining_time": 66.48175175,
                        "test": [
                          0.8598222133,
                          0.4530316485
                        ]
                      },
                      {
                        "parameters": [
                          {
                            "subsample": 0.1,
                            "random_strength": 10,
                            "depth": 4,
                            "learning_rate": 0.1,
                            "iterations": 100
                          }
                        ],
                        "learn": [
                          0.8527619623,
                          0.4083014818
                        ],
                        "iteration": 43,
                        "passed_time": 15.30345293,
                        "remaining_time": 69.21334393,
                        "test": [
                          0.8680953609,
                          0.3829028193
                        ]
                      },
                      {
                        "parameters": [
                          {
                            "subsample": 0.1,
                            "random_strength": 10,
                            "depth": 4,
                            "learning_rate": 0.5,
                            "iterations": 100
                          }
                        ],
                        "learn": [
                          0.8968410686,
                          0.3511838951
                        ],
                        "iteration": 44,
                        "passed_time": 16.40901837,
                        "remaining_time": 72.19968083,
                        "test": [
                          0.8483534908,
                          0.4044298677
                        ]
                      },
                      {
                        "parameters": [
                          {
                            "subsample": 0.1,
                            "random_strength": 100,
                            "depth": 4,
                            "learning_rate": 0.01,
                            "iterations": 10
                          }
                        ],
                        "learn": [
                          0.8177556361,
                          0.6540160635
                        ],
                        "iteration": 45,
                        "passed_time": 16.51153139,
                        "remaining_time": 70.71242792,
                        "test": [
                          0.8418524781,
                          0.6498213059
                        ]
                      },
                      {
                        "parameters": [
                          {
                            "subsample": 0.1,
                            "random_strength": 100,
                            "depth": 4,
                            "learning_rate": 0.1,
                            "iterations": 10
                          }
                        ],
                        "learn": [
                          0.8221401254,
                          0.4908093161
                        ],
                        "iteration": 46,
                        "passed_time": 16.59782524,
                        "remaining_time": 69.2164627,
                        "test": [
                          0.8507322595,
                          0.4665306431
                        ]
                      },
                      {
                        "parameters": [
                          {
                            "subsample": 0.1,
                            "random_strength": 100,
                            "depth": 4,
                            "learning_rate": 0.5,
                            "iterations": 10
                          }
                        ],
                        "learn": [
                          0.8270617667,
                          0.4362389271
                        ],
                        "iteration": 47,
                        "passed_time": 16.69469516,
                        "remaining_time": 67.82219908,
                        "test": [
                          0.8543004127,
                          0.3960784728
                        ]
                      },
                      {
                        "parameters": [
                          {
                            "subsample": 0.1,
                            "random_strength": 100,
                            "depth": 4,
                            "learning_rate": 0.01,
                            "iterations": 50
                          }
                        ],
                        "learn": [
                          0.8300705947,
                          0.5522897873
                        ],
                        "iteration": 48,
                        "passed_time": 17.18636215,
                        "remaining_time": 68.04396444,
                        "test": [
                          0.8579163323,
                          0.5360139148
                        ]
                      },
                      {
                        "parameters": [
                          {
                            "subsample": 0.1,
                            "random_strength": 100,
                            "depth": 4,
                            "learning_rate": 0.1,
                            "iterations": 50
                          }
                        ],
                        "learn": [
                          0.8351669255,
                          0.4317868986
                        ],
                        "iteration": 49,
                        "passed_time": 17.65818503,
                        "remaining_time": 68.16059421,
                        "test": [
                          0.8597481753,
                          0.3985133266
                        ]
                      },
                      {
                        "parameters": [
                          {
                            "subsample": 0.1,
                            "random_strength": 100,
                            "depth": 4,
                            "learning_rate": 0.5,
                            "iterations": 50
                          }
                        ],
                        "learn": [
                          0.8684901944,
                          0.3872267292
                        ],
                        "iteration": 50,
                        "passed_time": 18.21379597,
                        "remaining_time": 68.56958484,
                        "test": [
                          0.8653249073,
                          0.3818747058
                        ]
                      },
                      {
                        "parameters": [
                          {
                            "subsample": 0.1,
                            "random_strength": 100,
                            "depth": 4,
                            "learning_rate": 0.01,
                            "iterations": 100
                          }
                        ],
                        "learn": [
                          0.831569617,
                          0.4970870621
                        ],
                        "iteration": 51,
                        "passed_time": 19.23347308,
                        "remaining_time": 70.64602614,
                        "test": [
                          0.8584417632,
                          0.4738278674
                        ]
                      },
                      {
                        "parameters": [
                          {
                            "subsample": 0.1,
                            "random_strength": 100,
                            "depth": 4,
                            "learning_rate": 0.1,
                            "iterations": 100
                          }
                        ],
                        "learn": [
                          0.8453452093,
                          0.4171642411
                        ],
                        "iteration": 52,
                        "passed_time": 20.07301677,
                        "remaining_time": 71.95987145,
                        "test": [
                          0.8663614391,
                          0.3852281382
                        ]
                      },
                      {
                        "parameters": [
                          {
                            "subsample": 0.1,
                            "random_strength": 100,
                            "depth": 4,
                            "learning_rate": 0.5,
                            "iterations": 100
                          }
                        ],
                        "learn": [
                          0.8963116805,
                          0.3514850543
                        ],
                        "iteration": 53,
                        "passed_time": 21.57732942,
                        "remaining_time": 75.52065295,
                        "test": [
                          0.851350835,
                          0.4003212911
                        ]
                      },
                      {
                        "parameters": [
                          {
                            "subsample": 0.1,
                            "random_strength": 1,
                            "depth": 8,
                            "learning_rate": 0.01,
                            "iterations": 10
                          }
                        ],
                        "learn": [
                          0.8393331608,
                          0.6459371821
                        ],
                        "iteration": 54,
                        "passed_time": 21.75532157,
                        "remaining_time": 74.36364463,
                        "test": [
                          0.8661584317,
                          0.6422952129
                        ]
                      },
                      {
                        "parameters": [
                          {
                            "subsample": 0.1,
                            "random_strength": 1,
                            "depth": 8,
                            "learning_rate": 0.1,
                            "iterations": 10
                          }
                        ],
                        "learn": [
                          0.8448506154,
                          0.4670233922
                        ],
                        "iteration": 55,
                        "passed_time": 21.9339473,
                        "remaining_time": 73.24371688,
                        "test": [
                          0.8636435286,
                          0.4492971803
                        ]
                      },
                      {
                        "parameters": [
                          {
                            "subsample": 0.1,
                            "random_strength": 1,
                            "depth": 8,
                            "learning_rate": 0.5,
                            "iterations": 10
                          }
                        ],
                        "learn": [
                          0.861593484,
                          0.3967366871
                        ],
                        "iteration": 56,
                        "passed_time": 22.13342666,
                        "remaining_time": 72.22486596,
                        "test": [
                          0.8583510069,
                          0.3906453548
                        ]
                      },
                      {
                        "parameters": [
                          {
                            "subsample": 0.1,
                            "random_strength": 1,
                            "depth": 8,
                            "learning_rate": 0.01,
                            "iterations": 50
                          }
                        ],
                        "learn": [
                          0.845229181,
                          0.5217102509
                        ],
                        "iteration": 57,
                        "passed_time": 23.18429771,
                        "remaining_time": 73.94991511,
                        "test": [
                          0.867295273,
                          0.5064549461
                        ]
                      },
                      {
                        "parameters": [
                          {
                            "subsample": 0.1,
                            "random_strength": 1,
                            "depth": 8,
                            "learning_rate": 0.1,
                            "iterations": 50
                          }
                        ],
                        "learn": [
                          0.8713921958,
                          0.3886660269
                        ],
                        "iteration": 58,
                        "passed_time": 24.03240525,
                        "remaining_time": 74.94851807,
                        "test": [
                          0.8668008904,
                          0.3836361497
                        ]
                      },
                      {
                        "parameters": [
                          {
                            "subsample": 0.1,
                            "random_strength": 1,
                            "depth": 8,
                            "learning_rate": 0.5,
                            "iterations": 50
                          }
                        ],
                        "learn": [
                          0.9212574764,
                          0.3160695899
                        ],
                        "iteration": 59,
                        "passed_time": 24.60636309,
                        "remaining_time": 75.04940741,
                        "test": [
                          0.8415348313,
                          0.4136897389
                        ]
                      },
                      {
                        "parameters": [
                          {
                            "subsample": 0.1,
                            "random_strength": 1,
                            "depth": 8,
                            "learning_rate": 0.01,
                            "iterations": 100
                          }
                        ],
                        "learn": [
                          0.8490125374,
                          0.4616959834
                        ],
                        "iteration": 60,
                        "passed_time": 25.64554831,
                        "remaining_time": 76.51622611,
                        "test": [
                          0.8690506897,
                          0.4407379866
                        ]
                      },
                      {
                        "parameters": [
                          {
                            "subsample": 0.1,
                            "random_strength": 1,
                            "depth": 8,
                            "learning_rate": 0.1,
                            "iterations": 100
                          }
                        ],
                        "learn": [
                          0.8897022372,
                          0.3640579589
                        ],
                        "iteration": 61,
                        "passed_time": 26.73194297,
                        "remaining_time": 78.04002707,
                        "test": [
                          0.864558256,
                          0.3836445249
                        ]
                      },
                      {
                        "parameters": [
                          {
                            "subsample": 0.1,
                            "random_strength": 1,
                            "depth": 8,
                            "learning_rate": 0.5,
                            "iterations": 100
                          }
                        ],
                        "learn": [
                          0.9593452381,
                          0.2519660881
                        ],
                        "iteration": 62,
                        "passed_time": 27.85881368,
                        "remaining_time": 79.59661051,
                        "test": [
                          0.8270066682,
                          0.4485334961
                        ]
                      },
                      {
                        "parameters": [
                          {
                            "subsample": 0.1,
                            "random_strength": 10,
                            "depth": 8,
                            "learning_rate": 0.01,
                            "iterations": 10
                          }
                        ],
                        "learn": [
                          0.8299769956,
                          0.6425971705
                        ],
                        "iteration": 63,
                        "passed_time": 27.95338276,
                        "remaining_time": 78.18211742,
                        "test": [
                          0.8594209752,
                          0.6378493023
                        ]
                      },
                      {
                        "parameters": [
                          {
                            "subsample": 0.1,
                            "random_strength": 10,
                            "depth": 8,
                            "learning_rate": 0.1,
                            "iterations": 10
                          }
                        ],
                        "learn": [
                          0.8280963883,
                          0.4756244415
                        ],
                        "iteration": 64,
                        "passed_time": 28.04493663,
                        "remaining_time": 76.7999803,
                        "test": [
                          0.8567818793,
                          0.4511557868
                        ]
                      },
                      {
                        "parameters": [
                          {
                            "subsample": 0.1,
                            "random_strength": 10,
                            "depth": 8,
                            "learning_rate": 0.5,
                            "iterations": 10
                          }
                        ],
                        "learn": [
                          0.8423214286,
                          0.4188434703
                        ],
                        "iteration": 65,
                        "passed_time": 28.14438371,
                        "remaining_time": 75.47811995,
                        "test": [
                          0.8656688257,
                          0.3850125887
                        ]
                      },
                      {
                        "parameters": [
                          {
                            "subsample": 0.1,
                            "random_strength": 10,
                            "depth": 8,
                            "learning_rate": 0.01,
                            "iterations": 50
                          }
                        ],
                        "learn": [
                          0.8358830803,
                          0.524094883
                        ],
                        "iteration": 66,
                        "passed_time": 28.63071292,
                        "remaining_time": 75.20903693,
                        "test": [
                          0.8599010279,
                          0.5073054115
                        ]
                      },
                      {
                        "parameters": [
                          {
                            "subsample": 0.1,
                            "random_strength": 10,
                            "depth": 8,
                            "learning_rate": 0.1,
                            "iterations": 50
                          }
                        ],
                        "learn": [
                          0.85096072,
                          0.4121373331
                        ],
                        "iteration": 67,
                        "passed_time": 29.08671425,
                        "remaining_time": 74.85551461,
                        "test": [
                          0.8665525049,
                          0.3873629964
                        ]
                      },
                      {
                        "parameters": [
                          {
                            "subsample": 0.1,
                            "random_strength": 10,
                            "depth": 8,
                            "learning_rate": 0.5,
                            "iterations": 50
                          }
                        ],
                        "learn": [
                          0.9086430297,
                          0.335148217
                        ],
                        "iteration": 68,
                        "passed_time": 29.63478299,
                        "remaining_time": 74.73119188,
                        "test": [
                          0.8565860369,
                          0.3919483764
                        ]
                      },
                      {
                        "parameters": [
                          {
                            "subsample": 0.1,
                            "random_strength": 10,
                            "depth": 8,
                            "learning_rate": 0.01,
                            "iterations": 100
                          }
                        ],
                        "learn": [
                          0.8388207384,
                          0.468170631
                        ],
                        "iteration": 69,
                        "passed_time": 30.56951429,
                        "remaining_time": 75.55037103,
                        "test": [
                          0.8625257939,
                          0.4443285158
                        ]
                      },
                      {
                        "parameters": [
                          {
                            "subsample": 0.1,
                            "random_strength": 10,
                            "depth": 8,
                            "learning_rate": 0.1,
                            "iterations": 100
                          }
                        ],
                        "learn": [
                          0.8661913389,
                          0.3923425279
                        ],
                        "iteration": 70,
                        "passed_time": 31.49855592,
                        "remaining_time": 76.30636081,
                        "test": [
                          0.8680571478,
                          0.3829070314
                        ]
                      },
                      {
                        "parameters": [
                          {
                            "subsample": 0.1,
                            "random_strength": 10,
                            "depth": 8,
                            "learning_rate": 0.5,
                            "iterations": 100
                          }
                        ],
                        "learn": [
                          0.9493509892,
                          0.268452427
                        ],
                        "iteration": 71,
                        "passed_time": 32.60275245,
                        "remaining_time": 77.43153706,
                        "test": [
                          0.8417258971,
                          0.4222312599
                        ]
                      },
                      {
                        "parameters": [
                          {
                            "subsample": 0.1,
                            "random_strength": 100,
                            "depth": 8,
                            "learning_rate": 0.01,
                            "iterations": 10
                          }
                        ],
                        "learn": [
                          0.8216308661,
                          0.647310915
                        ],
                        "iteration": 72,
                        "passed_time": 32.69413191,
                        "remaining_time": 76.13701951,
                        "test": [
                          0.8462159425,
                          0.6421488635
                        ]
                      },
                      {
                        "parameters": [
                          {
                            "subsample": 0.1,
                            "random_strength": 100,
                            "depth": 8,
                            "learning_rate": 0.1,
                            "iterations": 10
                          }
                        ],
                        "learn": [
                          0.822001524,
                          0.4951291171
                        ],
                        "iteration": 73,
                        "passed_time": 32.78153894,
                        "remaining_time": 74.86594704,
                        "test": [
                          0.8445727769,
                          0.4742370692
                        ]
                      },
                      {
                        "parameters": [
                          {
                            "subsample": 0.1,
                            "random_strength": 100,
                            "depth": 8,
                            "learning_rate": 0.5,
                            "iterations": 10
                          }
                        ],
                        "learn": [
                          0.8326765585,
                          0.4283994949
                        ],
                        "iteration": 74,
                        "passed_time": 32.87577653,
                        "remaining_time": 73.64173942,
                        "test": [
                          0.8599177462,
                          0.3913116682
                        ]
                      },
                      {
                        "parameters": [
                          {
                            "subsample": 0.1,
                            "random_strength": 100,
                            "depth": 8,
                            "learning_rate": 0.01,
                            "iterations": 50
                          }
                        ],
                        "learn": [
                          0.8312990281,
                          0.5338653502
                        ],
                        "iteration": 75,
                        "passed_time": 33.32081327,
                        "remaining_time": 73.21810285,
                        "test": [
                          0.858625664,
                          0.5155999518
                        ]
                      },
                      {
                        "parameters": [
                          {
                            "subsample": 0.1,
                            "random_strength": 100,
                            "depth": 8,
                            "learning_rate": 0.1,
                            "iterations": 50
                          }
                        ],
                        "learn": [
                          0.8466681044,
                          0.4172601353
                        ],
                        "iteration": 76,
                        "passed_time": 33.77933811,
                        "remaining_time": 72.82298865,
                        "test": [
                          0.8625162406,
                          0.3926759937
                        ]
                      },
                      {
                        "parameters": [
                          {
                            "subsample": 0.1,
                            "random_strength": 100,
                            "depth": 8,
                            "learning_rate": 0.5,
                            "iterations": 50
                          }
                        ],
                        "learn": [
                          0.9025977686,
                          0.3429923822
                        ],
                        "iteration": 77,
                        "passed_time": 34.28853427,
                        "remaining_time": 72.53343787,
                        "test": [
                          0.8433762276,
                          0.4074577517
                        ]
                      },
                      {
                        "parameters": [
                          {
                            "subsample": 0.1,
                            "random_strength": 100,
                            "depth": 8,
                            "learning_rate": 0.01,
                            "iterations": 100
                          }
                        ],
                        "learn": [
                          0.8350930239,
                          0.4777759639
                        ],
                        "iteration": 78,
                        "passed_time": 35.20987382,
                        "remaining_time": 73.09391528,
                        "test": [
                          0.8602473346,
                          0.4530508506
                        ]
                      },
                      {
                        "parameters": [
                          {
                            "subsample": 0.1,
                            "random_strength": 100,
                            "depth": 8,
                            "learning_rate": 0.1,
                            "iterations": 100
                          }
                        ],
                        "learn": [
                          0.8597800207,
                          0.4006492141
                        ],
                        "iteration": 79,
                        "passed_time": 36.12465212,
                        "remaining_time": 73.60397869,
                        "test": [
                          0.8676368031,
                          0.3844399557
                        ]
                      },
                      {
                        "parameters": [
                          {
                            "subsample": 0.1,
                            "random_strength": 100,
                            "depth": 8,
                            "learning_rate": 0.5,
                            "iterations": 100
                          }
                        ],
                        "learn": [
                          0.9465630032,
                          0.2745329461
                        ],
                        "iteration": 80,
                        "passed_time": 37.21166107,
                        "remaining_time": 74.42332214,
                        "test": [
                          0.8357789751,
                          0.4256792738
                        ]
                      },
                      {
                        "parameters": [
                          {
                            "subsample": 1,
                            "random_strength": 1,
                            "depth": 2,
                            "learning_rate": 0.01,
                            "iterations": 10
                          }
                        ],
                        "learn": [
                          0.7928493789,
                          0.6533067921
                        ],
                        "iteration": 81,
                        "passed_time": 37.25530593,
                        "remaining_time": 73.14761287,
                        "test": [
                          0.8182391379,
                          0.6500077937
                        ]
                      },
                      {
                        "parameters": [
                          {
                            "subsample": 1,
                            "random_strength": 1,
                            "depth": 2,
                            "learning_rate": 0.1,
                            "iterations": 10
                          }
                        ],
                        "learn": [
                          0.824238124,
                          0.486461313
                        ],
                        "iteration": 82,
                        "passed_time": 37.29987992,
                        "remaining_time": 71.90338297,
                        "test": [
                          0.8530154954,
                          0.4621342108
                        ]
                      },
                      {
                        "parameters": [
                          {
                            "subsample": 1,
                            "random_strength": 1,
                            "depth": 2,
                            "learning_rate": 0.5,
                            "iterations": 10
                          }
                        ],
                        "learn": [
                          0.8366775937,
                          0.4260113337
                        ],
                        "iteration": 83,
                        "passed_time": 37.34117032,
                        "remaining_time": 70.68150096,
                        "test": [
                          0.8613196912,
                          0.3895776668
                        ]
                      },
                      {
                        "parameters": [
                          {
                            "subsample": 1,
                            "random_strength": 1,
                            "depth": 2,
                            "learning_rate": 0.01,
                            "iterations": 50
                          }
                        ],
                        "learn": [
                          0.8127692949,
                          0.5478381754
                        ],
                        "iteration": 84,
                        "passed_time": 37.57356192,
                        "remaining_time": 69.84262099,
                        "test": [
                          0.8388121441,
                          0.5331158837
                        ]
                      },
                      {
                        "parameters": [
                          {
                            "subsample": 1,
                            "random_strength": 1,
                            "depth": 2,
                            "learning_rate": 0.1,
                            "iterations": 50
                          }
                        ],
                        "learn": [
                          0.843584081,
                          0.419721854
                        ],
                        "iteration": 85,
                        "passed_time": 37.76908447,
                        "remaining_time": 68.95053794,
                        "test": [
                          0.867658298,
                          0.3855270943
                        ]
                      },
                      {
                        "parameters": [
                          {
                            "subsample": 1,
                            "random_strength": 1,
                            "depth": 2,
                            "learning_rate": 0.5,
                            "iterations": 50
                          }
                        ],
                        "learn": [
                          0.8648027375,
                          0.3920660348
                        ],
                        "iteration": 86,
                        "passed_time": 37.97933565,
                        "remaining_time": 68.10087772,
                        "test": [
                          0.8611787802,
                          0.3865795475
                        ]
                      },
                      {
                        "parameters": [
                          {
                            "subsample": 1,
                            "random_strength": 1,
                            "depth": 2,
                            "learning_rate": 0.01,
                            "iterations": 100
                          }
                        ],
                        "learn": [
                          0.8314750115,
                          0.4829019197
                        ],
                        "iteration": 87,
                        "passed_time": 38.36865477,
                        "remaining_time": 67.58115329,
                        "test": [
                          0.8621747105,
                          0.4577325159
                        ]
                      },
                      {
                        "parameters": [
                          {
                            "subsample": 1,
                            "random_strength": 1,
                            "depth": 2,
                            "learning_rate": 0.1,
                            "iterations": 100
                          }
                        ],
                        "learn": [
                          0.8502465781,
                          0.4099406071
                        ],
                        "iteration": 88,
                        "passed_time": 38.83426053,
                        "remaining_time": 67.19636092,
                        "test": [
                          0.8682529902,
                          0.3803211715
                        ]
                      },
                      {
                        "parameters": [
                          {
                            "subsample": 1,
                            "random_strength": 1,
                            "depth": 2,
                            "learning_rate": 0.5,
                            "iterations": 100
                          }
                        ],
                        "learn": [
                          0.881751064,
                          0.3698710071
                        ],
                        "iteration": 89,
                        "passed_time": 39.24023321,
                        "remaining_time": 66.70839646,
                        "test": [
                          0.8567412778,
                          0.3915875731
                        ]
                      },
                      {
                        "parameters": [
                          {
                            "subsample": 1,
                            "random_strength": 10,
                            "depth": 2,
                            "learning_rate": 0.01,
                            "iterations": 10
                          }
                        ],
                        "learn": [
                          0.8150600989,
                          0.6532041077
                        ],
                        "iteration": 90,
                        "passed_time": 39.28023246,
                        "remaining_time": 65.61093773,
                        "test": [
                          0.8367438572,
                          0.6498267256
                        ]
                      },
                      {
                        "parameters": [
                          {
                            "subsample": 1,
                            "random_strength": 10,
                            "depth": 2,
                            "learning_rate": 0.1,
                            "iterations": 10
                          }
                        ],
                        "learn": [
                          0.8194164079,
                          0.501175506
                        ],
                        "iteration": 91,
                        "passed_time": 39.32137863,
                        "remaining_time": 64.53834971,
                        "test": [
                          0.8529080209,
                          0.4779440577
                        ]
                      },
                      {
                        "parameters": [
                          {
                            "subsample": 1,
                            "random_strength": 10,
                            "depth": 2,
                            "learning_rate": 0.5,
                            "iterations": 10
                          }
                        ],
                        "learn": [
                          0.8263696227,
                          0.437853438
                        ],
                        "iteration": 92,
                        "passed_time": 39.3642982,
                        "remaining_time": 63.49080355,
                        "test": [
                          0.8537152738,
                          0.4017834794
                        ]
                      },
                      {
                        "parameters": [
                          {
                            "subsample": 1,
                            "random_strength": 10,
                            "depth": 2,
                            "learning_rate": 0.01,
                            "iterations": 50
                          }
                        ],
                        "learn": [
                          0.8251460778,
                          0.5504618825
                        ],
                        "iteration": 93,
                        "passed_time": 39.58558539,
                        "remaining_time": 62.74736408,
                        "test": [
                          0.8546992625,
                          0.5342420564
                        ]
                      },
                      {
                        "parameters": [
                          {
                            "subsample": 1,
                            "random_strength": 10,
                            "depth": 2,
                            "learning_rate": 0.1,
                            "iterations": 50
                          }
                        ],
                        "learn": [
                          0.8328626064,
                          0.4358292421
                        ],
                        "iteration": 94,
                        "passed_time": 39.79653752,
                        "remaining_time": 61.99881635,
                        "test": [
                          0.8635766556,
                          0.3969302702
                        ]
                      },
                      {
                        "parameters": [
                          {
                            "subsample": 1,
                            "random_strength": 10,
                            "depth": 2,
                            "learning_rate": 0.5,
                            "iterations": 50
                          }
                        ],
                        "learn": [
                          0.8586413043,
                          0.3982652413
                        ],
                        "iteration": 95,
                        "passed_time": 39.99552967,
                        "remaining_time": 61.24315481,
                        "test": [
                          0.8654276052,
                          0.3820007886
                        ]
                      },
                      {
                        "parameters": [
                          {
                            "subsample": 1,
                            "random_strength": 10,
                            "depth": 2,
                            "learning_rate": 0.01,
                            "iterations": 100
                          }
                        ],
                        "learn": [
                          0.8278503853,
                          0.5007612228
                        ],
                        "iteration": 96,
                        "passed_time": 40.38884476,
                        "remaining_time": 60.79145706,
                        "test": [
                          0.8567532195,
                          0.4774379016
                        ]
                      },
                      {
                        "parameters": [
                          {
                            "subsample": 1,
                            "random_strength": 10,
                            "depth": 2,
                            "learning_rate": 0.1,
                            "iterations": 100
                          }
                        ],
                        "learn": [
                          0.8416919715,
                          0.4210868802
                        ],
                        "iteration": 97,
                        "passed_time": 40.80068028,
                        "remaining_time": 60.36835347,
                        "test": [
                          0.8686804998,
                          0.3823359506
                        ]
                      },
                      {
                        "parameters": [
                          {
                            "subsample": 1,
                            "random_strength": 10,
                            "depth": 2,
                            "learning_rate": 0.5,
                            "iterations": 100
                          }
                        ],
                        "learn": [
                          0.8754593685,
                          0.3775510301
                        ],
                        "iteration": 98,
                        "passed_time": 41.20947392,
                        "remaining_time": 59.94105298,
                        "test": [
                          0.8605004968,
                          0.3878462316
                        ]
                      },
                      {
                        "parameters": [
                          {
                            "subsample": 1,
                            "random_strength": 100,
                            "depth": 2,
                            "learning_rate": 0.01,
                            "iterations": 10
                          }
                        ],
                        "learn": [
                          0.8164938463,
                          0.6619092686
                        ],
                        "iteration": 99,
                        "passed_time": 41.24953082,
                        "remaining_time": 58.98682907,
                        "test": [
                          0.8388646872,
                          0.6596821853
                        ]
                      },
                      {
                        "parameters": [
                          {
                            "subsample": 1,
                            "random_strength": 100,
                            "depth": 2,
                            "learning_rate": 0.1,
                            "iterations": 10
                          }
                        ],
                        "learn": [
                          0.8067838452,
                          0.5272323553
                        ],
                        "iteration": 100,
                        "passed_time": 41.28953078,
                        "remaining_time": 58.05062743,
                        "test": [
                          0.8437296993,
                          0.5069371429
                        ]
                      },
                      {
                        "parameters": [
                          {
                            "subsample": 1,
                            "random_strength": 100,
                            "depth": 2,
                            "learning_rate": 0.5,
                            "iterations": 10
                          }
                        ],
                        "learn": [
                          0.8258980331,
                          0.4387193903
                        ],
                        "iteration": 101,
                        "passed_time": 41.32968614,
                        "remaining_time": 57.13221319,
                        "test": [
                          0.8588310597,
                          0.4003072726
                        ]
                      },
                      {
                        "parameters": [
                          {
                            "subsample": 1,
                            "random_strength": 100,
                            "depth": 2,
                            "learning_rate": 0.01,
                            "iterations": 50
                          }
                        ],
                        "learn": [
                          0.8239323096,
                          0.5887182385
                        ],
                        "iteration": 102,
                        "passed_time": 41.53258808,
                        "remaining_time": 56.45206147,
                        "test": [
                          0.8495954182,
                          0.579671581
                        ]
                      },
                      {
                        "parameters": [
                          {
                            "subsample": 1,
                            "random_strength": 100,
                            "depth": 2,
                            "learning_rate": 0.1,
                            "iterations": 50
                          }
                        ],
                        "learn": [
                          0.8308970267,
                          0.4437371777
                        ],
                        "iteration": 103,
                        "passed_time": 41.75764629,
                        "remaining_time": 55.81070033,
                        "test": [
                          0.858477588,
                          0.4085812458
                        ]
                      },
                      {
                        "parameters": [
                          {
                            "subsample": 1,
                            "random_strength": 100,
                            "depth": 2,
                            "learning_rate": 0.5,
                            "iterations": 50
                          }
                        ],
                        "learn": [
                          0.8552885611,
                          0.4026442178
                        ],
                        "iteration": 104,
                        "passed_time": 41.95005129,
                        "remaining_time": 55.13435312,
                        "test": [
                          0.86651668,
                          0.3810302829
                        ]
                      },
                      {
                        "parameters": [
                          {
                            "subsample": 1,
                            "random_strength": 100,
                            "depth": 2,
                            "learning_rate": 0.01,
                            "iterations": 100
                          }
                        ],
                        "learn": [
                          0.8312373476,
                          0.5274760791
                        ],
                        "iteration": 105,
                        "passed_time": 42.34311648,
                        "remaining_time": 54.72648074,
                        "test": [
                          0.8598389316,
                          0.5095538343
                        ]
                      },
                      {
                        "parameters": [
                          {
                            "subsample": 1,
                            "random_strength": 100,
                            "depth": 2,
                            "learning_rate": 0.1,
                            "iterations": 100
                          }
                        ],
                        "learn": [
                          0.8346596791,
                          0.4314364145
                        ],
                        "iteration": 106,
                        "passed_time": 42.75109489,
                        "remaining_time": 54.33784023,
                        "test": [
                          0.8604551187,
                          0.3951863046
                        ]
                      },
                      {
                        "parameters": [
                          {
                            "subsample": 1,
                            "random_strength": 100,
                            "depth": 2,
                            "learning_rate": 0.5,
                            "iterations": 100
                          }
                        ],
                        "learn": [
                          0.8742450253,
                          0.3792011373
                        ],
                        "iteration": 107,
                        "passed_time": 43.14258602,
                        "remaining_time": 53.92823253,
                        "test": [
                          0.8624756391,
                          0.3855643636
                        ]
                      },
                      {
                        "parameters": [
                          {
                            "subsample": 1,
                            "random_strength": 1,
                            "depth": 4,
                            "learning_rate": 0.01,
                            "iterations": 10
                          }
                        ],
                        "learn": [
                          0.834803744,
                          0.637811214
                        ],
                        "iteration": 108,
                        "passed_time": 43.21186206,
                        "remaining_time": 53.12283959,
                        "test": [
                          0.8581432229,
                          0.6328425394
                        ]
                      },
                      {
                        "parameters": [
                          {
                            "subsample": 1,
                            "random_strength": 1,
                            "depth": 4,
                            "learning_rate": 0.1,
                            "iterations": 10
                          }
                        ],
                        "learn": [
                          0.8452661318,
                          0.4515278852
                        ],
                        "iteration": 109,
                        "passed_time": 43.28495522,
                        "remaining_time": 52.33544586,
                        "test": [
                          0.8692178723,
                          0.4271164568
                        ]
                      },
                      {
                        "parameters": [
                          {
                            "subsample": 1,
                            "random_strength": 1,
                            "depth": 4,
                            "learning_rate": 0.5,
                            "iterations": 10
                          }
                        ],
                        "learn": [
                          0.8527920117,
                          0.4063380475
                        ],
                        "iteration": 110,
                        "passed_time": 43.35666452,
                        "remaining_time": 51.55927672,
                        "test": [
                          0.8691008445,
                          0.3784766247
                        ]
                      },
                      {
                        "parameters": [
                          {
                            "subsample": 1,
                            "random_strength": 1,
                            "depth": 4,
                            "learning_rate": 0.01,
                            "iterations": 50
                          }
                        ],
                        "learn": [
                          0.8381773349,
                          0.5139955267
                        ],
                        "iteration": 111,
                        "passed_time": 43.72847785,
                        "remaining_time": 51.14670177,
                        "test": [
                          0.8634309679,
                          0.4963320984
                        ]
                      },
                      {
                        "parameters": [
                          {
                            "subsample": 1,
                            "random_strength": 1,
                            "depth": 4,
                            "learning_rate": 0.1,
                            "iterations": 50
                          }
                        ],
                        "learn": [
                          0.8599641994,
                          0.3999000694
                        ],
                        "iteration": 112,
                        "passed_time": 44.06663482,
                        "remaining_time": 50.69612856,
                        "test": [
                          0.872100577,
                          0.3778023049
                        ]
                      },
                      {
                        "parameters": [
                          {
                            "subsample": 1,
                            "random_strength": 1,
                            "depth": 4,
                            "learning_rate": 0.5,
                            "iterations": 50
                          }
                        ],
                        "learn": [
                          0.922385697,
                          0.3137345661
                        ],
                        "iteration": 113,
                        "passed_time": 44.41742184,
                        "remaining_time": 50.26181945,
                        "test": [
                          0.8478662731,
                          0.4067368116
                        ]
                      },
                      {
                        "parameters": [
                          {
                            "subsample": 1,
                            "random_strength": 1,
                            "depth": 4,
                            "learning_rate": 0.01,
                            "iterations": 100
                          }
                        ],
                        "learn": [
                          0.8423967679,
                          0.4579220307
                        ],
                        "iteration": 114,
                        "passed_time": 45.12913156,
                        "remaining_time": 50.23068556,
                        "test": [
                          0.8663948756,
                          0.43361999
                        ]
                      },
                      {
                        "parameters": [
                          {
                            "subsample": 1,
                            "random_strength": 1,
                            "depth": 4,
                            "learning_rate": 0.1,
                            "iterations": 100
                          }
                        ],
                        "learn": [
                          0.8744674488,
                          0.3813224789
                        ],
                        "iteration": 115,
                        "passed_time": 45.83570196,
                        "remaining_time": 50.18219094,
                        "test": [
                          0.869423268,
                          0.3781939487
                        ]
                      },
                      {
                        "parameters": [
                          {
                            "subsample": 1,
                            "random_strength": 1,
                            "depth": 4,
                            "learning_rate": 0.5,
                            "iterations": 100
                          }
                        ],
                        "learn": [
                          0.9661047849,
                          0.2316987814
                        ],
                        "iteration": 116,
                        "passed_time": 46.52183347,
                        "remaining_time": 50.10043604,
                        "test": [
                          0.8378663686,
                          0.4359466455
                        ]
                      },
                      {
                        "parameters": [
                          {
                            "subsample": 1,
                            "random_strength": 10,
                            "depth": 4,
                            "learning_rate": 0.01,
                            "iterations": 10
                          }
                        ],
                        "learn": [
                          0.8267210145,
                          0.644414016
                        ],
                        "iteration": 117,
                        "passed_time": 46.58961593,
                        "remaining_time": 49.35340671,
                        "test": [
                          0.8574506095,
                          0.6394471374
                        ]
                      },
                      {
                        "parameters": [
                          {
                            "subsample": 1,
                            "random_strength": 10,
                            "depth": 4,
                            "learning_rate": 0.1,
                            "iterations": 10
                          }
                        ],
                        "learn": [
                          0.8287786117,
                          0.470879
                        ],
                        "iteration": 118,
                        "passed_time": 46.67712974,
                        "remaining_time": 48.63835368,
                        "test": [
                          0.856082101,
                          0.4467609447
                        ]
                      },
                      {
                        "parameters": [
                          {
                            "subsample": 1,
                            "random_strength": 10,
                            "depth": 4,
                            "learning_rate": 0.5,
                            "iterations": 10
                          }
                        ],
                        "learn": [
                          0.8383130607,
                          0.4234895253
                        ],
                        "iteration": 119,
                        "passed_time": 46.74960135,
                        "remaining_time": 47.91834138,
                        "test": [
                          0.8602521113,
                          0.3922289748
                        ]
                      },
                      {
                        "parameters": [
                          {
                            "subsample": 1,
                            "random_strength": 10,
                            "depth": 4,
                            "learning_rate": 0.01,
                            "iterations": 50
                          }
                        ],
                        "learn": [
                          0.8308239878,
                          0.5315377311
                        ],
                        "iteration": 120,
                        "passed_time": 47.08485477,
                        "remaining_time": 47.4739858,
                        "test": [
                          0.8588071764,
                          0.5135461949
                        ]
                      },
                      {
                        "parameters": [
                          {
                            "subsample": 1,
                            "random_strength": 10,
                            "depth": 4,
                            "learning_rate": 0.1,
                            "iterations": 50
                          }
                        ],
                        "learn": [
                          0.8449256671,
                          0.4186792101
                        ],
                        "iteration": 121,
                        "passed_time": 47.40105983,
                        "remaining_time": 47.01252655,
                        "test": [
                          0.8666193779,
                          0.3863486394
                        ]
                      },
                      {
                        "parameters": [
                          {
                            "subsample": 1,
                            "random_strength": 10,
                            "depth": 4,
                            "learning_rate": 0.5,
                            "iterations": 50
                          }
                        ],
                        "learn": [
                          0.9109428916,
                          0.3309882539
                        ],
                        "iteration": 122,
                        "passed_time": 47.7553735,
                        "remaining_time": 46.59060829,
                        "test": [
                          0.8458815774,
                          0.4105572634
                        ]
                      },
                      {
                        "parameters": [
                          {
                            "subsample": 1,
                            "random_strength": 10,
                            "depth": 4,
                            "learning_rate": 0.01,
                            "iterations": 100
                          }
                        ],
                        "learn": [
                          0.8327090522,
                          0.4795413844
                        ],
                        "iteration": 123,
                        "passed_time": 48.38773135,
                        "remaining_time": 46.43661315,
                        "test": [
                          0.8598365432,
                          0.4546750738
                        ]
                      },
                      {
                        "parameters": [
                          {
                            "subsample": 1,
                            "random_strength": 10,
                            "depth": 4,
                            "learning_rate": 0.1,
                            "iterations": 100
                          }
                        ],
                        "learn": [
                          0.8535341902,
                          0.4065464974
                        ],
                        "iteration": 124,
                        "passed_time": 49.04087429,
                        "remaining_time": 46.29458533,
                        "test": [
                          0.868718713,
                          0.3801188516
                        ]
                      },
                      {
                        "parameters": [
                          {
                            "subsample": 1,
                            "random_strength": 10,
                            "depth": 4,
                            "learning_rate": 0.5,
                            "iterations": 100
                          }
                        ],
                        "learn": [
                          0.9589594836,
                          0.2476476465
                        ],
                        "iteration": 125,
                        "passed_time": 49.76568929,
                        "remaining_time": 46.2109972,
                        "test": [
                          0.8313128129,
                          0.4464851483
                        ]
                      },
                      {
                        "parameters": [
                          {
                            "subsample": 1,
                            "random_strength": 100,
                            "depth": 4,
                            "learning_rate": 0.01,
                            "iterations": 10
                          }
                        ],
                        "learn": [
                          0.8252487348,
                          0.6530811054
                        ],
                        "iteration": 126,
                        "passed_time": 49.84293789,
                        "remaining_time": 45.52583304,
                        "test": [
                          0.8508301807,
                          0.6492897081
                        ]
                      },
                      {
                        "parameters": [
                          {
                            "subsample": 1,
                            "random_strength": 100,
                            "depth": 4,
                            "learning_rate": 0.1,
                            "iterations": 10
                          }
                        ],
                        "learn": [
                          0.8221773637,
                          0.5074675966
                        ],
                        "iteration": 127,
                        "passed_time": 49.90424985,
                        "remaining_time": 44.83584948,
                        "test": [
                          0.8465144828,
                          0.4882120794
                        ]
                      },
                      {
                        "parameters": [
                          {
                            "subsample": 1,
                            "random_strength": 100,
                            "depth": 4,
                            "learning_rate": 0.5,
                            "iterations": 10
                          }
                        ],
                        "learn": [
                          0.8180867552,
                          0.4462744669
                        ],
                        "iteration": 128,
                        "passed_time": 49.97520806,
                        "remaining_time": 44.16413736,
                        "test": [
                          0.841384367,
                          0.4115944869
                        ]
                      },
                      {
                        "parameters": [
                          {
                            "subsample": 1,
                            "random_strength": 100,
                            "depth": 4,
                            "learning_rate": 0.01,
                            "iterations": 50
                          }
                        ],
                        "learn": [
                          0.8320600414,
                          0.5505961369
                        ],
                        "iteration": 129,
                        "passed_time": 50.29822379,
                        "remaining_time": 43.72076376,
                        "test": [
                          0.8563018266,
                          0.5361583591
                        ]
                      },
                      {
                        "parameters": [
                          {
                            "subsample": 1,
                            "random_strength": 100,
                            "depth": 4,
                            "learning_rate": 0.1,
                            "iterations": 50
                          }
                        ],
                        "learn": [
                          0.8400654187,
                          0.4268571689
                        ],
                        "iteration": 130,
                        "passed_time": 50.60630027,
                        "remaining_time": 43.2664552,
                        "test": [
                          0.8647254385,
                          0.3922106075
                        ]
                      },
                      {
                        "parameters": [
                          {
                            "subsample": 1,
                            "random_strength": 100,
                            "depth": 4,
                            "learning_rate": 0.5,
                            "iterations": 50
                          }
                        ],
                        "learn": [
                          0.9005660513,
                          0.3426750925
                        ],
                        "iteration": 131,
                        "passed_time": 50.97200711,
                        "remaining_time": 42.86282416,
                        "test": [
                          0.8441882571,
                          0.4088118208
                        ]
                      },
                      {
                        "parameters": [
                          {
                            "subsample": 1,
                            "random_strength": 100,
                            "depth": 4,
                            "learning_rate": 0.01,
                            "iterations": 100
                          }
                        ],
                        "learn": [
                          0.8342250403,
                          0.4932927145
                        ],
                        "iteration": 132,
                        "passed_time": 51.59101393,
                        "remaining_time": 42.66925964,
                        "test": [
                          0.8589170392,
                          0.4713159155
                        ]
                      },
                      {
                        "parameters": [
                          {
                            "subsample": 1,
                            "random_strength": 100,
                            "depth": 4,
                            "learning_rate": 0.1,
                            "iterations": 100
                          }
                        ],
                        "learn": [
                          0.8477951748,
                          0.4148673973
                        ],
                        "iteration": 133,
                        "passed_time": 52.22074483,
                        "remaining_time": 42.47806856,
                        "test": [
                          0.8684321143,
                          0.3832468408
                        ]
                      },
                      {
                        "parameters": [
                          {
                            "subsample": 1,
                            "random_strength": 100,
                            "depth": 4,
                            "learning_rate": 0.5,
                            "iterations": 100
                          }
                        ],
                        "learn": [
                          0.9521391189,
                          0.2601783009
                        ],
                        "iteration": 134,
                        "passed_time": 52.94121341,
                        "remaining_time": 42.35297073,
                        "test": [
                          0.8320173679,
                          0.4296636604
                        ]
                      },
                      {
                        "parameters": [
                          {
                            "subsample": 1,
                            "random_strength": 1,
                            "depth": 8,
                            "learning_rate": 0.01,
                            "iterations": 10
                          }
                        ],
                        "learn": [
                          0.8369189959,
                          0.6394586275
                        ],
                        "iteration": 135,
                        "passed_time": 53.0511458,
                        "remaining_time": 41.73876913,
                        "test": [
                          0.8589337575,
                          0.6356226514
                        ]
                      },
                      {
                        "parameters": [
                          {
                            "subsample": 1,
                            "random_strength": 1,
                            "depth": 8,
                            "learning_rate": 0.1,
                            "iterations": 10
                          }
                        ],
                        "learn": [
                          0.8482611571,
                          0.4532639477
                        ],
                        "iteration": 136,
                        "passed_time": 53.16563401,
                        "remaining_time": 41.13545405,
                        "test": [
                          0.861436719,
                          0.4338060727
                        ]
                      },
                      {
                        "parameters": [
                          {
                            "subsample": 1,
                            "random_strength": 1,
                            "depth": 8,
                            "learning_rate": 0.5,
                            "iterations": 10
                          }
                        ],
                        "learn": [
                          0.8716913964,
                          0.3840960555
                        ],
                        "iteration": 137,
                        "passed_time": 53.27413105,
                        "remaining_time": 40.53466493,
                        "test": [
                          0.8521007681,
                          0.3976652641
                        ]
                      },
                      {
                        "parameters": [
                          {
                            "subsample": 1,
                            "random_strength": 1,
                            "depth": 8,
                            "learning_rate": 0.01,
                            "iterations": 50
                          }
                        ],
                        "learn": [
                          0.8450117897,
                          0.5124097377
                        ],
                        "iteration": 138,
                        "passed_time": 53.85078391,
                        "remaining_time": 40.291234,
                        "test": [
                          0.8648233597,
                          0.4975256734
                        ]
                      },
                      {
                        "parameters": [
                          {
                            "subsample": 1,
                            "random_strength": 1,
                            "depth": 8,
                            "learning_rate": 0.1,
                            "iterations": 50
                          }
                        ],
                        "learn": [
                          0.8796944732,
                          0.3775952701
                        ],
                        "iteration": 139,
                        "passed_time": 54.430245,
                        "remaining_time": 40.04510882,
                        "test": [
                          0.8670922657,
                          0.3824520802
                        ]
                      },
                      {
                        "parameters": [
                          {
                            "subsample": 1,
                            "random_strength": 1,
                            "depth": 8,
                            "learning_rate": 0.5,
                            "iterations": 50
                          }
                        ],
                        "learn": [
                          0.9725493156,
                          0.215718225
                        ],
                        "iteration": 140,
                        "passed_time": 55.06609303,
                        "remaining_time": 39.83504602,
                        "test": [
                          0.8159439604,
                          0.4745903085
                        ]
                      },
                      {
                        "parameters": [
                          {
                            "subsample": 1,
                            "random_strength": 1,
                            "depth": 8,
                            "learning_rate": 0.01,
                            "iterations": 100
                          }
                        ],
                        "learn": [
                          0.8512799057,
                          0.4508976381
                        ],
                        "iteration": 141,
                        "passed_time": 56.1922053,
                        "remaining_time": 39.96769532,
                        "test": [
                          0.8650192021,
                          0.4332733021
                        ]
                      },
                      {
                        "parameters": [
                          {
                            "subsample": 1,
                            "random_strength": 1,
                            "depth": 8,
                            "learning_rate": 0.1,
                            "iterations": 100
                          }
                        ],
                        "learn": [
                          0.9120643547,
                          0.3350129964
                        ],
                        "iteration": 142,
                        "passed_time": 57.33942638,
                        "remaining_time": 40.09750096,
                        "test": [
                          0.860665291,
                          0.3879861173
                        ]
                      },
                      {
                        "parameters": [
                          {
                            "subsample": 1,
                            "random_strength": 1,
                            "depth": 8,
                            "learning_rate": 0.5,
                            "iterations": 100
                          }
                        ],
                        "learn": [
                          0.9982822924,
                          0.1090814789
                        ],
                        "iteration": 143,
                        "passed_time": 58.57934566,
                        "remaining_time": 40.27330014,
                        "test": [
                          0.8058986778,
                          0.4995058326
                        ]
                      },
                      {
                        "parameters": [
                          {
                            "subsample": 1,
                            "random_strength": 10,
                            "depth": 8,
                            "learning_rate": 0.01,
                            "iterations": 10
                          }
                        ],
                        "learn": [
                          0.8321270416,
                          0.6466916268
                        ],
                        "iteration": 144,
                        "passed_time": 58.68429402,
                        "remaining_time": 39.66248837,
                        "test": [
                          0.8573526883,
                          0.6423484677
                        ]
                      },
                      {
                        "parameters": [
                          {
                            "subsample": 1,
                            "random_strength": 10,
                            "depth": 8,
                            "learning_rate": 0.1,
                            "iterations": 10
                          }
                        ],
                        "learn": [
                          0.8330536865,
                          0.4687355534
                        ],
                        "iteration": 145,
                        "passed_time": 58.81811946,
                        "remaining_time": 39.0777917,
                        "test": [
                          0.8595212847,
                          0.443647415
                        ]
                      },
                      {
                        "parameters": [
                          {
                            "subsample": 1,
                            "random_strength": 10,
                            "depth": 8,
                            "learning_rate": 0.5,
                            "iterations": 10
                          }
                        ],
                        "learn": [
                          0.8465665977,
                          0.4146415108
                        ],
                        "iteration": 146,
                        "passed_time": 58.92549958,
                        "remaining_time": 38.48195891,
                        "test": [
                          0.8659482594,
                          0.3845622033
                        ]
                      },
                      {
                        "parameters": [
                          {
                            "subsample": 1,
                            "random_strength": 10,
                            "depth": 8,
                            "learning_rate": 0.01,
                            "iterations": 50
                          }
                        ],
                        "learn": [
                          0.8337721417,
                          0.5280252816
                        ],
                        "iteration": 147,
                        "passed_time": 59.48750211,
                        "remaining_time": 38.18454527,
                        "test": [
                          0.8601374718,
                          0.509843669
                        ]
                      },
                      {
                        "parameters": [
                          {
                            "subsample": 1,
                            "random_strength": 10,
                            "depth": 8,
                            "learning_rate": 0.1,
                            "iterations": 50
                          }
                        ],
                        "learn": [
                          0.8515809754,
                          0.4114868035
                        ],
                        "iteration": 148,
                        "passed_time": 60.03257432,
                        "remaining_time": 37.87289923,
                        "test": [
                          0.8659410944,
                          0.3867981479
                        ]
                      },
                      {
                        "parameters": [
                          {
                            "subsample": 1,
                            "random_strength": 10,
                            "depth": 8,
                            "learning_rate": 0.5,
                            "iterations": 50
                          }
                        ],
                        "learn": [
                          0.9591708362,
                          0.2458618359
                        ],
                        "iteration": 149,
                        "passed_time": 60.62288005,
                        "remaining_time": 37.58618563,
                        "test": [
                          0.8285566892,
                          0.4462002476
                        ]
                      },
                      {
                        "parameters": [
                          {
                            "subsample": 1,
                            "random_strength": 10,
                            "depth": 8,
                            "learning_rate": 0.01,
                            "iterations": 100
                          }
                        ],
                        "learn": [
                          0.8371123764,
                          0.4711342782
                        ],
                        "iteration": 150,
                        "passed_time": 61.70787873,
                        "remaining_time": 37.59685327,
                        "test": [
                          0.8626093852,
                          0.4458016421
                        ]
                      },
                      {
                        "parameters": [
                          {
                            "subsample": 1,
                            "random_strength": 10,
                            "depth": 8,
                            "learning_rate": 0.1,
                            "iterations": 100
                          }
                        ],
                        "learn": [
                          0.8655795664,
                          0.3927834967
                        ],
                        "iteration": 151,
                        "passed_time": 62.78715906,
                        "remaining_time": 37.58968075,
                        "test": [
                          0.8680571478,
                          0.381496145
                        ]
                      },
                      {
                        "parameters": [
                          {
                            "subsample": 1,
                            "random_strength": 10,
                            "depth": 8,
                            "learning_rate": 0.5,
                            "iterations": 100
                          }
                        ],
                        "learn": [
                          0.9973441454,
                          0.1182637441
                        ],
                        "iteration": 152,
                        "passed_time": 64.488739,
                        "remaining_time": 37.93455235,
                        "test": [
                          0.8091229126,
                          0.5278798053
                        ]
                      },
                      {
                        "parameters": [
                          {
                            "subsample": 1,
                            "random_strength": 100,
                            "depth": 8,
                            "learning_rate": 0.01,
                            "iterations": 10
                          }
                        ],
                        "learn": [
                          0.8144266161,
                          0.6507834832
                        ],
                        "iteration": 153,
                        "passed_time": 64.65611606,
                        "remaining_time": 37.36619694,
                        "test": [
                          0.8419742825,
                          0.6466598742
                        ]
                      },
                      {
                        "parameters": [
                          {
                            "subsample": 1,
                            "random_strength": 100,
                            "depth": 8,
                            "learning_rate": 0.1,
                            "iterations": 10
                          }
                        ],
                        "learn": [
                          0.8195843398,
                          0.4881578962
                        ],
                        "iteration": 154,
                        "passed_time": 64.83906766,
                        "remaining_time": 36.81185777,
                        "test": [
                          0.8484155871,
                          0.4631960302
                        ]
                      },
                      {
                        "parameters": [
                          {
                            "subsample": 1,
                            "random_strength": 100,
                            "depth": 8,
                            "learning_rate": 0.5,
                            "iterations": 10
                          }
                        ],
                        "learn": [
                          0.8275670002,
                          0.4360521883
                        ],
                        "iteration": 155,
                        "passed_time": 65.07241835,
                        "remaining_time": 36.29038716,
                        "test": [
                          0.8546180595,
                          0.3989602544
                        ]
                      },
                      {
                        "parameters": [
                          {
                            "subsample": 1,
                            "random_strength": 100,
                            "depth": 8,
                            "learning_rate": 0.01,
                            "iterations": 50
                          }
                        ],
                        "learn": [
                          0.8320669427,
                          0.5393151838
                        ],
                        "iteration": 156,
                        "passed_time": 66.07224076,
                        "remaining_time": 36.19243761,
                        "test": [
                          0.8573574649,
                          0.5234654181
                        ]
                      },
                      {
                        "parameters": [
                          {
                            "subsample": 1,
                            "random_strength": 100,
                            "depth": 8,
                            "learning_rate": 0.1,
                            "iterations": 50
                          }
                        ],
                        "learn": [
                          0.8433231251,
                          0.4213682821
                        ],
                        "iteration": 157,
                        "passed_time": 66.78156555,
                        "remaining_time": 35.9267916,
                        "test": [
                          0.8621341091,
                          0.3918732605
                        ]
                      },
                      {
                        "parameters": [
                          {
                            "subsample": 1,
                            "random_strength": 100,
                            "depth": 8,
                            "learning_rate": 0.5,
                            "iterations": 50
                          }
                        ],
                        "learn": [
                          0.9544437256,
                          0.2583187504
                        ],
                        "iteration": 158,
                        "passed_time": 67.37881689,
                        "remaining_time": 35.59635609,
                        "test": [
                          0.8391680041,
                          0.4291216323
                        ]
                      },
                      {
                        "parameters": [
                          {
                            "subsample": 1,
                            "random_strength": 100,
                            "depth": 8,
                            "learning_rate": 0.01,
                            "iterations": 100
                          }
                        ],
                        "learn": [
                          0.8365621406,
                          0.4819051227
                        ],
                        "iteration": 159,
                        "passed_time": 69.05542796,
                        "remaining_time": 35.82250326,
                        "test": [
                          0.8608897933,
                          0.4587264473
                        ]
                      },
                      {
                        "parameters": [
                          {
                            "subsample": 1,
                            "random_strength": 100,
                            "depth": 8,
                            "learning_rate": 0.1,
                            "iterations": 100
                          }
                        ],
                        "learn": [
                          0.8588371291,
                          0.4020417404
                        ],
                        "iteration": 160,
                        "passed_time": 70.74629459,
                        "remaining_time": 36.03227426,
                        "test": [
                          0.8660390156,
                          0.3850876346
                        ]
                      },
                      {
                        "parameters": [
                          {
                            "subsample": 1,
                            "random_strength": 100,
                            "depth": 8,
                            "learning_rate": 0.5,
                            "iterations": 100
                          }
                        ],
                        "learn": [
                          0.9955128537,
                          0.1280623364
                        ],
                        "iteration": 161,
                        "passed_time": 72.04433309,
                        "remaining_time": 36.02216654,
                        "test": [
                          0.831714051,
                          0.4765068345
                        ]
                      }
                    ],
                    "meta": {
                      "test_sets": [
                        "test"
                      ],
                      "test_metrics": [
                        {
                          "best_value": "Max",
                          "name": "AUC"
                        },
                        {
                          "best_value": "Min",
                          "name": "Logloss"
                        }
                      ],
                      "learn_metrics": [
                        {
                          "best_value": "Max",
                          "name": "AUC"
                        },
                        {
                          "best_value": "Min",
                          "name": "Logloss"
                        }
                      ],
                      "launch_mode": "Train",
                      "parameters": "parameters",
                      "iteration_count": 243,
                      "learn_sets": [
                        "learn"
                      ],
                      "name": "experiment"
                    }
                  }
                }
              }
            },
            "layout": "IPY_MODEL_3d72350bd59a4025923ded490e571441"
          }
        }
      }
    }
  },
  "cells": [
    {
      "cell_type": "markdown",
      "metadata": {
        "id": "TK7oX5qdEEYr"
      },
      "source": [
        "<p style=\"align: center;\"><img align=center src=\"https://s8.hostingkartinok.com/uploads/images/2018/08/308b49fcfbc619d629fe4604bceb67ac.jpg\" width=500 height=450/></p>\n",
        "\n",
        "<h3 style=\"text-align: center;\"><b>Школа глубокого обучения ФПМИ МФТИ</b></h3>\n",
        "\n",
        "<h3 style=\"text-align: center;\"><b>Домашнее задание. Продвинутый поток. Весна 2021</b></h3>\n",
        "\n",
        "Это домашнее задание будет посвящено полноценному решению задачи машинного обучения."
      ]
    },
    {
      "cell_type": "markdown",
      "source": [
        "# Данные об отправке\n",
        "\n",
        "\n",
        "**Ник на Kaggle: Nuoki**\n",
        "\n",
        "**Имя команды: Дмитрий_Михайлов**\n",
        "\n",
        "**Telegram: @Nuoki**\n",
        "\n",
        "Лучшая точность: 0.85296"
      ],
      "metadata": {
        "id": "VGC0gVzmphqJ"
      }
    },
    {
      "cell_type": "markdown",
      "metadata": {
        "id": "zlB-owfaEEYs"
      },
      "source": [
        "Есть две части этого домашнего задания: \n",
        "* Сделать полноценный отчет о вашей работе: как вы обработали данные, какие модели попробовали и какие результаты получились (максимум 10 баллов). За каждую выполненную часть будет начислено определенное количество баллов.\n",
        "* Лучшее решение отправить в соревнование на [kaggle](https://www.kaggle.com/c/advanced-dls-spring-2021/) (максимум 5 баллов). За прохождение определенного порогов будут начисляться баллы.\n",
        "\n",
        "\n",
        "**Обе части будут проверяться в формате peer-review. Т.е. вашу посылку на степик будут проверять несколько других студентов и аггрегация их оценок будет выставлена. В то же время вам тоже нужно будет проверить несколько других учеников.**\n",
        "\n",
        "**Пожалуйста, делайте свою работу чистой и понятной, чтобы облегчить проверку. Если у вас будут проблемы с решением или хочется совета, то пишите в наш чат в телеграме или в лс @runfme. Если вы захотите проаппелировать оценку, то пипшите в лс @runfme.**\n",
        "\n",
        "**Во всех пунктах указания это минимальный набор вещей, которые стоит сделать. Если вы можете сделать какой-то шаг лучше или добавить что-то свое - дерзайте!**"
      ]
    },
    {
      "cell_type": "markdown",
      "source": [],
      "metadata": {
        "id": "yNT8eok8nxGv"
      }
    },
    {
      "cell_type": "markdown",
      "metadata": {
        "id": "Tu_JvqcBEN8Y"
      },
      "source": [
        "# Как проверять?\n",
        "\n",
        "Ставьте полный балл, если выполнены все рекомендации или сделано что-то более интересное и сложное. За каждый отсустствующий пункт из рекомендация снижайте 1 балл."
      ]
    },
    {
      "cell_type": "markdown",
      "metadata": {
        "id": "ninJ63mJEEYt"
      },
      "source": [
        "# Метрика\n",
        "\n",
        "Перед решением любой задачи важно понимать, как будет оцениваться ваше решение. В данном случае мы используем стандартную для задачи классификации метрику ROC-AUC. Ее можно вычислить используя только предсказанные вероятности и истинные классы без конкретного порога классификации + она раотает даже если классы в данных сильно несбалансированны (примеров одного класса в десятки раз больше примеров длугого). Именно поэтому она очень удобна для соревнований.\n",
        "\n",
        "Посчитать ее легко:\n"
      ]
    },
    {
      "cell_type": "code",
      "metadata": {
        "id": "SQIrka7yEEYu",
        "outputId": "2c254741-51c4-40ef-9cff-8e528c61415a",
        "colab": {
          "base_uri": "https://localhost:8080/"
        }
      },
      "source": [
        "from sklearn.metrics import roc_auc_score\n",
        "\n",
        "y_true = [\n",
        "    0,\n",
        "    1,\n",
        "    1,\n",
        "    0,\n",
        "    1\n",
        "]\n",
        "\n",
        "y_predictions = [\n",
        "    0.1,\n",
        "    0.9,\n",
        "    0.4,\n",
        "    0.6,\n",
        "    0.61\n",
        "]\n",
        "\n",
        "roc_auc_score(y_true, y_predictions)"
      ],
      "execution_count": 1,
      "outputs": [
        {
          "output_type": "execute_result",
          "data": {
            "text/plain": [
              "0.8333333333333333"
            ]
          },
          "metadata": {},
          "execution_count": 1
        }
      ]
    },
    {
      "cell_type": "markdown",
      "metadata": {
        "id": "IrDNNkNTEEYz"
      },
      "source": [
        "# Первая часть. Исследование"
      ]
    },
    {
      "cell_type": "code",
      "metadata": {
        "id": "lzLqEeZKEEYz"
      },
      "source": [
        "import pandas as pd\n",
        "import numpy as np\n",
        "from matplotlib import pyplot as plt\n",
        "import seaborn as sns"
      ],
      "execution_count": 2,
      "outputs": []
    },
    {
      "cell_type": "markdown",
      "metadata": {
        "id": "LOlxdURSEEY3"
      },
      "source": [
        "## Загрузка данных (2 балла)\n",
        "\n",
        "1) Посмотрите на случайные строчки. \n",
        "\n",
        "2) Посмотрите, есть ли в датасете незаполненные значения (nan'ы) с помощью data.isna() или data.info() и, если нужно, замените их на что-то. Будет хорошо, если вы построите табличку с количеством nan в каждой колонке."
      ]
    },
    {
      "cell_type": "code",
      "metadata": {
        "id": "pw-Brue9EEY3"
      },
      "source": [
        "train = pd.read_csv('./train.csv')\n",
        "test = pd.read_csv('./test.csv')"
      ],
      "execution_count": 3,
      "outputs": []
    },
    {
      "cell_type": "code",
      "metadata": {
        "id": "KgnkkF5bEEY9"
      },
      "source": [
        "# Для вашего удобства списки с именами разных колонок\n",
        "\n",
        "# Числовые признаки\n",
        "num_cols = [\n",
        "    'ClientPeriod',\n",
        "    'MonthlySpending',\n",
        "    'TotalSpent'\n",
        "]\n",
        "\n",
        "# Категориальные признаки\n",
        "cat_cols = [\n",
        "    'Sex',\n",
        "    'IsSeniorCitizen',\n",
        "    'HasPartner',\n",
        "    'HasChild',\n",
        "    'HasPhoneService',\n",
        "    'HasMultiplePhoneNumbers',\n",
        "    'HasInternetService',\n",
        "    'HasOnlineSecurityService',\n",
        "    'HasOnlineBackup',\n",
        "    'HasDeviceProtection',\n",
        "    'HasTechSupportAccess',\n",
        "    'HasOnlineTV',\n",
        "    'HasMovieSubscription',\n",
        "    'HasContractPhone',\n",
        "    'IsBillingPaperless',\n",
        "    'PaymentMethod'\n",
        "]\n",
        "\n",
        "feature_cols = num_cols + cat_cols\n",
        "target_col = 'Churn'"
      ],
      "execution_count": 4,
      "outputs": []
    },
    {
      "cell_type": "code",
      "metadata": {
        "id": "tHC6gWabEEZA",
        "colab": {
          "base_uri": "https://localhost:8080/",
          "height": 566
        },
        "outputId": "bfe6e153-8129-4d49-f8fa-119b893df540"
      },
      "source": [
        "train.head(10)"
      ],
      "execution_count": 5,
      "outputs": [
        {
          "output_type": "execute_result",
          "data": {
            "text/plain": [
              "   ClientPeriod  MonthlySpending TotalSpent     Sex  IsSeniorCitizen  \\\n",
              "0            55            19.50    1026.35    Male                0   \n",
              "1            72            25.85     1872.2    Male                0   \n",
              "2             1            75.90       75.9    Male                0   \n",
              "3            32            79.30       2570  Female                1   \n",
              "4            60           115.25    6758.45  Female                0   \n",
              "5            25            19.80      475.2  Female                0   \n",
              "6            27            90.15     2423.4  Female                0   \n",
              "7             1            45.70       45.7    Male                0   \n",
              "8            50           105.95     5341.8    Male                0   \n",
              "9            72            61.20    4390.25    Male                0   \n",
              "\n",
              "  HasPartner HasChild HasPhoneService HasMultiplePhoneNumbers  \\\n",
              "0        Yes      Yes             Yes                      No   \n",
              "1        Yes       No             Yes                     Yes   \n",
              "2         No       No             Yes                      No   \n",
              "3        Yes       No             Yes                     Yes   \n",
              "4        Yes      Yes             Yes                     Yes   \n",
              "5         No       No             Yes                      No   \n",
              "6        Yes       No             Yes                     Yes   \n",
              "7         No       No             Yes                      No   \n",
              "8        Yes      Yes             Yes                     Yes   \n",
              "9         No       No              No        No phone service   \n",
              "\n",
              "  HasInternetService HasOnlineSecurityService      HasOnlineBackup  \\\n",
              "0                 No      No internet service  No internet service   \n",
              "1                 No      No internet service  No internet service   \n",
              "2        Fiber optic                       No                   No   \n",
              "3        Fiber optic                       No                   No   \n",
              "4        Fiber optic                      Yes                  Yes   \n",
              "5                 No      No internet service  No internet service   \n",
              "6        Fiber optic                       No                   No   \n",
              "7                DSL                       No                   No   \n",
              "8        Fiber optic                      Yes                   No   \n",
              "9                DSL                      Yes                   No   \n",
              "\n",
              "   HasDeviceProtection HasTechSupportAccess          HasOnlineTV  \\\n",
              "0  No internet service  No internet service  No internet service   \n",
              "1  No internet service  No internet service  No internet service   \n",
              "2                   No                  Yes                   No   \n",
              "3                  Yes                   No                   No   \n",
              "4                  Yes                  Yes                  Yes   \n",
              "5  No internet service  No internet service  No internet service   \n",
              "6                  Yes                   No                   No   \n",
              "7                   No                   No                   No   \n",
              "8                  Yes                   No                  Yes   \n",
              "9                  Yes                  Yes                  Yes   \n",
              "\n",
              "  HasMovieSubscription HasContractPhone IsBillingPaperless  \\\n",
              "0  No internet service         One year                 No   \n",
              "1  No internet service         Two year                 No   \n",
              "2                   No   Month-to-month                Yes   \n",
              "3                   No   Month-to-month                 No   \n",
              "4                  Yes         Two year                 No   \n",
              "5  No internet service         Two year                 No   \n",
              "6                  Yes   Month-to-month                 No   \n",
              "7                   No   Month-to-month                Yes   \n",
              "8                  Yes   Month-to-month                 No   \n",
              "9                  Yes         Two year                Yes   \n",
              "\n",
              "               PaymentMethod  Churn  \n",
              "0               Mailed check      0  \n",
              "1    Credit card (automatic)      0  \n",
              "2           Electronic check      1  \n",
              "3               Mailed check      0  \n",
              "4    Credit card (automatic)      0  \n",
              "5    Credit card (automatic)      0  \n",
              "6  Bank transfer (automatic)      0  \n",
              "7               Mailed check      1  \n",
              "8    Credit card (automatic)      1  \n",
              "9    Credit card (automatic)      0  "
            ],
            "text/html": [
              "\n",
              "  <div id=\"df-b8f3eee5-92ff-4b30-a0f2-82b069d639c5\">\n",
              "    <div class=\"colab-df-container\">\n",
              "      <div>\n",
              "<style scoped>\n",
              "    .dataframe tbody tr th:only-of-type {\n",
              "        vertical-align: middle;\n",
              "    }\n",
              "\n",
              "    .dataframe tbody tr th {\n",
              "        vertical-align: top;\n",
              "    }\n",
              "\n",
              "    .dataframe thead th {\n",
              "        text-align: right;\n",
              "    }\n",
              "</style>\n",
              "<table border=\"1\" class=\"dataframe\">\n",
              "  <thead>\n",
              "    <tr style=\"text-align: right;\">\n",
              "      <th></th>\n",
              "      <th>ClientPeriod</th>\n",
              "      <th>MonthlySpending</th>\n",
              "      <th>TotalSpent</th>\n",
              "      <th>Sex</th>\n",
              "      <th>IsSeniorCitizen</th>\n",
              "      <th>HasPartner</th>\n",
              "      <th>HasChild</th>\n",
              "      <th>HasPhoneService</th>\n",
              "      <th>HasMultiplePhoneNumbers</th>\n",
              "      <th>HasInternetService</th>\n",
              "      <th>HasOnlineSecurityService</th>\n",
              "      <th>HasOnlineBackup</th>\n",
              "      <th>HasDeviceProtection</th>\n",
              "      <th>HasTechSupportAccess</th>\n",
              "      <th>HasOnlineTV</th>\n",
              "      <th>HasMovieSubscription</th>\n",
              "      <th>HasContractPhone</th>\n",
              "      <th>IsBillingPaperless</th>\n",
              "      <th>PaymentMethod</th>\n",
              "      <th>Churn</th>\n",
              "    </tr>\n",
              "  </thead>\n",
              "  <tbody>\n",
              "    <tr>\n",
              "      <th>0</th>\n",
              "      <td>55</td>\n",
              "      <td>19.50</td>\n",
              "      <td>1026.35</td>\n",
              "      <td>Male</td>\n",
              "      <td>0</td>\n",
              "      <td>Yes</td>\n",
              "      <td>Yes</td>\n",
              "      <td>Yes</td>\n",
              "      <td>No</td>\n",
              "      <td>No</td>\n",
              "      <td>No internet service</td>\n",
              "      <td>No internet service</td>\n",
              "      <td>No internet service</td>\n",
              "      <td>No internet service</td>\n",
              "      <td>No internet service</td>\n",
              "      <td>No internet service</td>\n",
              "      <td>One year</td>\n",
              "      <td>No</td>\n",
              "      <td>Mailed check</td>\n",
              "      <td>0</td>\n",
              "    </tr>\n",
              "    <tr>\n",
              "      <th>1</th>\n",
              "      <td>72</td>\n",
              "      <td>25.85</td>\n",
              "      <td>1872.2</td>\n",
              "      <td>Male</td>\n",
              "      <td>0</td>\n",
              "      <td>Yes</td>\n",
              "      <td>No</td>\n",
              "      <td>Yes</td>\n",
              "      <td>Yes</td>\n",
              "      <td>No</td>\n",
              "      <td>No internet service</td>\n",
              "      <td>No internet service</td>\n",
              "      <td>No internet service</td>\n",
              "      <td>No internet service</td>\n",
              "      <td>No internet service</td>\n",
              "      <td>No internet service</td>\n",
              "      <td>Two year</td>\n",
              "      <td>No</td>\n",
              "      <td>Credit card (automatic)</td>\n",
              "      <td>0</td>\n",
              "    </tr>\n",
              "    <tr>\n",
              "      <th>2</th>\n",
              "      <td>1</td>\n",
              "      <td>75.90</td>\n",
              "      <td>75.9</td>\n",
              "      <td>Male</td>\n",
              "      <td>0</td>\n",
              "      <td>No</td>\n",
              "      <td>No</td>\n",
              "      <td>Yes</td>\n",
              "      <td>No</td>\n",
              "      <td>Fiber optic</td>\n",
              "      <td>No</td>\n",
              "      <td>No</td>\n",
              "      <td>No</td>\n",
              "      <td>Yes</td>\n",
              "      <td>No</td>\n",
              "      <td>No</td>\n",
              "      <td>Month-to-month</td>\n",
              "      <td>Yes</td>\n",
              "      <td>Electronic check</td>\n",
              "      <td>1</td>\n",
              "    </tr>\n",
              "    <tr>\n",
              "      <th>3</th>\n",
              "      <td>32</td>\n",
              "      <td>79.30</td>\n",
              "      <td>2570</td>\n",
              "      <td>Female</td>\n",
              "      <td>1</td>\n",
              "      <td>Yes</td>\n",
              "      <td>No</td>\n",
              "      <td>Yes</td>\n",
              "      <td>Yes</td>\n",
              "      <td>Fiber optic</td>\n",
              "      <td>No</td>\n",
              "      <td>No</td>\n",
              "      <td>Yes</td>\n",
              "      <td>No</td>\n",
              "      <td>No</td>\n",
              "      <td>No</td>\n",
              "      <td>Month-to-month</td>\n",
              "      <td>No</td>\n",
              "      <td>Mailed check</td>\n",
              "      <td>0</td>\n",
              "    </tr>\n",
              "    <tr>\n",
              "      <th>4</th>\n",
              "      <td>60</td>\n",
              "      <td>115.25</td>\n",
              "      <td>6758.45</td>\n",
              "      <td>Female</td>\n",
              "      <td>0</td>\n",
              "      <td>Yes</td>\n",
              "      <td>Yes</td>\n",
              "      <td>Yes</td>\n",
              "      <td>Yes</td>\n",
              "      <td>Fiber optic</td>\n",
              "      <td>Yes</td>\n",
              "      <td>Yes</td>\n",
              "      <td>Yes</td>\n",
              "      <td>Yes</td>\n",
              "      <td>Yes</td>\n",
              "      <td>Yes</td>\n",
              "      <td>Two year</td>\n",
              "      <td>No</td>\n",
              "      <td>Credit card (automatic)</td>\n",
              "      <td>0</td>\n",
              "    </tr>\n",
              "    <tr>\n",
              "      <th>5</th>\n",
              "      <td>25</td>\n",
              "      <td>19.80</td>\n",
              "      <td>475.2</td>\n",
              "      <td>Female</td>\n",
              "      <td>0</td>\n",
              "      <td>No</td>\n",
              "      <td>No</td>\n",
              "      <td>Yes</td>\n",
              "      <td>No</td>\n",
              "      <td>No</td>\n",
              "      <td>No internet service</td>\n",
              "      <td>No internet service</td>\n",
              "      <td>No internet service</td>\n",
              "      <td>No internet service</td>\n",
              "      <td>No internet service</td>\n",
              "      <td>No internet service</td>\n",
              "      <td>Two year</td>\n",
              "      <td>No</td>\n",
              "      <td>Credit card (automatic)</td>\n",
              "      <td>0</td>\n",
              "    </tr>\n",
              "    <tr>\n",
              "      <th>6</th>\n",
              "      <td>27</td>\n",
              "      <td>90.15</td>\n",
              "      <td>2423.4</td>\n",
              "      <td>Female</td>\n",
              "      <td>0</td>\n",
              "      <td>Yes</td>\n",
              "      <td>No</td>\n",
              "      <td>Yes</td>\n",
              "      <td>Yes</td>\n",
              "      <td>Fiber optic</td>\n",
              "      <td>No</td>\n",
              "      <td>No</td>\n",
              "      <td>Yes</td>\n",
              "      <td>No</td>\n",
              "      <td>No</td>\n",
              "      <td>Yes</td>\n",
              "      <td>Month-to-month</td>\n",
              "      <td>No</td>\n",
              "      <td>Bank transfer (automatic)</td>\n",
              "      <td>0</td>\n",
              "    </tr>\n",
              "    <tr>\n",
              "      <th>7</th>\n",
              "      <td>1</td>\n",
              "      <td>45.70</td>\n",
              "      <td>45.7</td>\n",
              "      <td>Male</td>\n",
              "      <td>0</td>\n",
              "      <td>No</td>\n",
              "      <td>No</td>\n",
              "      <td>Yes</td>\n",
              "      <td>No</td>\n",
              "      <td>DSL</td>\n",
              "      <td>No</td>\n",
              "      <td>No</td>\n",
              "      <td>No</td>\n",
              "      <td>No</td>\n",
              "      <td>No</td>\n",
              "      <td>No</td>\n",
              "      <td>Month-to-month</td>\n",
              "      <td>Yes</td>\n",
              "      <td>Mailed check</td>\n",
              "      <td>1</td>\n",
              "    </tr>\n",
              "    <tr>\n",
              "      <th>8</th>\n",
              "      <td>50</td>\n",
              "      <td>105.95</td>\n",
              "      <td>5341.8</td>\n",
              "      <td>Male</td>\n",
              "      <td>0</td>\n",
              "      <td>Yes</td>\n",
              "      <td>Yes</td>\n",
              "      <td>Yes</td>\n",
              "      <td>Yes</td>\n",
              "      <td>Fiber optic</td>\n",
              "      <td>Yes</td>\n",
              "      <td>No</td>\n",
              "      <td>Yes</td>\n",
              "      <td>No</td>\n",
              "      <td>Yes</td>\n",
              "      <td>Yes</td>\n",
              "      <td>Month-to-month</td>\n",
              "      <td>No</td>\n",
              "      <td>Credit card (automatic)</td>\n",
              "      <td>1</td>\n",
              "    </tr>\n",
              "    <tr>\n",
              "      <th>9</th>\n",
              "      <td>72</td>\n",
              "      <td>61.20</td>\n",
              "      <td>4390.25</td>\n",
              "      <td>Male</td>\n",
              "      <td>0</td>\n",
              "      <td>No</td>\n",
              "      <td>No</td>\n",
              "      <td>No</td>\n",
              "      <td>No phone service</td>\n",
              "      <td>DSL</td>\n",
              "      <td>Yes</td>\n",
              "      <td>No</td>\n",
              "      <td>Yes</td>\n",
              "      <td>Yes</td>\n",
              "      <td>Yes</td>\n",
              "      <td>Yes</td>\n",
              "      <td>Two year</td>\n",
              "      <td>Yes</td>\n",
              "      <td>Credit card (automatic)</td>\n",
              "      <td>0</td>\n",
              "    </tr>\n",
              "  </tbody>\n",
              "</table>\n",
              "</div>\n",
              "      <button class=\"colab-df-convert\" onclick=\"convertToInteractive('df-b8f3eee5-92ff-4b30-a0f2-82b069d639c5')\"\n",
              "              title=\"Convert this dataframe to an interactive table.\"\n",
              "              style=\"display:none;\">\n",
              "        \n",
              "  <svg xmlns=\"http://www.w3.org/2000/svg\" height=\"24px\"viewBox=\"0 0 24 24\"\n",
              "       width=\"24px\">\n",
              "    <path d=\"M0 0h24v24H0V0z\" fill=\"none\"/>\n",
              "    <path d=\"M18.56 5.44l.94 2.06.94-2.06 2.06-.94-2.06-.94-.94-2.06-.94 2.06-2.06.94zm-11 1L8.5 8.5l.94-2.06 2.06-.94-2.06-.94L8.5 2.5l-.94 2.06-2.06.94zm10 10l.94 2.06.94-2.06 2.06-.94-2.06-.94-.94-2.06-.94 2.06-2.06.94z\"/><path d=\"M17.41 7.96l-1.37-1.37c-.4-.4-.92-.59-1.43-.59-.52 0-1.04.2-1.43.59L10.3 9.45l-7.72 7.72c-.78.78-.78 2.05 0 2.83L4 21.41c.39.39.9.59 1.41.59.51 0 1.02-.2 1.41-.59l7.78-7.78 2.81-2.81c.8-.78.8-2.07 0-2.86zM5.41 20L4 18.59l7.72-7.72 1.47 1.35L5.41 20z\"/>\n",
              "  </svg>\n",
              "      </button>\n",
              "      \n",
              "  <style>\n",
              "    .colab-df-container {\n",
              "      display:flex;\n",
              "      flex-wrap:wrap;\n",
              "      gap: 12px;\n",
              "    }\n",
              "\n",
              "    .colab-df-convert {\n",
              "      background-color: #E8F0FE;\n",
              "      border: none;\n",
              "      border-radius: 50%;\n",
              "      cursor: pointer;\n",
              "      display: none;\n",
              "      fill: #1967D2;\n",
              "      height: 32px;\n",
              "      padding: 0 0 0 0;\n",
              "      width: 32px;\n",
              "    }\n",
              "\n",
              "    .colab-df-convert:hover {\n",
              "      background-color: #E2EBFA;\n",
              "      box-shadow: 0px 1px 2px rgba(60, 64, 67, 0.3), 0px 1px 3px 1px rgba(60, 64, 67, 0.15);\n",
              "      fill: #174EA6;\n",
              "    }\n",
              "\n",
              "    [theme=dark] .colab-df-convert {\n",
              "      background-color: #3B4455;\n",
              "      fill: #D2E3FC;\n",
              "    }\n",
              "\n",
              "    [theme=dark] .colab-df-convert:hover {\n",
              "      background-color: #434B5C;\n",
              "      box-shadow: 0px 1px 3px 1px rgba(0, 0, 0, 0.15);\n",
              "      filter: drop-shadow(0px 1px 2px rgba(0, 0, 0, 0.3));\n",
              "      fill: #FFFFFF;\n",
              "    }\n",
              "  </style>\n",
              "\n",
              "      <script>\n",
              "        const buttonEl =\n",
              "          document.querySelector('#df-b8f3eee5-92ff-4b30-a0f2-82b069d639c5 button.colab-df-convert');\n",
              "        buttonEl.style.display =\n",
              "          google.colab.kernel.accessAllowed ? 'block' : 'none';\n",
              "\n",
              "        async function convertToInteractive(key) {\n",
              "          const element = document.querySelector('#df-b8f3eee5-92ff-4b30-a0f2-82b069d639c5');\n",
              "          const dataTable =\n",
              "            await google.colab.kernel.invokeFunction('convertToInteractive',\n",
              "                                                     [key], {});\n",
              "          if (!dataTable) return;\n",
              "\n",
              "          const docLinkHtml = 'Like what you see? Visit the ' +\n",
              "            '<a target=\"_blank\" href=https://colab.research.google.com/notebooks/data_table.ipynb>data table notebook</a>'\n",
              "            + ' to learn more about interactive tables.';\n",
              "          element.innerHTML = '';\n",
              "          dataTable['output_type'] = 'display_data';\n",
              "          await google.colab.output.renderOutput(dataTable, element);\n",
              "          const docLink = document.createElement('div');\n",
              "          docLink.innerHTML = docLinkHtml;\n",
              "          element.appendChild(docLink);\n",
              "        }\n",
              "      </script>\n",
              "    </div>\n",
              "  </div>\n",
              "  "
            ]
          },
          "metadata": {},
          "execution_count": 5
        }
      ]
    },
    {
      "cell_type": "code",
      "source": [
        "train.tail(10)"
      ],
      "metadata": {
        "colab": {
          "base_uri": "https://localhost:8080/",
          "height": 548
        },
        "id": "Rl-3iOnGINNw",
        "outputId": "e8e4d83d-2f5f-4df4-9037-ead4c6c5ec06"
      },
      "execution_count": 6,
      "outputs": [
        {
          "output_type": "execute_result",
          "data": {
            "text/plain": [
              "      ClientPeriod  MonthlySpending TotalSpent     Sex  IsSeniorCitizen  \\\n",
              "5272            36            54.45     1893.5  Female                0   \n",
              "5273            60           104.35    6339.45    Male                1   \n",
              "5274             2            69.75     144.55  Female                0   \n",
              "5275            21            19.95      416.4    Male                0   \n",
              "5276            72            98.20     7015.9  Female                0   \n",
              "5277             3            30.40      82.15    Male                0   \n",
              "5278            50            44.45    2188.45    Male                0   \n",
              "5279             1            55.05      55.05    Male                0   \n",
              "5280            29            76.00    2215.25  Female                0   \n",
              "5281            19            75.90     1375.6  Female                0   \n",
              "\n",
              "     HasPartner HasChild HasPhoneService HasMultiplePhoneNumbers  \\\n",
              "5272         No       No             Yes                     Yes   \n",
              "5273        Yes       No             Yes                     Yes   \n",
              "5274         No       No             Yes                      No   \n",
              "5275         No       No             Yes                      No   \n",
              "5276        Yes       No             Yes                     Yes   \n",
              "5277         No       No              No        No phone service   \n",
              "5278        Yes       No              No        No phone service   \n",
              "5279         No       No             Yes                      No   \n",
              "5280         No       No             Yes                     Yes   \n",
              "5281         No      Yes             Yes                     Yes   \n",
              "\n",
              "     HasInternetService HasOnlineSecurityService      HasOnlineBackup  \\\n",
              "5272                DSL                      Yes                   No   \n",
              "5273        Fiber optic                       No                  Yes   \n",
              "5274        Fiber optic                       No                   No   \n",
              "5275                 No      No internet service  No internet service   \n",
              "5276        Fiber optic                      Yes                   No   \n",
              "5277                DSL                       No                   No   \n",
              "5278                DSL                      Yes                   No   \n",
              "5279                DSL                       No                   No   \n",
              "5280        Fiber optic                       No                   No   \n",
              "5281                DSL                      Yes                  Yes   \n",
              "\n",
              "      HasDeviceProtection HasTechSupportAccess          HasOnlineTV  \\\n",
              "5272                   No                   No                   No   \n",
              "5273                  Yes                   No                  Yes   \n",
              "5274                   No                   No                   No   \n",
              "5275  No internet service  No internet service  No internet service   \n",
              "5276                  Yes                  Yes                  Yes   \n",
              "5277                   No                  Yes                   No   \n",
              "5278                   No                  Yes                  Yes   \n",
              "5279                  Yes                  Yes                   No   \n",
              "5280                   No                   No                   No   \n",
              "5281                   No                  Yes                  Yes   \n",
              "\n",
              "     HasMovieSubscription HasContractPhone IsBillingPaperless  \\\n",
              "5272                   No         One year                 No   \n",
              "5273                  Yes         One year                Yes   \n",
              "5274                   No   Month-to-month                 No   \n",
              "5275  No internet service   Month-to-month                Yes   \n",
              "5276                   No         Two year                Yes   \n",
              "5277                   No   Month-to-month                 No   \n",
              "5278                   No         One year                Yes   \n",
              "5279                   No   Month-to-month                 No   \n",
              "5280                   No   Month-to-month                Yes   \n",
              "5281                   No   Month-to-month                Yes   \n",
              "\n",
              "                  PaymentMethod  Churn  \n",
              "5272               Mailed check      0  \n",
              "5273           Electronic check      0  \n",
              "5274  Bank transfer (automatic)      1  \n",
              "5275               Mailed check      0  \n",
              "5276  Bank transfer (automatic)      0  \n",
              "5277           Electronic check      0  \n",
              "5278  Bank transfer (automatic)      0  \n",
              "5279               Mailed check      0  \n",
              "5280    Credit card (automatic)      0  \n",
              "5281               Mailed check      0  "
            ],
            "text/html": [
              "\n",
              "  <div id=\"df-0b3e7c0a-d291-42be-a819-6976c256e11b\">\n",
              "    <div class=\"colab-df-container\">\n",
              "      <div>\n",
              "<style scoped>\n",
              "    .dataframe tbody tr th:only-of-type {\n",
              "        vertical-align: middle;\n",
              "    }\n",
              "\n",
              "    .dataframe tbody tr th {\n",
              "        vertical-align: top;\n",
              "    }\n",
              "\n",
              "    .dataframe thead th {\n",
              "        text-align: right;\n",
              "    }\n",
              "</style>\n",
              "<table border=\"1\" class=\"dataframe\">\n",
              "  <thead>\n",
              "    <tr style=\"text-align: right;\">\n",
              "      <th></th>\n",
              "      <th>ClientPeriod</th>\n",
              "      <th>MonthlySpending</th>\n",
              "      <th>TotalSpent</th>\n",
              "      <th>Sex</th>\n",
              "      <th>IsSeniorCitizen</th>\n",
              "      <th>HasPartner</th>\n",
              "      <th>HasChild</th>\n",
              "      <th>HasPhoneService</th>\n",
              "      <th>HasMultiplePhoneNumbers</th>\n",
              "      <th>HasInternetService</th>\n",
              "      <th>HasOnlineSecurityService</th>\n",
              "      <th>HasOnlineBackup</th>\n",
              "      <th>HasDeviceProtection</th>\n",
              "      <th>HasTechSupportAccess</th>\n",
              "      <th>HasOnlineTV</th>\n",
              "      <th>HasMovieSubscription</th>\n",
              "      <th>HasContractPhone</th>\n",
              "      <th>IsBillingPaperless</th>\n",
              "      <th>PaymentMethod</th>\n",
              "      <th>Churn</th>\n",
              "    </tr>\n",
              "  </thead>\n",
              "  <tbody>\n",
              "    <tr>\n",
              "      <th>5272</th>\n",
              "      <td>36</td>\n",
              "      <td>54.45</td>\n",
              "      <td>1893.5</td>\n",
              "      <td>Female</td>\n",
              "      <td>0</td>\n",
              "      <td>No</td>\n",
              "      <td>No</td>\n",
              "      <td>Yes</td>\n",
              "      <td>Yes</td>\n",
              "      <td>DSL</td>\n",
              "      <td>Yes</td>\n",
              "      <td>No</td>\n",
              "      <td>No</td>\n",
              "      <td>No</td>\n",
              "      <td>No</td>\n",
              "      <td>No</td>\n",
              "      <td>One year</td>\n",
              "      <td>No</td>\n",
              "      <td>Mailed check</td>\n",
              "      <td>0</td>\n",
              "    </tr>\n",
              "    <tr>\n",
              "      <th>5273</th>\n",
              "      <td>60</td>\n",
              "      <td>104.35</td>\n",
              "      <td>6339.45</td>\n",
              "      <td>Male</td>\n",
              "      <td>1</td>\n",
              "      <td>Yes</td>\n",
              "      <td>No</td>\n",
              "      <td>Yes</td>\n",
              "      <td>Yes</td>\n",
              "      <td>Fiber optic</td>\n",
              "      <td>No</td>\n",
              "      <td>Yes</td>\n",
              "      <td>Yes</td>\n",
              "      <td>No</td>\n",
              "      <td>Yes</td>\n",
              "      <td>Yes</td>\n",
              "      <td>One year</td>\n",
              "      <td>Yes</td>\n",
              "      <td>Electronic check</td>\n",
              "      <td>0</td>\n",
              "    </tr>\n",
              "    <tr>\n",
              "      <th>5274</th>\n",
              "      <td>2</td>\n",
              "      <td>69.75</td>\n",
              "      <td>144.55</td>\n",
              "      <td>Female</td>\n",
              "      <td>0</td>\n",
              "      <td>No</td>\n",
              "      <td>No</td>\n",
              "      <td>Yes</td>\n",
              "      <td>No</td>\n",
              "      <td>Fiber optic</td>\n",
              "      <td>No</td>\n",
              "      <td>No</td>\n",
              "      <td>No</td>\n",
              "      <td>No</td>\n",
              "      <td>No</td>\n",
              "      <td>No</td>\n",
              "      <td>Month-to-month</td>\n",
              "      <td>No</td>\n",
              "      <td>Bank transfer (automatic)</td>\n",
              "      <td>1</td>\n",
              "    </tr>\n",
              "    <tr>\n",
              "      <th>5275</th>\n",
              "      <td>21</td>\n",
              "      <td>19.95</td>\n",
              "      <td>416.4</td>\n",
              "      <td>Male</td>\n",
              "      <td>0</td>\n",
              "      <td>No</td>\n",
              "      <td>No</td>\n",
              "      <td>Yes</td>\n",
              "      <td>No</td>\n",
              "      <td>No</td>\n",
              "      <td>No internet service</td>\n",
              "      <td>No internet service</td>\n",
              "      <td>No internet service</td>\n",
              "      <td>No internet service</td>\n",
              "      <td>No internet service</td>\n",
              "      <td>No internet service</td>\n",
              "      <td>Month-to-month</td>\n",
              "      <td>Yes</td>\n",
              "      <td>Mailed check</td>\n",
              "      <td>0</td>\n",
              "    </tr>\n",
              "    <tr>\n",
              "      <th>5276</th>\n",
              "      <td>72</td>\n",
              "      <td>98.20</td>\n",
              "      <td>7015.9</td>\n",
              "      <td>Female</td>\n",
              "      <td>0</td>\n",
              "      <td>Yes</td>\n",
              "      <td>No</td>\n",
              "      <td>Yes</td>\n",
              "      <td>Yes</td>\n",
              "      <td>Fiber optic</td>\n",
              "      <td>Yes</td>\n",
              "      <td>No</td>\n",
              "      <td>Yes</td>\n",
              "      <td>Yes</td>\n",
              "      <td>Yes</td>\n",
              "      <td>No</td>\n",
              "      <td>Two year</td>\n",
              "      <td>Yes</td>\n",
              "      <td>Bank transfer (automatic)</td>\n",
              "      <td>0</td>\n",
              "    </tr>\n",
              "    <tr>\n",
              "      <th>5277</th>\n",
              "      <td>3</td>\n",
              "      <td>30.40</td>\n",
              "      <td>82.15</td>\n",
              "      <td>Male</td>\n",
              "      <td>0</td>\n",
              "      <td>No</td>\n",
              "      <td>No</td>\n",
              "      <td>No</td>\n",
              "      <td>No phone service</td>\n",
              "      <td>DSL</td>\n",
              "      <td>No</td>\n",
              "      <td>No</td>\n",
              "      <td>No</td>\n",
              "      <td>Yes</td>\n",
              "      <td>No</td>\n",
              "      <td>No</td>\n",
              "      <td>Month-to-month</td>\n",
              "      <td>No</td>\n",
              "      <td>Electronic check</td>\n",
              "      <td>0</td>\n",
              "    </tr>\n",
              "    <tr>\n",
              "      <th>5278</th>\n",
              "      <td>50</td>\n",
              "      <td>44.45</td>\n",
              "      <td>2188.45</td>\n",
              "      <td>Male</td>\n",
              "      <td>0</td>\n",
              "      <td>Yes</td>\n",
              "      <td>No</td>\n",
              "      <td>No</td>\n",
              "      <td>No phone service</td>\n",
              "      <td>DSL</td>\n",
              "      <td>Yes</td>\n",
              "      <td>No</td>\n",
              "      <td>No</td>\n",
              "      <td>Yes</td>\n",
              "      <td>Yes</td>\n",
              "      <td>No</td>\n",
              "      <td>One year</td>\n",
              "      <td>Yes</td>\n",
              "      <td>Bank transfer (automatic)</td>\n",
              "      <td>0</td>\n",
              "    </tr>\n",
              "    <tr>\n",
              "      <th>5279</th>\n",
              "      <td>1</td>\n",
              "      <td>55.05</td>\n",
              "      <td>55.05</td>\n",
              "      <td>Male</td>\n",
              "      <td>0</td>\n",
              "      <td>No</td>\n",
              "      <td>No</td>\n",
              "      <td>Yes</td>\n",
              "      <td>No</td>\n",
              "      <td>DSL</td>\n",
              "      <td>No</td>\n",
              "      <td>No</td>\n",
              "      <td>Yes</td>\n",
              "      <td>Yes</td>\n",
              "      <td>No</td>\n",
              "      <td>No</td>\n",
              "      <td>Month-to-month</td>\n",
              "      <td>No</td>\n",
              "      <td>Mailed check</td>\n",
              "      <td>0</td>\n",
              "    </tr>\n",
              "    <tr>\n",
              "      <th>5280</th>\n",
              "      <td>29</td>\n",
              "      <td>76.00</td>\n",
              "      <td>2215.25</td>\n",
              "      <td>Female</td>\n",
              "      <td>0</td>\n",
              "      <td>No</td>\n",
              "      <td>No</td>\n",
              "      <td>Yes</td>\n",
              "      <td>Yes</td>\n",
              "      <td>Fiber optic</td>\n",
              "      <td>No</td>\n",
              "      <td>No</td>\n",
              "      <td>No</td>\n",
              "      <td>No</td>\n",
              "      <td>No</td>\n",
              "      <td>No</td>\n",
              "      <td>Month-to-month</td>\n",
              "      <td>Yes</td>\n",
              "      <td>Credit card (automatic)</td>\n",
              "      <td>0</td>\n",
              "    </tr>\n",
              "    <tr>\n",
              "      <th>5281</th>\n",
              "      <td>19</td>\n",
              "      <td>75.90</td>\n",
              "      <td>1375.6</td>\n",
              "      <td>Female</td>\n",
              "      <td>0</td>\n",
              "      <td>No</td>\n",
              "      <td>Yes</td>\n",
              "      <td>Yes</td>\n",
              "      <td>Yes</td>\n",
              "      <td>DSL</td>\n",
              "      <td>Yes</td>\n",
              "      <td>Yes</td>\n",
              "      <td>No</td>\n",
              "      <td>Yes</td>\n",
              "      <td>Yes</td>\n",
              "      <td>No</td>\n",
              "      <td>Month-to-month</td>\n",
              "      <td>Yes</td>\n",
              "      <td>Mailed check</td>\n",
              "      <td>0</td>\n",
              "    </tr>\n",
              "  </tbody>\n",
              "</table>\n",
              "</div>\n",
              "      <button class=\"colab-df-convert\" onclick=\"convertToInteractive('df-0b3e7c0a-d291-42be-a819-6976c256e11b')\"\n",
              "              title=\"Convert this dataframe to an interactive table.\"\n",
              "              style=\"display:none;\">\n",
              "        \n",
              "  <svg xmlns=\"http://www.w3.org/2000/svg\" height=\"24px\"viewBox=\"0 0 24 24\"\n",
              "       width=\"24px\">\n",
              "    <path d=\"M0 0h24v24H0V0z\" fill=\"none\"/>\n",
              "    <path d=\"M18.56 5.44l.94 2.06.94-2.06 2.06-.94-2.06-.94-.94-2.06-.94 2.06-2.06.94zm-11 1L8.5 8.5l.94-2.06 2.06-.94-2.06-.94L8.5 2.5l-.94 2.06-2.06.94zm10 10l.94 2.06.94-2.06 2.06-.94-2.06-.94-.94-2.06-.94 2.06-2.06.94z\"/><path d=\"M17.41 7.96l-1.37-1.37c-.4-.4-.92-.59-1.43-.59-.52 0-1.04.2-1.43.59L10.3 9.45l-7.72 7.72c-.78.78-.78 2.05 0 2.83L4 21.41c.39.39.9.59 1.41.59.51 0 1.02-.2 1.41-.59l7.78-7.78 2.81-2.81c.8-.78.8-2.07 0-2.86zM5.41 20L4 18.59l7.72-7.72 1.47 1.35L5.41 20z\"/>\n",
              "  </svg>\n",
              "      </button>\n",
              "      \n",
              "  <style>\n",
              "    .colab-df-container {\n",
              "      display:flex;\n",
              "      flex-wrap:wrap;\n",
              "      gap: 12px;\n",
              "    }\n",
              "\n",
              "    .colab-df-convert {\n",
              "      background-color: #E8F0FE;\n",
              "      border: none;\n",
              "      border-radius: 50%;\n",
              "      cursor: pointer;\n",
              "      display: none;\n",
              "      fill: #1967D2;\n",
              "      height: 32px;\n",
              "      padding: 0 0 0 0;\n",
              "      width: 32px;\n",
              "    }\n",
              "\n",
              "    .colab-df-convert:hover {\n",
              "      background-color: #E2EBFA;\n",
              "      box-shadow: 0px 1px 2px rgba(60, 64, 67, 0.3), 0px 1px 3px 1px rgba(60, 64, 67, 0.15);\n",
              "      fill: #174EA6;\n",
              "    }\n",
              "\n",
              "    [theme=dark] .colab-df-convert {\n",
              "      background-color: #3B4455;\n",
              "      fill: #D2E3FC;\n",
              "    }\n",
              "\n",
              "    [theme=dark] .colab-df-convert:hover {\n",
              "      background-color: #434B5C;\n",
              "      box-shadow: 0px 1px 3px 1px rgba(0, 0, 0, 0.15);\n",
              "      filter: drop-shadow(0px 1px 2px rgba(0, 0, 0, 0.3));\n",
              "      fill: #FFFFFF;\n",
              "    }\n",
              "  </style>\n",
              "\n",
              "      <script>\n",
              "        const buttonEl =\n",
              "          document.querySelector('#df-0b3e7c0a-d291-42be-a819-6976c256e11b button.colab-df-convert');\n",
              "        buttonEl.style.display =\n",
              "          google.colab.kernel.accessAllowed ? 'block' : 'none';\n",
              "\n",
              "        async function convertToInteractive(key) {\n",
              "          const element = document.querySelector('#df-0b3e7c0a-d291-42be-a819-6976c256e11b');\n",
              "          const dataTable =\n",
              "            await google.colab.kernel.invokeFunction('convertToInteractive',\n",
              "                                                     [key], {});\n",
              "          if (!dataTable) return;\n",
              "\n",
              "          const docLinkHtml = 'Like what you see? Visit the ' +\n",
              "            '<a target=\"_blank\" href=https://colab.research.google.com/notebooks/data_table.ipynb>data table notebook</a>'\n",
              "            + ' to learn more about interactive tables.';\n",
              "          element.innerHTML = '';\n",
              "          dataTable['output_type'] = 'display_data';\n",
              "          await google.colab.output.renderOutput(dataTable, element);\n",
              "          const docLink = document.createElement('div');\n",
              "          docLink.innerHTML = docLinkHtml;\n",
              "          element.appendChild(docLink);\n",
              "        }\n",
              "      </script>\n",
              "    </div>\n",
              "  </div>\n",
              "  "
            ]
          },
          "metadata": {},
          "execution_count": 6
        }
      ]
    },
    {
      "cell_type": "code",
      "source": [
        "train.sample(10)"
      ],
      "metadata": {
        "colab": {
          "base_uri": "https://localhost:8080/",
          "height": 600
        },
        "id": "8H8sQBpgINQF",
        "outputId": "7d8d692a-53f6-4e13-d6b7-2522bc83d78d"
      },
      "execution_count": 7,
      "outputs": [
        {
          "output_type": "execute_result",
          "data": {
            "text/plain": [
              "      ClientPeriod  MonthlySpending TotalSpent     Sex  IsSeniorCitizen  \\\n",
              "4003            40            64.10    2460.35  Female                0   \n",
              "1639            48            99.00    4744.35    Male                1   \n",
              "2533            53            19.05     990.45  Female                0   \n",
              "1975            68            25.75    1686.15    Male                0   \n",
              "2478            45            25.50    1121.05  Female                0   \n",
              "1487             4            70.40        281  Female                0   \n",
              "2602            72           115.15     8349.7  Female                0   \n",
              "4820            72            26.25    1988.05  Female                0   \n",
              "3014            21           104.40    2157.95    Male                0   \n",
              "2555            16            94.45     1511.2  Female                1   \n",
              "\n",
              "     HasPartner HasChild HasPhoneService HasMultiplePhoneNumbers  \\\n",
              "4003         No      Yes             Yes                      No   \n",
              "1639         No       No             Yes                     Yes   \n",
              "2533        Yes       No             Yes                      No   \n",
              "1975        Yes      Yes             Yes                     Yes   \n",
              "2478        Yes       No             Yes                     Yes   \n",
              "1487         No       No             Yes                      No   \n",
              "2602        Yes       No             Yes                     Yes   \n",
              "4820        Yes      Yes             Yes                     Yes   \n",
              "3014        Yes      Yes             Yes                     Yes   \n",
              "2555         No       No             Yes                      No   \n",
              "\n",
              "     HasInternetService HasOnlineSecurityService      HasOnlineBackup  \\\n",
              "4003                DSL                      Yes                   No   \n",
              "1639        Fiber optic                       No                  Yes   \n",
              "2533                 No      No internet service  No internet service   \n",
              "1975                 No      No internet service  No internet service   \n",
              "2478                 No      No internet service  No internet service   \n",
              "1487        Fiber optic                       No                   No   \n",
              "2602        Fiber optic                      Yes                  Yes   \n",
              "4820                 No      No internet service  No internet service   \n",
              "3014        Fiber optic                       No                  Yes   \n",
              "2555        Fiber optic                       No                   No   \n",
              "\n",
              "      HasDeviceProtection HasTechSupportAccess          HasOnlineTV  \\\n",
              "4003                   No                  Yes                  Yes   \n",
              "1639                   No                   No                  Yes   \n",
              "2533  No internet service  No internet service  No internet service   \n",
              "1975  No internet service  No internet service  No internet service   \n",
              "2478  No internet service  No internet service  No internet service   \n",
              "1487                   No                   No                   No   \n",
              "2602                  Yes                  Yes                  Yes   \n",
              "4820  No internet service  No internet service  No internet service   \n",
              "3014                  Yes                   No                  Yes   \n",
              "2555                   No                  Yes                  Yes   \n",
              "\n",
              "     HasMovieSubscription HasContractPhone IsBillingPaperless  \\\n",
              "4003                   No   Month-to-month                Yes   \n",
              "1639                  Yes         One year                Yes   \n",
              "2533  No internet service         One year                 No   \n",
              "1975  No internet service         Two year                 No   \n",
              "2478  No internet service         Two year                 No   \n",
              "1487                   No   Month-to-month                 No   \n",
              "2602                  Yes         Two year                 No   \n",
              "4820  No internet service         Two year                Yes   \n",
              "3014                  Yes   Month-to-month                 No   \n",
              "2555                  Yes   Month-to-month                Yes   \n",
              "\n",
              "                  PaymentMethod  Churn  \n",
              "4003    Credit card (automatic)      0  \n",
              "1639           Electronic check      0  \n",
              "2533    Credit card (automatic)      0  \n",
              "1975               Mailed check      0  \n",
              "2478               Mailed check      0  \n",
              "1487           Electronic check      1  \n",
              "2602           Electronic check      0  \n",
              "4820  Bank transfer (automatic)      0  \n",
              "3014           Electronic check      1  \n",
              "2555           Electronic check      1  "
            ],
            "text/html": [
              "\n",
              "  <div id=\"df-01fb4066-0cc1-4484-a698-9548fe757748\">\n",
              "    <div class=\"colab-df-container\">\n",
              "      <div>\n",
              "<style scoped>\n",
              "    .dataframe tbody tr th:only-of-type {\n",
              "        vertical-align: middle;\n",
              "    }\n",
              "\n",
              "    .dataframe tbody tr th {\n",
              "        vertical-align: top;\n",
              "    }\n",
              "\n",
              "    .dataframe thead th {\n",
              "        text-align: right;\n",
              "    }\n",
              "</style>\n",
              "<table border=\"1\" class=\"dataframe\">\n",
              "  <thead>\n",
              "    <tr style=\"text-align: right;\">\n",
              "      <th></th>\n",
              "      <th>ClientPeriod</th>\n",
              "      <th>MonthlySpending</th>\n",
              "      <th>TotalSpent</th>\n",
              "      <th>Sex</th>\n",
              "      <th>IsSeniorCitizen</th>\n",
              "      <th>HasPartner</th>\n",
              "      <th>HasChild</th>\n",
              "      <th>HasPhoneService</th>\n",
              "      <th>HasMultiplePhoneNumbers</th>\n",
              "      <th>HasInternetService</th>\n",
              "      <th>HasOnlineSecurityService</th>\n",
              "      <th>HasOnlineBackup</th>\n",
              "      <th>HasDeviceProtection</th>\n",
              "      <th>HasTechSupportAccess</th>\n",
              "      <th>HasOnlineTV</th>\n",
              "      <th>HasMovieSubscription</th>\n",
              "      <th>HasContractPhone</th>\n",
              "      <th>IsBillingPaperless</th>\n",
              "      <th>PaymentMethod</th>\n",
              "      <th>Churn</th>\n",
              "    </tr>\n",
              "  </thead>\n",
              "  <tbody>\n",
              "    <tr>\n",
              "      <th>4003</th>\n",
              "      <td>40</td>\n",
              "      <td>64.10</td>\n",
              "      <td>2460.35</td>\n",
              "      <td>Female</td>\n",
              "      <td>0</td>\n",
              "      <td>No</td>\n",
              "      <td>Yes</td>\n",
              "      <td>Yes</td>\n",
              "      <td>No</td>\n",
              "      <td>DSL</td>\n",
              "      <td>Yes</td>\n",
              "      <td>No</td>\n",
              "      <td>No</td>\n",
              "      <td>Yes</td>\n",
              "      <td>Yes</td>\n",
              "      <td>No</td>\n",
              "      <td>Month-to-month</td>\n",
              "      <td>Yes</td>\n",
              "      <td>Credit card (automatic)</td>\n",
              "      <td>0</td>\n",
              "    </tr>\n",
              "    <tr>\n",
              "      <th>1639</th>\n",
              "      <td>48</td>\n",
              "      <td>99.00</td>\n",
              "      <td>4744.35</td>\n",
              "      <td>Male</td>\n",
              "      <td>1</td>\n",
              "      <td>No</td>\n",
              "      <td>No</td>\n",
              "      <td>Yes</td>\n",
              "      <td>Yes</td>\n",
              "      <td>Fiber optic</td>\n",
              "      <td>No</td>\n",
              "      <td>Yes</td>\n",
              "      <td>No</td>\n",
              "      <td>No</td>\n",
              "      <td>Yes</td>\n",
              "      <td>Yes</td>\n",
              "      <td>One year</td>\n",
              "      <td>Yes</td>\n",
              "      <td>Electronic check</td>\n",
              "      <td>0</td>\n",
              "    </tr>\n",
              "    <tr>\n",
              "      <th>2533</th>\n",
              "      <td>53</td>\n",
              "      <td>19.05</td>\n",
              "      <td>990.45</td>\n",
              "      <td>Female</td>\n",
              "      <td>0</td>\n",
              "      <td>Yes</td>\n",
              "      <td>No</td>\n",
              "      <td>Yes</td>\n",
              "      <td>No</td>\n",
              "      <td>No</td>\n",
              "      <td>No internet service</td>\n",
              "      <td>No internet service</td>\n",
              "      <td>No internet service</td>\n",
              "      <td>No internet service</td>\n",
              "      <td>No internet service</td>\n",
              "      <td>No internet service</td>\n",
              "      <td>One year</td>\n",
              "      <td>No</td>\n",
              "      <td>Credit card (automatic)</td>\n",
              "      <td>0</td>\n",
              "    </tr>\n",
              "    <tr>\n",
              "      <th>1975</th>\n",
              "      <td>68</td>\n",
              "      <td>25.75</td>\n",
              "      <td>1686.15</td>\n",
              "      <td>Male</td>\n",
              "      <td>0</td>\n",
              "      <td>Yes</td>\n",
              "      <td>Yes</td>\n",
              "      <td>Yes</td>\n",
              "      <td>Yes</td>\n",
              "      <td>No</td>\n",
              "      <td>No internet service</td>\n",
              "      <td>No internet service</td>\n",
              "      <td>No internet service</td>\n",
              "      <td>No internet service</td>\n",
              "      <td>No internet service</td>\n",
              "      <td>No internet service</td>\n",
              "      <td>Two year</td>\n",
              "      <td>No</td>\n",
              "      <td>Mailed check</td>\n",
              "      <td>0</td>\n",
              "    </tr>\n",
              "    <tr>\n",
              "      <th>2478</th>\n",
              "      <td>45</td>\n",
              "      <td>25.50</td>\n",
              "      <td>1121.05</td>\n",
              "      <td>Female</td>\n",
              "      <td>0</td>\n",
              "      <td>Yes</td>\n",
              "      <td>No</td>\n",
              "      <td>Yes</td>\n",
              "      <td>Yes</td>\n",
              "      <td>No</td>\n",
              "      <td>No internet service</td>\n",
              "      <td>No internet service</td>\n",
              "      <td>No internet service</td>\n",
              "      <td>No internet service</td>\n",
              "      <td>No internet service</td>\n",
              "      <td>No internet service</td>\n",
              "      <td>Two year</td>\n",
              "      <td>No</td>\n",
              "      <td>Mailed check</td>\n",
              "      <td>0</td>\n",
              "    </tr>\n",
              "    <tr>\n",
              "      <th>1487</th>\n",
              "      <td>4</td>\n",
              "      <td>70.40</td>\n",
              "      <td>281</td>\n",
              "      <td>Female</td>\n",
              "      <td>0</td>\n",
              "      <td>No</td>\n",
              "      <td>No</td>\n",
              "      <td>Yes</td>\n",
              "      <td>No</td>\n",
              "      <td>Fiber optic</td>\n",
              "      <td>No</td>\n",
              "      <td>No</td>\n",
              "      <td>No</td>\n",
              "      <td>No</td>\n",
              "      <td>No</td>\n",
              "      <td>No</td>\n",
              "      <td>Month-to-month</td>\n",
              "      <td>No</td>\n",
              "      <td>Electronic check</td>\n",
              "      <td>1</td>\n",
              "    </tr>\n",
              "    <tr>\n",
              "      <th>2602</th>\n",
              "      <td>72</td>\n",
              "      <td>115.15</td>\n",
              "      <td>8349.7</td>\n",
              "      <td>Female</td>\n",
              "      <td>0</td>\n",
              "      <td>Yes</td>\n",
              "      <td>No</td>\n",
              "      <td>Yes</td>\n",
              "      <td>Yes</td>\n",
              "      <td>Fiber optic</td>\n",
              "      <td>Yes</td>\n",
              "      <td>Yes</td>\n",
              "      <td>Yes</td>\n",
              "      <td>Yes</td>\n",
              "      <td>Yes</td>\n",
              "      <td>Yes</td>\n",
              "      <td>Two year</td>\n",
              "      <td>No</td>\n",
              "      <td>Electronic check</td>\n",
              "      <td>0</td>\n",
              "    </tr>\n",
              "    <tr>\n",
              "      <th>4820</th>\n",
              "      <td>72</td>\n",
              "      <td>26.25</td>\n",
              "      <td>1988.05</td>\n",
              "      <td>Female</td>\n",
              "      <td>0</td>\n",
              "      <td>Yes</td>\n",
              "      <td>Yes</td>\n",
              "      <td>Yes</td>\n",
              "      <td>Yes</td>\n",
              "      <td>No</td>\n",
              "      <td>No internet service</td>\n",
              "      <td>No internet service</td>\n",
              "      <td>No internet service</td>\n",
              "      <td>No internet service</td>\n",
              "      <td>No internet service</td>\n",
              "      <td>No internet service</td>\n",
              "      <td>Two year</td>\n",
              "      <td>Yes</td>\n",
              "      <td>Bank transfer (automatic)</td>\n",
              "      <td>0</td>\n",
              "    </tr>\n",
              "    <tr>\n",
              "      <th>3014</th>\n",
              "      <td>21</td>\n",
              "      <td>104.40</td>\n",
              "      <td>2157.95</td>\n",
              "      <td>Male</td>\n",
              "      <td>0</td>\n",
              "      <td>Yes</td>\n",
              "      <td>Yes</td>\n",
              "      <td>Yes</td>\n",
              "      <td>Yes</td>\n",
              "      <td>Fiber optic</td>\n",
              "      <td>No</td>\n",
              "      <td>Yes</td>\n",
              "      <td>Yes</td>\n",
              "      <td>No</td>\n",
              "      <td>Yes</td>\n",
              "      <td>Yes</td>\n",
              "      <td>Month-to-month</td>\n",
              "      <td>No</td>\n",
              "      <td>Electronic check</td>\n",
              "      <td>1</td>\n",
              "    </tr>\n",
              "    <tr>\n",
              "      <th>2555</th>\n",
              "      <td>16</td>\n",
              "      <td>94.45</td>\n",
              "      <td>1511.2</td>\n",
              "      <td>Female</td>\n",
              "      <td>1</td>\n",
              "      <td>No</td>\n",
              "      <td>No</td>\n",
              "      <td>Yes</td>\n",
              "      <td>No</td>\n",
              "      <td>Fiber optic</td>\n",
              "      <td>No</td>\n",
              "      <td>No</td>\n",
              "      <td>No</td>\n",
              "      <td>Yes</td>\n",
              "      <td>Yes</td>\n",
              "      <td>Yes</td>\n",
              "      <td>Month-to-month</td>\n",
              "      <td>Yes</td>\n",
              "      <td>Electronic check</td>\n",
              "      <td>1</td>\n",
              "    </tr>\n",
              "  </tbody>\n",
              "</table>\n",
              "</div>\n",
              "      <button class=\"colab-df-convert\" onclick=\"convertToInteractive('df-01fb4066-0cc1-4484-a698-9548fe757748')\"\n",
              "              title=\"Convert this dataframe to an interactive table.\"\n",
              "              style=\"display:none;\">\n",
              "        \n",
              "  <svg xmlns=\"http://www.w3.org/2000/svg\" height=\"24px\"viewBox=\"0 0 24 24\"\n",
              "       width=\"24px\">\n",
              "    <path d=\"M0 0h24v24H0V0z\" fill=\"none\"/>\n",
              "    <path d=\"M18.56 5.44l.94 2.06.94-2.06 2.06-.94-2.06-.94-.94-2.06-.94 2.06-2.06.94zm-11 1L8.5 8.5l.94-2.06 2.06-.94-2.06-.94L8.5 2.5l-.94 2.06-2.06.94zm10 10l.94 2.06.94-2.06 2.06-.94-2.06-.94-.94-2.06-.94 2.06-2.06.94z\"/><path d=\"M17.41 7.96l-1.37-1.37c-.4-.4-.92-.59-1.43-.59-.52 0-1.04.2-1.43.59L10.3 9.45l-7.72 7.72c-.78.78-.78 2.05 0 2.83L4 21.41c.39.39.9.59 1.41.59.51 0 1.02-.2 1.41-.59l7.78-7.78 2.81-2.81c.8-.78.8-2.07 0-2.86zM5.41 20L4 18.59l7.72-7.72 1.47 1.35L5.41 20z\"/>\n",
              "  </svg>\n",
              "      </button>\n",
              "      \n",
              "  <style>\n",
              "    .colab-df-container {\n",
              "      display:flex;\n",
              "      flex-wrap:wrap;\n",
              "      gap: 12px;\n",
              "    }\n",
              "\n",
              "    .colab-df-convert {\n",
              "      background-color: #E8F0FE;\n",
              "      border: none;\n",
              "      border-radius: 50%;\n",
              "      cursor: pointer;\n",
              "      display: none;\n",
              "      fill: #1967D2;\n",
              "      height: 32px;\n",
              "      padding: 0 0 0 0;\n",
              "      width: 32px;\n",
              "    }\n",
              "\n",
              "    .colab-df-convert:hover {\n",
              "      background-color: #E2EBFA;\n",
              "      box-shadow: 0px 1px 2px rgba(60, 64, 67, 0.3), 0px 1px 3px 1px rgba(60, 64, 67, 0.15);\n",
              "      fill: #174EA6;\n",
              "    }\n",
              "\n",
              "    [theme=dark] .colab-df-convert {\n",
              "      background-color: #3B4455;\n",
              "      fill: #D2E3FC;\n",
              "    }\n",
              "\n",
              "    [theme=dark] .colab-df-convert:hover {\n",
              "      background-color: #434B5C;\n",
              "      box-shadow: 0px 1px 3px 1px rgba(0, 0, 0, 0.15);\n",
              "      filter: drop-shadow(0px 1px 2px rgba(0, 0, 0, 0.3));\n",
              "      fill: #FFFFFF;\n",
              "    }\n",
              "  </style>\n",
              "\n",
              "      <script>\n",
              "        const buttonEl =\n",
              "          document.querySelector('#df-01fb4066-0cc1-4484-a698-9548fe757748 button.colab-df-convert');\n",
              "        buttonEl.style.display =\n",
              "          google.colab.kernel.accessAllowed ? 'block' : 'none';\n",
              "\n",
              "        async function convertToInteractive(key) {\n",
              "          const element = document.querySelector('#df-01fb4066-0cc1-4484-a698-9548fe757748');\n",
              "          const dataTable =\n",
              "            await google.colab.kernel.invokeFunction('convertToInteractive',\n",
              "                                                     [key], {});\n",
              "          if (!dataTable) return;\n",
              "\n",
              "          const docLinkHtml = 'Like what you see? Visit the ' +\n",
              "            '<a target=\"_blank\" href=https://colab.research.google.com/notebooks/data_table.ipynb>data table notebook</a>'\n",
              "            + ' to learn more about interactive tables.';\n",
              "          element.innerHTML = '';\n",
              "          dataTable['output_type'] = 'display_data';\n",
              "          await google.colab.output.renderOutput(dataTable, element);\n",
              "          const docLink = document.createElement('div');\n",
              "          docLink.innerHTML = docLinkHtml;\n",
              "          element.appendChild(docLink);\n",
              "        }\n",
              "      </script>\n",
              "    </div>\n",
              "  </div>\n",
              "  "
            ]
          },
          "metadata": {},
          "execution_count": 7
        }
      ]
    },
    {
      "cell_type": "code",
      "source": [
        "# Смотрим на Nan'ы в данных\n",
        "train.isna().sum()"
      ],
      "metadata": {
        "colab": {
          "base_uri": "https://localhost:8080/"
        },
        "id": "U0gQX1JZINSJ",
        "outputId": "ad89eded-006b-403a-e8df-c435c79c5c15"
      },
      "execution_count": 8,
      "outputs": [
        {
          "output_type": "execute_result",
          "data": {
            "text/plain": [
              "ClientPeriod                0\n",
              "MonthlySpending             0\n",
              "TotalSpent                  0\n",
              "Sex                         0\n",
              "IsSeniorCitizen             0\n",
              "HasPartner                  0\n",
              "HasChild                    0\n",
              "HasPhoneService             0\n",
              "HasMultiplePhoneNumbers     0\n",
              "HasInternetService          0\n",
              "HasOnlineSecurityService    0\n",
              "HasOnlineBackup             0\n",
              "HasDeviceProtection         0\n",
              "HasTechSupportAccess        0\n",
              "HasOnlineTV                 0\n",
              "HasMovieSubscription        0\n",
              "HasContractPhone            0\n",
              "IsBillingPaperless          0\n",
              "PaymentMethod               0\n",
              "Churn                       0\n",
              "dtype: int64"
            ]
          },
          "metadata": {},
          "execution_count": 8
        }
      ]
    },
    {
      "cell_type": "markdown",
      "source": [
        "Есть колонка 'TotalSpent', которая имеет тип np.object, но содержит числовые значения.\n",
        "\n",
        "Также имеем колонку 'IsSeniorCitizen', содержащая значения 0/1 и является категориальной. \n",
        "\n",
        "Переведем колонку 'TotalSpent' к числовому типу, а значения 0/1 в колонке 'IsSeniorCitizen' приведем к No/Yes соответственно. После проверим не появились ли Nan-значения."
      ],
      "metadata": {
        "id": "z9bjZQRrI2eG"
      }
    },
    {
      "cell_type": "code",
      "source": [
        "train['TotalSpent'] = pd.to_numeric(train['TotalSpent'], errors='coerce')\n",
        "train['IsSeniorCitizen'] = train['IsSeniorCitizen'].map({0: 'No', 1: 'Yes'})"
      ],
      "metadata": {
        "id": "0GZCQMyVINUR"
      },
      "execution_count": 9,
      "outputs": []
    },
    {
      "cell_type": "code",
      "source": [
        "train.isna().sum()"
      ],
      "metadata": {
        "colab": {
          "base_uri": "https://localhost:8080/"
        },
        "id": "0c2qFeiNINWJ",
        "outputId": "7cf9b126-2bbd-416c-b065-413722249b00"
      },
      "execution_count": 10,
      "outputs": [
        {
          "output_type": "execute_result",
          "data": {
            "text/plain": [
              "ClientPeriod                0\n",
              "MonthlySpending             0\n",
              "TotalSpent                  9\n",
              "Sex                         0\n",
              "IsSeniorCitizen             0\n",
              "HasPartner                  0\n",
              "HasChild                    0\n",
              "HasPhoneService             0\n",
              "HasMultiplePhoneNumbers     0\n",
              "HasInternetService          0\n",
              "HasOnlineSecurityService    0\n",
              "HasOnlineBackup             0\n",
              "HasDeviceProtection         0\n",
              "HasTechSupportAccess        0\n",
              "HasOnlineTV                 0\n",
              "HasMovieSubscription        0\n",
              "HasContractPhone            0\n",
              "IsBillingPaperless          0\n",
              "PaymentMethod               0\n",
              "Churn                       0\n",
              "dtype: int64"
            ]
          },
          "metadata": {},
          "execution_count": 10
        }
      ]
    },
    {
      "cell_type": "code",
      "source": [
        "nan_count_df = pd.DataFrame(train.isna().sum(), columns=['Counts of Nan values'])\n",
        "nan_count_df.plot(kind='bar', figsize=(10, 4), title='Count of Nan in train')"
      ],
      "metadata": {
        "colab": {
          "base_uri": "https://localhost:8080/",
          "height": 424
        },
        "id": "JjhAXIW3INYG",
        "outputId": "de5c9df9-2cbf-4147-dd33-df23f6610d3d"
      },
      "execution_count": 11,
      "outputs": [
        {
          "output_type": "execute_result",
          "data": {
            "text/plain": [
              "<matplotlib.axes._subplots.AxesSubplot at 0x7fe9efd43490>"
            ]
          },
          "metadata": {},
          "execution_count": 11
        },
        {
          "output_type": "display_data",
          "data": {
            "text/plain": [
              "<Figure size 720x288 with 1 Axes>"
            ],
            "image/png": "[encoded data removed]"
          },
          "metadata": {
            "needs_background": "light"
          }
        }
      ]
    },
    {
      "cell_type": "markdown",
      "source": [
        "Аналогичные действия проведем с данными в test"
      ],
      "metadata": {
        "id": "bXtEI7ymLu87"
      }
    },
    {
      "cell_type": "code",
      "source": [
        "test['TotalSpent'] = pd.to_numeric(test['TotalSpent'], errors='coerce')\n",
        "test['IsSeniorCitizen'] = test['IsSeniorCitizen'].map({0: 'No', 1: 'Yes'})"
      ],
      "metadata": {
        "id": "ZNMBg38aINaI"
      },
      "execution_count": 12,
      "outputs": []
    },
    {
      "cell_type": "code",
      "source": [
        "nan_count_df_test = pd.DataFrame(test.isna().sum(),\n",
        "                                 columns=['Count of Nan values'])\n",
        "nan_count_df_test.plot(kind='bar', figsize=(10, 4), \n",
        "                       title='Count of Nan in test')"
      ],
      "metadata": {
        "colab": {
          "base_uri": "https://localhost:8080/",
          "height": 424
        },
        "id": "I8xfM0HuINcM",
        "outputId": "7b0015eb-cafe-4d14-ea74-bc9b929634c3"
      },
      "execution_count": 13,
      "outputs": [
        {
          "output_type": "execute_result",
          "data": {
            "text/plain": [
              "<matplotlib.axes._subplots.AxesSubplot at 0x7fe9efd40450>"
            ]
          },
          "metadata": {},
          "execution_count": 13
        },
        {
          "output_type": "display_data",
          "data": {
            "text/plain": [
              "<Figure size 720x288 with 1 Axes>"
            ],
            "image/png": "[encoded data removed]"
          },
          "metadata": {
            "needs_background": "light"
          }
        }
      ]
    },
    {
      "cell_type": "markdown",
      "source": [
        "Посчитаем процент Nan-значений в test и train."
      ],
      "metadata": {
        "id": "TmEXmW1FMXk6"
      }
    },
    {
      "cell_type": "code",
      "source": [
        "print(\"% Nan values in train\", \n",
        "      train['TotalSpent'].isna().sum() / train.shape[0])\n",
        "print(\"% Nan values in test\",\n",
        "      test['TotalSpent'].isna().sum() / test.shape[0])"
      ],
      "metadata": {
        "colab": {
          "base_uri": "https://localhost:8080/"
        },
        "id": "6ZiA0G4SINeM",
        "outputId": "2cd0b1a0-e8fe-40fe-d0a6-6a4c57583baf"
      },
      "execution_count": 14,
      "outputs": [
        {
          "output_type": "stream",
          "name": "stdout",
          "text": [
            "% Nan values in train 0.0017039000378644452\n",
            "% Nan values in test 0.001135718341851221\n"
          ]
        }
      ]
    },
    {
      "cell_type": "markdown",
      "source": [
        "Количество Nan-значений меньше 1 процента, поэтому заменим все Nan'ы на 0.\n",
        "Такое количество изменений никак не повлияют на дальнейшее обучение нашей модели"
      ],
      "metadata": {
        "id": "t6BRFLgqM2N5"
      }
    },
    {
      "cell_type": "code",
      "source": [
        "train.fillna(0.0, inplace=True)\n",
        "test.fillna(0.0, inplace=True)"
      ],
      "metadata": {
        "id": "wQlq9xT3INgj"
      },
      "execution_count": 15,
      "outputs": []
    },
    {
      "cell_type": "markdown",
      "metadata": {
        "id": "dK370bPCEEZD"
      },
      "source": [
        "## Анализ данных (3 балла)\n",
        "\n",
        "1) Для численных призанков постройте гистограмму (*plt.hist(...)*) или boxplot (*plt.boxplot(...)*). Для категориальных посчитайте количество каждого значения для каждого признака. Для каждой колонки надо сделать *data.value_counts()* и построить bar диаграммы *plt.bar(...)* или круговые диаграммы *plt.pie(...)* (хорошо, елси вы сможете это сделать на одном гарфике с помощью *plt.subplots(...)*). \n",
        "\n",
        "2) Посмотрите на распределение целевой переменной и скажите, являются ли классы несбалансированными.\n",
        "\n",
        "3) (Если будет желание) Поиграйте с разными библиотеками для визуализации - *sns*, *pandas_visual_analysis*, etc.\n",
        "\n",
        "Второй пункт очень важен, потому что существуют задачи классификации с несбалансированными классами. Например, это может значить, что в датасете намного больше примеров 0 класса. В таких случаях нужно 1) не использовать accuracy как метрику 2) использовать методы борьбы с imbalanced dataset (обычно если датасет сильно несбалансирован, т.е. класса 1 в 20 раз меньше класса 0)."
      ]
    },
    {
      "cell_type": "markdown",
      "source": [
        "Посмотрим на распределение численных признаков."
      ],
      "metadata": {
        "id": "X-Mmz6SMTicv"
      }
    },
    {
      "cell_type": "code",
      "source": [
        "fig, axes = plt.subplots(1, 3, figsize=(25, 10))\n",
        "\n",
        "train[num_cols].hist(bins=60, figsize=(10, 8), ax=axes)\n",
        "fig.text(0.5, 0.08, 'value', ha='center')\n",
        "fig.text(0.08, 0.5, 'count', va='center', rotation='vertical')\n",
        "None"
      ],
      "metadata": {
        "colab": {
          "base_uri": "https://localhost:8080/",
          "height": 620
        },
        "id": "gfXYfQHwWWWa",
        "outputId": "612efacc-77fe-41a5-b176-9fc445390920"
      },
      "execution_count": 16,
      "outputs": [
        {
          "output_type": "display_data",
          "data": {
            "text/plain": [
              "<Figure size 1800x720 with 3 Axes>"
            ],
            "image/png": "[encoded data removed]"
          },
          "metadata": {
            "needs_background": "light"
          }
        }
      ]
    },
    {
      "cell_type": "markdown",
      "source": [
        "Посмотрим на связь целевой переменной с категориальными признаками"
      ],
      "metadata": {
        "id": "wdygStv8WbJm"
      }
    },
    {
      "cell_type": "code",
      "metadata": {
        "id": "NZkbgFJZEEZE",
        "colab": {
          "base_uri": "https://localhost:8080/",
          "height": 1000
        },
        "outputId": "0c240191-9404-46ea-e863-dc4883ff6de8"
      },
      "source": [
        "fig, axes = plt.subplots(2, 8, figsize=(25, 10), gridspec_kw={'wspace': 0.4})\n",
        "\n",
        "for column, ax in zip(cat_cols, axes.flat):\n",
        "  sns.countplot(column, hue='Churn', data=train, ax=ax).set_title(column)\n",
        "\n",
        "plt.setp(axes, xlabel=None, ylabel=None)\n",
        "\n",
        "plt.show()\n",
        "None"
      ],
      "execution_count": 17,
      "outputs": [
        {
          "output_type": "stream",
          "name": "stderr",
          "text": [
            "/usr/local/lib/python3.7/dist-packages/seaborn/_decorators.py:43: FutureWarning: Pass the following variable as a keyword arg: x. From version 0.12, the only valid positional argument will be `data`, and passing other arguments without an explicit keyword will result in an error or misinterpretation.\n",
            "  FutureWarning\n",
            "/usr/local/lib/python3.7/dist-packages/seaborn/_decorators.py:43: FutureWarning: Pass the following variable as a keyword arg: x. From version 0.12, the only valid positional argument will be `data`, and passing other arguments without an explicit keyword will result in an error or misinterpretation.\n",
            "  FutureWarning\n",
            "/usr/local/lib/python3.7/dist-packages/seaborn/_decorators.py:43: FutureWarning: Pass the following variable as a keyword arg: x. From version 0.12, the only valid positional argument will be `data`, and passing other arguments without an explicit keyword will result in an error or misinterpretation.\n",
            "  FutureWarning\n",
            "/usr/local/lib/python3.7/dist-packages/seaborn/_decorators.py:43: FutureWarning: Pass the following variable as a keyword arg: x. From version 0.12, the only valid positional argument will be `data`, and passing other arguments without an explicit keyword will result in an error or misinterpretation.\n",
            "  FutureWarning\n",
            "/usr/local/lib/python3.7/dist-packages/seaborn/_decorators.py:43: FutureWarning: Pass the following variable as a keyword arg: x. From version 0.12, the only valid positional argument will be `data`, and passing other arguments without an explicit keyword will result in an error or misinterpretation.\n",
            "  FutureWarning\n",
            "/usr/local/lib/python3.7/dist-packages/seaborn/_decorators.py:43: FutureWarning: Pass the following variable as a keyword arg: x. From version 0.12, the only valid positional argument will be `data`, and passing other arguments without an explicit keyword will result in an error or misinterpretation.\n",
            "  FutureWarning\n",
            "/usr/local/lib/python3.7/dist-packages/seaborn/_decorators.py:43: FutureWarning: Pass the following variable as a keyword arg: x. From version 0.12, the only valid positional argument will be `data`, and passing other arguments without an explicit keyword will result in an error or misinterpretation.\n",
            "  FutureWarning\n",
            "/usr/local/lib/python3.7/dist-packages/seaborn/_decorators.py:43: FutureWarning: Pass the following variable as a keyword arg: x. From version 0.12, the only valid positional argument will be `data`, and passing other arguments without an explicit keyword will result in an error or misinterpretation.\n",
            "  FutureWarning\n",
            "/usr/local/lib/python3.7/dist-packages/seaborn/_decorators.py:43: FutureWarning: Pass the following variable as a keyword arg: x. From version 0.12, the only valid positional argument will be `data`, and passing other arguments without an explicit keyword will result in an error or misinterpretation.\n",
            "  FutureWarning\n",
            "/usr/local/lib/python3.7/dist-packages/seaborn/_decorators.py:43: FutureWarning: Pass the following variable as a keyword arg: x. From version 0.12, the only valid positional argument will be `data`, and passing other arguments without an explicit keyword will result in an error or misinterpretation.\n",
            "  FutureWarning\n",
            "/usr/local/lib/python3.7/dist-packages/seaborn/_decorators.py:43: FutureWarning: Pass the following variable as a keyword arg: x. From version 0.12, the only valid positional argument will be `data`, and passing other arguments without an explicit keyword will result in an error or misinterpretation.\n",
            "  FutureWarning\n",
            "/usr/local/lib/python3.7/dist-packages/seaborn/_decorators.py:43: FutureWarning: Pass the following variable as a keyword arg: x. From version 0.12, the only valid positional argument will be `data`, and passing other arguments without an explicit keyword will result in an error or misinterpretation.\n",
            "  FutureWarning\n",
            "/usr/local/lib/python3.7/dist-packages/seaborn/_decorators.py:43: FutureWarning: Pass the following variable as a keyword arg: x. From version 0.12, the only valid positional argument will be `data`, and passing other arguments without an explicit keyword will result in an error or misinterpretation.\n",
            "  FutureWarning\n",
            "/usr/local/lib/python3.7/dist-packages/seaborn/_decorators.py:43: FutureWarning: Pass the following variable as a keyword arg: x. From version 0.12, the only valid positional argument will be `data`, and passing other arguments without an explicit keyword will result in an error or misinterpretation.\n",
            "  FutureWarning\n",
            "/usr/local/lib/python3.7/dist-packages/seaborn/_decorators.py:43: FutureWarning: Pass the following variable as a keyword arg: x. From version 0.12, the only valid positional argument will be `data`, and passing other arguments without an explicit keyword will result in an error or misinterpretation.\n",
            "  FutureWarning\n",
            "/usr/local/lib/python3.7/dist-packages/seaborn/_decorators.py:43: FutureWarning: Pass the following variable as a keyword arg: x. From version 0.12, the only valid positional argument will be `data`, and passing other arguments without an explicit keyword will result in an error or misinterpretation.\n",
            "  FutureWarning\n"
          ]
        },
        {
          "output_type": "display_data",
          "data": {
            "text/plain": [
              "<Figure size 1800x720 with 16 Axes>"
            ],
            "image/png": "[encoded data removed]"
          },
          "metadata": {
            "needs_background": "light"
          }
        }
      ]
    },
    {
      "cell_type": "code",
      "source": [
        "# Анализ количественных признаков\n",
        "fig, axes = plt.subplots(1, 3, figsize=(20, 6))\n",
        "\n",
        "for column, ax in zip(num_cols, axes.flat):\n",
        "  sns.distplot(train.query(\"Churn == 0\")[column],\n",
        "               label='No', ax=ax).set_title(column)\n",
        "  sns.distplot(train.query(\"Churn == 1\")[column],\n",
        "               label='Yes', ax=ax).set_title(column)\n",
        "  ax.legend(loc='upper right', title='Churn')\n",
        "\n",
        "\n",
        "plt.setp(axes, xlabel=None, ylabel=None)\n",
        "\n",
        "plt.show()"
      ],
      "metadata": {
        "colab": {
          "base_uri": "https://localhost:8080/",
          "height": 627
        },
        "id": "8T04kQ9aVNoo",
        "outputId": "f37224d1-202f-4ccd-9207-51667a211095"
      },
      "execution_count": 18,
      "outputs": [
        {
          "output_type": "stream",
          "name": "stderr",
          "text": [
            "/usr/local/lib/python3.7/dist-packages/seaborn/distributions.py:2619: FutureWarning: `distplot` is a deprecated function and will be removed in a future version. Please adapt your code to use either `displot` (a figure-level function with similar flexibility) or `histplot` (an axes-level function for histograms).\n",
            "  warnings.warn(msg, FutureWarning)\n",
            "/usr/local/lib/python3.7/dist-packages/seaborn/distributions.py:2619: FutureWarning: `distplot` is a deprecated function and will be removed in a future version. Please adapt your code to use either `displot` (a figure-level function with similar flexibility) or `histplot` (an axes-level function for histograms).\n",
            "  warnings.warn(msg, FutureWarning)\n",
            "/usr/local/lib/python3.7/dist-packages/seaborn/distributions.py:2619: FutureWarning: `distplot` is a deprecated function and will be removed in a future version. Please adapt your code to use either `displot` (a figure-level function with similar flexibility) or `histplot` (an axes-level function for histograms).\n",
            "  warnings.warn(msg, FutureWarning)\n",
            "/usr/local/lib/python3.7/dist-packages/seaborn/distributions.py:2619: FutureWarning: `distplot` is a deprecated function and will be removed in a future version. Please adapt your code to use either `displot` (a figure-level function with similar flexibility) or `histplot` (an axes-level function for histograms).\n",
            "  warnings.warn(msg, FutureWarning)\n",
            "/usr/local/lib/python3.7/dist-packages/seaborn/distributions.py:2619: FutureWarning: `distplot` is a deprecated function and will be removed in a future version. Please adapt your code to use either `displot` (a figure-level function with similar flexibility) or `histplot` (an axes-level function for histograms).\n",
            "  warnings.warn(msg, FutureWarning)\n",
            "/usr/local/lib/python3.7/dist-packages/seaborn/distributions.py:2619: FutureWarning: `distplot` is a deprecated function and will be removed in a future version. Please adapt your code to use either `displot` (a figure-level function with similar flexibility) or `histplot` (an axes-level function for histograms).\n",
            "  warnings.warn(msg, FutureWarning)\n"
          ]
        },
        {
          "output_type": "display_data",
          "data": {
            "text/plain": [
              "<Figure size 1440x432 with 3 Axes>"
            ],
            "image/png": "[encoded data removed]"
          },
          "metadata": {
            "needs_background": "light"
          }
        }
      ]
    },
    {
      "cell_type": "code",
      "source": [
        "fig, axes = plt.subplots(4, 4, figsize=(18, 10))\n",
        "\n",
        "for ax, col in zip(axes.flatten(), cat_cols):\n",
        "  ax.set_title(col)\n",
        "  counts = train[col].value_counts()\n",
        "  labels = counts.index\n",
        "  ax.pie(counts, labels=labels)"
      ],
      "metadata": {
        "colab": {
          "base_uri": "https://localhost:8080/",
          "height": 591
        },
        "id": "BDql-SGTUfk8",
        "outputId": "89da737c-cf3c-4ac4-d49b-4af21428929f"
      },
      "execution_count": 19,
      "outputs": [
        {
          "output_type": "display_data",
          "data": {
            "text/plain": [
              "<Figure size 1296x720 with 16 Axes>"
            ],
            "image/png": "[encoded data removed]"
          },
          "metadata": {}
        }
      ]
    },
    {
      "cell_type": "markdown",
      "metadata": {
        "id": "zg60u3QDEEZH"
      },
      "source": [
        "(Дополнительно) Если вы нашли какие-то ошибки в данных или выбросы, то можете их убрать. Тут можно поэксперементировать с обработкой данных как угодно, но не за баллы."
      ]
    },
    {
      "cell_type": "markdown",
      "source": [
        "Заменим значения \"No internet service\" и \"No phone service\" в колонках на \"No\", \n",
        "так как у нас есть колонки HasInternetService / HasPhoneService.\n",
        "\n",
        "Возможно такие значения появились из-за сбоя на сервере => отсюда появились такие значения в данных."
      ],
      "metadata": {
        "id": "CpiLZBfoZJF_"
      }
    },
    {
      "cell_type": "code",
      "metadata": {
        "id": "fwfksF1gEEZI"
      },
      "source": [
        "cat_replacements = {\"No internet service\": \"No\",\n",
        "                    \"No phone service\": \"No\"}\n",
        "\n",
        "train.replace(cat_replacements, inplace=True)\n",
        "test.replace(cat_replacements, inplace=True)"
      ],
      "execution_count": 20,
      "outputs": []
    },
    {
      "cell_type": "code",
      "source": [
        "fig, axes = plt.subplots(4, 4, figsize=(18, 10))\n",
        "\n",
        "for ax, col in zip(axes.flatten(), cat_cols):\n",
        "  ax.set_title(col)\n",
        "  counts = train[col].value_counts()\n",
        "  labels = counts.index\n",
        "  ax.pie(counts, labels=labels)"
      ],
      "metadata": {
        "colab": {
          "base_uri": "https://localhost:8080/",
          "height": 591
        },
        "id": "jtmByB3aa9Tw",
        "outputId": "0e136ac4-6b6d-409c-ff30-f0995ec58d1e"
      },
      "execution_count": 21,
      "outputs": [
        {
          "output_type": "display_data",
          "data": {
            "text/plain": [
              "<Figure size 1296x720 with 16 Axes>"
            ],
            "image/png": "[encoded data removed]"
          },
          "metadata": {}
        }
      ]
    },
    {
      "cell_type": "markdown",
      "metadata": {
        "id": "DviiJd8REEZK"
      },
      "source": [
        "## Применение линейных моделей (3 балла)\n",
        "\n",
        "1) Обработайте данные для того, чтобы к ним можно было применить LogisticRegression. Т.е. отнормируйте числовые признаки, а категориальные закодируйте с помощью one-hot-encoding'а. \n",
        "\n",
        "2) С помощью кроссвалидации или разделения на train/valid выборку протестируйте разные значения гиперпараметра C и выберите лучший (можно тестировать С=100, 10, 1, 0.1, 0.01, 0.001) по метрике ROC-AUC. \n",
        "\n",
        "Если вы разделяете на train/valid, то используйте LogisticRegressionCV. Он сам при вызове .fit() подберет параметр С. (не забудьте передать scroing='roc_auc', чтобы при кроссвалидации сравнивались значения этой метрики, и refit=True, чтобы при потом модель обучилась на всем датасете с лучшим параметром C). \n",
        "\n",
        "\n",
        "(более сложный вариант) Если вы будете использовать кроссвалидацию, то преобразования данных и LogisticRegression нужно соединить в один Pipeline с помощью make_pipeline, как это делалось во втором семинаре. Потом pipeline надо передать в GridSearchCV. Для one-hot-encoding'a можно испльзовать комбинацию LabelEncoder + OneHotEncoder (сначала превращаем строчки в числа, а потом числа првращаем в one-hot вектора.)"
      ]
    },
    {
      "cell_type": "code",
      "metadata": {
        "id": "xHCLDmwqEEZL"
      },
      "source": [
        "from sklearn.linear_model import LogisticRegression, LogisticRegressionCV\n",
        "from sklearn.model_selection import train_test_split, GridSearchCV\n",
        "from sklearn.compose import ColumnTransformer\n",
        "from sklearn.preprocessing import StandardScaler, RobustScaler, LabelEncoder, OneHotEncoder\n",
        "from sklearn.pipeline import make_pipeline"
      ],
      "execution_count": 22,
      "outputs": []
    },
    {
      "cell_type": "code",
      "metadata": {
        "id": "P2Yv3uYtEEZO",
        "colab": {
          "base_uri": "https://localhost:8080/"
        },
        "outputId": "32bbce56-04a6-47ec-d656-0460ddfd45f6"
      },
      "source": [
        "X_train, y_train = train[feature_cols], train[target_col]\n",
        "\n",
        "X_train.shape, y_train.shape"
      ],
      "execution_count": 23,
      "outputs": [
        {
          "output_type": "execute_result",
          "data": {
            "text/plain": [
              "((5282, 19), (5282,))"
            ]
          },
          "metadata": {},
          "execution_count": 23
        }
      ]
    },
    {
      "cell_type": "code",
      "source": [
        "num_transformer = StandardScaler()\n",
        "cat_transformer = OneHotEncoder()"
      ],
      "metadata": {
        "id": "Jp6QiwG8b0gd"
      },
      "execution_count": 24,
      "outputs": []
    },
    {
      "cell_type": "code",
      "source": [
        "preprocessor = ColumnTransformer(\n",
        "    transformers=[\n",
        "      (\"numerical\", num_transformer, num_cols),\n",
        "      (\"categorical\", cat_transformer, cat_cols)\n",
        "    ]\n",
        ")"
      ],
      "metadata": {
        "id": "aBxwnIwXb0jc"
      },
      "execution_count": 25,
      "outputs": []
    },
    {
      "cell_type": "code",
      "source": [
        "log_reg_model = LogisticRegression(penalty=\"l1\", \n",
        "                             solver=\"saga\",\n",
        "                             max_iter=1000,\n",
        "                             random_state=42)\n"
      ],
      "metadata": {
        "id": "Ak4g3E38b0mZ"
      },
      "execution_count": 26,
      "outputs": []
    },
    {
      "cell_type": "code",
      "source": [
        "params = {\n",
        "    \"logisticregression__C\" : [0.001, 0.01, 0.1, 1, 10, 100]\n",
        "}"
      ],
      "metadata": {
        "id": "LP5MZ7_jb0qG"
      },
      "execution_count": 27,
      "outputs": []
    },
    {
      "cell_type": "code",
      "source": [
        "clf = make_pipeline(preprocessor, log_reg_model)"
      ],
      "metadata": {
        "id": "s0xX3wwTb0ss"
      },
      "execution_count": 28,
      "outputs": []
    },
    {
      "cell_type": "code",
      "source": [
        "grid_search_cv_log = GridSearchCV(estimator=clf, param_grid=params,\n",
        "                                  cv=5, scoring=\"roc_auc\", verbose=5,\n",
        "                                  n_jobs=-1, refit=True)"
      ],
      "metadata": {
        "id": "639CDiV4b0wU"
      },
      "execution_count": 29,
      "outputs": []
    },
    {
      "cell_type": "code",
      "source": [
        "log_reg = grid_search_cv_log.fit(X_train, y_train)"
      ],
      "metadata": {
        "colab": {
          "base_uri": "https://localhost:8080/"
        },
        "id": "-5CK8Fu5dwKU",
        "outputId": "8a54c135-1197-4556-8af7-6634b471874e"
      },
      "execution_count": 30,
      "outputs": [
        {
          "output_type": "stream",
          "name": "stdout",
          "text": [
            "Fitting 5 folds for each of 6 candidates, totalling 30 fits\n"
          ]
        }
      ]
    },
    {
      "cell_type": "code",
      "source": [
        "print(f\"best score:{log_reg.best_score_}\")\n",
        "print(f\"best params:{log_reg.best_params_}\")"
      ],
      "metadata": {
        "colab": {
          "base_uri": "https://localhost:8080/"
        },
        "id": "YrqFukrfdwwB",
        "outputId": "5c2aeb98-c836-4edd-c852-7fbd8c42dd4d"
      },
      "execution_count": 31,
      "outputs": [
        {
          "output_type": "stream",
          "name": "stdout",
          "text": [
            "best score:0.8451194876516641\n",
            "best params:{'logisticregression__C': 100}\n"
          ]
        }
      ]
    },
    {
      "cell_type": "code",
      "source": [
        "best_log_reg = log_reg.best_estimator_"
      ],
      "metadata": {
        "id": "YLyK8j7KdxH0"
      },
      "execution_count": 32,
      "outputs": []
    },
    {
      "cell_type": "code",
      "source": [
        "first_submit = pd.read_csv('./submission.csv')\n",
        "first_submit['Churn'] = best_log_reg.predict_proba(test)[:, 1]\n",
        "first_submit.to_csv(\"first_submit.csv\", index=False)"
      ],
      "metadata": {
        "id": "vghsDZFrdxgV"
      },
      "execution_count": null,
      "outputs": []
    },
    {
      "cell_type": "markdown",
      "source": [
        "![x8iTdZhUGNY.jpg](data:image/jpeg;base64,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)"
      ],
      "metadata": {
        "id": "mwZk7arFgmf1"
      }
    },
    {
      "cell_type": "markdown",
      "metadata": {
        "id": "BlTeVy7fEEZR"
      },
      "source": [
        "## Применение градиентного бустинга (2 балла)\n",
        "\n",
        "Если вы хотите получить баллы за точный ответ, то стоит попробовать градиентный бустинг. Часто градиентный бустинг с дефолтными параметрами даст вам 80% результата за 0% усилий.\n",
        "\n",
        "Мы будем использовать catboost, поэтому нам не надо кодировать категориальные признаки. catboost сделает это сам (в .fit() надо передать cat_features=cat_cols). А численные признаки нормировать для моделей, основанных на деревьях не нужно.\n",
        "\n",
        "1) Разделите выборку на train/valid. Протестируйте catboost cо стандартными параметрами.\n",
        "\n",
        "2) Протестируйте разные занчения параметроа количества деревьев и learning_rate'а и выберите лучшую по метрике ROC-AUC комбинацию. \n",
        "\n",
        "(Дополнительно) Есть некоторые сложности с тем, чтобы использовать CatBoostClassifier вместе с GridSearchCV, поэтому мы не просим использовать кроссвалидацию. Но можете попробовать)"
      ]
    },
    {
      "cell_type": "code",
      "metadata": {
        "id": "Fioxxlp-EEZS",
        "colab": {
          "base_uri": "https://localhost:8080/"
        },
        "outputId": "5adbe965-e713-4f10-a36b-0b61c859dc53"
      },
      "source": [
        "!pip install catboost"
      ],
      "execution_count": 72,
      "outputs": [
        {
          "output_type": "stream",
          "name": "stdout",
          "text": [
            "Looking in indexes: https://pypi.org/simple, https://us-python.pkg.dev/colab-wheels/public/simple/\n",
            "Collecting catboost\n",
            "  Downloading catboost-1.1-cp37-none-manylinux1_x86_64.whl (76.8 MB)\n",
            "\u001b[K     |████████████████████████████████| 76.8 MB 1.2 MB/s \n",
            "\u001b[?25hRequirement already satisfied: scipy in /usr/local/lib/python3.7/dist-packages (from catboost) (1.7.3)\n",
            "Requirement already satisfied: matplotlib in /usr/local/lib/python3.7/dist-packages (from catboost) (3.2.2)\n",
            "Requirement already satisfied: numpy>=1.16.0 in /usr/local/lib/python3.7/dist-packages (from catboost) (1.21.6)\n",
            "Requirement already satisfied: pandas>=0.24.0 in /usr/local/lib/python3.7/dist-packages (from catboost) (1.3.5)\n",
            "Requirement already satisfied: six in /usr/local/lib/python3.7/dist-packages (from catboost) (1.15.0)\n",
            "Requirement already satisfied: plotly in /usr/local/lib/python3.7/dist-packages (from catboost) (5.5.0)\n",
            "Requirement already satisfied: graphviz in /usr/local/lib/python3.7/dist-packages (from catboost) (0.10.1)\n",
            "Requirement already satisfied: python-dateutil>=2.7.3 in /usr/local/lib/python3.7/dist-packages (from pandas>=0.24.0->catboost) (2.8.2)\n",
            "Requirement already satisfied: pytz>=2017.3 in /usr/local/lib/python3.7/dist-packages (from pandas>=0.24.0->catboost) (2022.5)\n",
            "Requirement already satisfied: pyparsing!=2.0.4,!=2.1.2,!=2.1.6,>=2.0.1 in /usr/local/lib/python3.7/dist-packages (from matplotlib->catboost) (3.0.9)\n",
            "Requirement already satisfied: cycler>=0.10 in /usr/local/lib/python3.7/dist-packages (from matplotlib->catboost) (0.11.0)\n",
            "Requirement already satisfied: kiwisolver>=1.0.1 in /usr/local/lib/python3.7/dist-packages (from matplotlib->catboost) (1.4.4)\n",
            "Requirement already satisfied: typing-extensions in /usr/local/lib/python3.7/dist-packages (from kiwisolver>=1.0.1->matplotlib->catboost) (4.1.1)\n",
            "Requirement already satisfied: tenacity>=6.2.0 in /usr/local/lib/python3.7/dist-packages (from plotly->catboost) (8.1.0)\n",
            "Installing collected packages: catboost\n",
            "Successfully installed catboost-1.1\n"
          ]
        }
      ]
    },
    {
      "cell_type": "code",
      "source": [
        "from catboost import CatBoostClassifier"
      ],
      "metadata": {
        "id": "3DgL6SCqimWY"
      },
      "execution_count": 33,
      "outputs": []
    },
    {
      "cell_type": "code",
      "source": [
        "my_catboost = CatBoostClassifier(\n",
        "    cat_features=cat_cols,\n",
        "    logging_level=\"Silent\",\n",
        "    eval_metric=\"AUC:hints=skip_train~false\",\n",
        "    grow_policy=\"Lossguide\",\n",
        "    metric_period=100,\n",
        "    random_seed=42\n",
        ")\n",
        "\n",
        "params = {\n",
        "    \"max_depth\": [2, 4, 8],\n",
        "    \"subsample\": [0.1, 1, 10],\n",
        "    \"n_estimators\": [10, 50, 100],\n",
        "    \"random_strength\": [1, 10, 100],\n",
        "    \"learning_rate\": [0.01, 0.1, 0.5]\n",
        "}"
      ],
      "metadata": {
        "id": "h9FlxsIMimZK"
      },
      "execution_count": 34,
      "outputs": []
    },
    {
      "cell_type": "code",
      "source": [
        "my_catboost.grid_search(params, X_train, y_train, cv=10, plot=True, refit=True)"
      ],
      "metadata": {
        "colab": {
          "base_uri": "https://localhost:8080/",
          "height": 1000,
          "referenced_widgets": [
            "14c17e9f0d6642e68dc6525b3b2e0a26"
          ]
        },
        "id": "-ulhX4nCimcq",
        "outputId": "8c955bec-7675-470e-c64d-3f3b56cde622"
      },
      "execution_count": 35,
      "outputs": [
        {
          "output_type": "display_data",
          "data": {
            "text/plain": [
              "MetricVisualizer(layout=Layout(align_self='stretch', height='500px'))"
            ],
            "application/vnd.jupyter.widget-view+json": {
              "version_major": 2,
              "version_minor": 0,
              "model_id": "14c17e9f0d6642e68dc6525b3b2e0a26"
            }
          },
          "metadata": {}
        },
        {
          "output_type": "stream",
          "name": "stdout",
          "text": [
            "0:\tloss: 0.8484753\tbest: 0.8484753 (0)\ttotal: 103ms\tremaining: 25s\n",
            "1:\tloss: 0.8636794\tbest: 0.8636794 (1)\ttotal: 141ms\tremaining: 17s\n",
            "2:\tloss: 0.8632710\tbest: 0.8636794 (1)\ttotal: 177ms\tremaining: 14.2s\n",
            "3:\tloss: 0.8607513\tbest: 0.8636794 (1)\ttotal: 366ms\tremaining: 21.8s\n",
            "4:\tloss: 0.8692274\tbest: 0.8692274 (4)\ttotal: 542ms\tremaining: 25.8s\n",
            "5:\tloss: 0.8699893\tbest: 0.8699893 (5)\ttotal: 745ms\tremaining: 29.4s\n",
            "6:\tloss: 0.8635074\tbest: 0.8699893 (5)\ttotal: 1.11s\tremaining: 37.4s\n",
            "7:\tloss: 0.8697481\tbest: 0.8699893 (5)\ttotal: 1.46s\tremaining: 42.9s\n",
            "8:\tloss: 0.8678064\tbest: 0.8699893 (5)\ttotal: 1.83s\tremaining: 47.6s\n",
            "9:\tloss: 0.8403072\tbest: 0.8699893 (5)\ttotal: 1.87s\tremaining: 43.6s\n",
            "10:\tloss: 0.8602354\tbest: 0.8699893 (5)\ttotal: 1.91s\tremaining: 40.3s\n",
            "11:\tloss: 0.8607298\tbest: 0.8699893 (5)\ttotal: 1.95s\tremaining: 37.5s\n",
            "12:\tloss: 0.8605387\tbest: 0.8699893 (5)\ttotal: 2.15s\tremaining: 38.1s\n",
            "13:\tloss: 0.8640113\tbest: 0.8699893 (5)\ttotal: 2.33s\tremaining: 38.1s\n",
            "14:\tloss: 0.8663113\tbest: 0.8699893 (5)\ttotal: 2.51s\tremaining: 38.2s\n",
            "15:\tloss: 0.8581695\tbest: 0.8699893 (5)\ttotal: 2.89s\tremaining: 41s\n",
            "16:\tloss: 0.8669943\tbest: 0.8699893 (5)\ttotal: 3.25s\tremaining: 43.3s\n",
            "17:\tloss: 0.8631491\tbest: 0.8699893 (5)\ttotal: 3.6s\tremaining: 45.1s\n",
            "18:\tloss: 0.8421534\tbest: 0.8699893 (5)\ttotal: 3.64s\tremaining: 43s\n",
            "19:\tloss: 0.8357623\tbest: 0.8699893 (5)\ttotal: 3.68s\tremaining: 41.1s\n",
            "20:\tloss: 0.8309044\tbest: 0.8699893 (5)\ttotal: 3.73s\tremaining: 39.4s\n",
            "21:\tloss: 0.8542359\tbest: 0.8699893 (5)\ttotal: 3.92s\tremaining: 39.4s\n",
            "22:\tloss: 0.8518619\tbest: 0.8699893 (5)\ttotal: 4.11s\tremaining: 39.3s\n",
            "23:\tloss: 0.8626118\tbest: 0.8699893 (5)\ttotal: 4.28s\tremaining: 39.1s\n",
            "24:\tloss: 0.8538848\tbest: 0.8699893 (5)\ttotal: 4.69s\tremaining: 40.9s\n",
            "25:\tloss: 0.8579092\tbest: 0.8699893 (5)\ttotal: 5.27s\tremaining: 44s\n",
            "26:\tloss: 0.8648855\tbest: 0.8699893 (5)\ttotal: 5.86s\tremaining: 46.8s\n",
            "27:\tloss: 0.8523277\tbest: 0.8699893 (5)\ttotal: 5.96s\tremaining: 45.8s\n",
            "28:\tloss: 0.8641164\tbest: 0.8699893 (5)\ttotal: 6.09s\tremaining: 45s\n",
            "29:\tloss: 0.8644197\tbest: 0.8699893 (5)\ttotal: 6.19s\tremaining: 44s\n",
            "30:\tloss: 0.8662396\tbest: 0.8699893 (5)\ttotal: 6.84s\tremaining: 46.8s\n",
            "31:\tloss: 0.8687760\tbest: 0.8699893 (5)\ttotal: 7.47s\tremaining: 49.2s\n",
            "32:\tloss: 0.8611883\tbest: 0.8699893 (5)\ttotal: 8.05s\tremaining: 51.2s\n",
            "33:\tloss: 0.8672977\tbest: 0.8699893 (5)\ttotal: 9.17s\tremaining: 56.4s\n",
            "34:\tloss: 0.8676798\tbest: 0.8699893 (5)\ttotal: 10.3s\tremaining: 1m 1s\n",
            "35:\tloss: 0.8542144\tbest: 0.8699893 (5)\ttotal: 11.4s\tremaining: 1m 5s\n",
            "36:\tloss: 0.8537559\tbest: 0.8699893 (5)\ttotal: 11.5s\tremaining: 1m 3s\n",
            "37:\tloss: 0.8642884\tbest: 0.8699893 (5)\ttotal: 11.6s\tremaining: 1m 2s\n",
            "38:\tloss: 0.8535170\tbest: 0.8699893 (5)\ttotal: 11.7s\tremaining: 1m 1s\n",
            "39:\tloss: 0.8587594\tbest: 0.8699893 (5)\ttotal: 12.2s\tremaining: 1m 2s\n",
            "40:\tloss: 0.8645033\tbest: 0.8699893 (5)\ttotal: 12.7s\tremaining: 1m 2s\n",
            "41:\tloss: 0.8521461\tbest: 0.8699893 (5)\ttotal: 13.3s\tremaining: 1m 3s\n",
            "42:\tloss: 0.8598222\tbest: 0.8699893 (5)\ttotal: 14.3s\tremaining: 1m 6s\n",
            "43:\tloss: 0.8680954\tbest: 0.8699893 (5)\ttotal: 15.3s\tremaining: 1m 9s\n",
            "44:\tloss: 0.8483535\tbest: 0.8699893 (5)\ttotal: 16.4s\tremaining: 1m 12s\n",
            "45:\tloss: 0.8418525\tbest: 0.8699893 (5)\ttotal: 16.5s\tremaining: 1m 10s\n",
            "46:\tloss: 0.8507323\tbest: 0.8699893 (5)\ttotal: 16.6s\tremaining: 1m 9s\n",
            "47:\tloss: 0.8543004\tbest: 0.8699893 (5)\ttotal: 16.7s\tremaining: 1m 7s\n",
            "48:\tloss: 0.8579163\tbest: 0.8699893 (5)\ttotal: 17.2s\tremaining: 1m 8s\n",
            "49:\tloss: 0.8597482\tbest: 0.8699893 (5)\ttotal: 17.7s\tremaining: 1m 8s\n",
            "50:\tloss: 0.8653249\tbest: 0.8699893 (5)\ttotal: 18.2s\tremaining: 1m 8s\n",
            "51:\tloss: 0.8584418\tbest: 0.8699893 (5)\ttotal: 19.2s\tremaining: 1m 10s\n",
            "52:\tloss: 0.8663614\tbest: 0.8699893 (5)\ttotal: 20.1s\tremaining: 1m 11s\n",
            "53:\tloss: 0.8513508\tbest: 0.8699893 (5)\ttotal: 21.6s\tremaining: 1m 15s\n",
            "54:\tloss: 0.8661584\tbest: 0.8699893 (5)\ttotal: 21.8s\tremaining: 1m 14s\n",
            "55:\tloss: 0.8636435\tbest: 0.8699893 (5)\ttotal: 21.9s\tremaining: 1m 13s\n",
            "56:\tloss: 0.8583510\tbest: 0.8699893 (5)\ttotal: 22.1s\tremaining: 1m 12s\n",
            "57:\tloss: 0.8672953\tbest: 0.8699893 (5)\ttotal: 23.2s\tremaining: 1m 13s\n",
            "58:\tloss: 0.8668009\tbest: 0.8699893 (5)\ttotal: 24s\tremaining: 1m 14s\n",
            "59:\tloss: 0.8415348\tbest: 0.8699893 (5)\ttotal: 24.6s\tremaining: 1m 15s\n",
            "60:\tloss: 0.8690507\tbest: 0.8699893 (5)\ttotal: 25.6s\tremaining: 1m 16s\n",
            "61:\tloss: 0.8645583\tbest: 0.8699893 (5)\ttotal: 26.7s\tremaining: 1m 18s\n",
            "62:\tloss: 0.8270067\tbest: 0.8699893 (5)\ttotal: 27.9s\tremaining: 1m 19s\n",
            "63:\tloss: 0.8594210\tbest: 0.8699893 (5)\ttotal: 28s\tremaining: 1m 18s\n",
            "64:\tloss: 0.8567819\tbest: 0.8699893 (5)\ttotal: 28s\tremaining: 1m 16s\n",
            "65:\tloss: 0.8656688\tbest: 0.8699893 (5)\ttotal: 28.1s\tremaining: 1m 15s\n",
            "66:\tloss: 0.8599010\tbest: 0.8699893 (5)\ttotal: 28.6s\tremaining: 1m 15s\n",
            "67:\tloss: 0.8665525\tbest: 0.8699893 (5)\ttotal: 29.1s\tremaining: 1m 14s\n",
            "68:\tloss: 0.8565860\tbest: 0.8699893 (5)\ttotal: 29.6s\tremaining: 1m 14s\n",
            "69:\tloss: 0.8625258\tbest: 0.8699893 (5)\ttotal: 30.6s\tremaining: 1m 15s\n",
            "70:\tloss: 0.8680571\tbest: 0.8699893 (5)\ttotal: 31.5s\tremaining: 1m 16s\n",
            "71:\tloss: 0.8417259\tbest: 0.8699893 (5)\ttotal: 32.6s\tremaining: 1m 17s\n",
            "72:\tloss: 0.8462159\tbest: 0.8699893 (5)\ttotal: 32.7s\tremaining: 1m 16s\n",
            "73:\tloss: 0.8445728\tbest: 0.8699893 (5)\ttotal: 32.8s\tremaining: 1m 14s\n",
            "74:\tloss: 0.8599177\tbest: 0.8699893 (5)\ttotal: 32.9s\tremaining: 1m 13s\n",
            "75:\tloss: 0.8586257\tbest: 0.8699893 (5)\ttotal: 33.3s\tremaining: 1m 13s\n",
            "76:\tloss: 0.8625162\tbest: 0.8699893 (5)\ttotal: 33.8s\tremaining: 1m 12s\n",
            "77:\tloss: 0.8433762\tbest: 0.8699893 (5)\ttotal: 34.3s\tremaining: 1m 12s\n",
            "78:\tloss: 0.8602473\tbest: 0.8699893 (5)\ttotal: 35.2s\tremaining: 1m 13s\n",
            "79:\tloss: 0.8676368\tbest: 0.8699893 (5)\ttotal: 36.1s\tremaining: 1m 13s\n",
            "80:\tloss: 0.8357790\tbest: 0.8699893 (5)\ttotal: 37.2s\tremaining: 1m 14s\n",
            "81:\tloss: 0.8182391\tbest: 0.8699893 (5)\ttotal: 37.3s\tremaining: 1m 13s\n",
            "82:\tloss: 0.8530155\tbest: 0.8699893 (5)\ttotal: 37.3s\tremaining: 1m 11s\n",
            "83:\tloss: 0.8613197\tbest: 0.8699893 (5)\ttotal: 37.3s\tremaining: 1m 10s\n",
            "84:\tloss: 0.8388121\tbest: 0.8699893 (5)\ttotal: 37.6s\tremaining: 1m 9s\n",
            "85:\tloss: 0.8676583\tbest: 0.8699893 (5)\ttotal: 37.8s\tremaining: 1m 8s\n",
            "86:\tloss: 0.8611788\tbest: 0.8699893 (5)\ttotal: 38s\tremaining: 1m 8s\n",
            "87:\tloss: 0.8621747\tbest: 0.8699893 (5)\ttotal: 38.4s\tremaining: 1m 7s\n",
            "88:\tloss: 0.8682530\tbest: 0.8699893 (5)\ttotal: 38.8s\tremaining: 1m 7s\n",
            "89:\tloss: 0.8567413\tbest: 0.8699893 (5)\ttotal: 39.2s\tremaining: 1m 6s\n",
            "90:\tloss: 0.8367439\tbest: 0.8699893 (5)\ttotal: 39.3s\tremaining: 1m 5s\n",
            "91:\tloss: 0.8529080\tbest: 0.8699893 (5)\ttotal: 39.3s\tremaining: 1m 4s\n",
            "92:\tloss: 0.8537153\tbest: 0.8699893 (5)\ttotal: 39.4s\tremaining: 1m 3s\n",
            "93:\tloss: 0.8546993\tbest: 0.8699893 (5)\ttotal: 39.6s\tremaining: 1m 2s\n",
            "94:\tloss: 0.8635767\tbest: 0.8699893 (5)\ttotal: 39.8s\tremaining: 1m 1s\n",
            "95:\tloss: 0.8654276\tbest: 0.8699893 (5)\ttotal: 40s\tremaining: 1m 1s\n",
            "96:\tloss: 0.8567532\tbest: 0.8699893 (5)\ttotal: 40.4s\tremaining: 1m\n",
            "97:\tloss: 0.8686805\tbest: 0.8699893 (5)\ttotal: 40.8s\tremaining: 1m\n",
            "98:\tloss: 0.8605005\tbest: 0.8699893 (5)\ttotal: 41.2s\tremaining: 59.9s\n",
            "99:\tloss: 0.8388647\tbest: 0.8699893 (5)\ttotal: 41.2s\tremaining: 59s\n",
            "100:\tloss: 0.8437297\tbest: 0.8699893 (5)\ttotal: 41.3s\tremaining: 58s\n",
            "101:\tloss: 0.8588311\tbest: 0.8699893 (5)\ttotal: 41.3s\tremaining: 57.1s\n",
            "102:\tloss: 0.8495954\tbest: 0.8699893 (5)\ttotal: 41.5s\tremaining: 56.5s\n",
            "103:\tloss: 0.8584776\tbest: 0.8699893 (5)\ttotal: 41.8s\tremaining: 55.8s\n",
            "104:\tloss: 0.8665167\tbest: 0.8699893 (5)\ttotal: 42s\tremaining: 55.1s\n",
            "105:\tloss: 0.8598389\tbest: 0.8699893 (5)\ttotal: 42.3s\tremaining: 54.7s\n",
            "106:\tloss: 0.8604551\tbest: 0.8699893 (5)\ttotal: 42.8s\tremaining: 54.3s\n",
            "107:\tloss: 0.8624756\tbest: 0.8699893 (5)\ttotal: 43.1s\tremaining: 53.9s\n",
            "108:\tloss: 0.8581432\tbest: 0.8699893 (5)\ttotal: 43.2s\tremaining: 53.1s\n",
            "109:\tloss: 0.8692179\tbest: 0.8699893 (5)\ttotal: 43.3s\tremaining: 52.3s\n",
            "110:\tloss: 0.8691008\tbest: 0.8699893 (5)\ttotal: 43.4s\tremaining: 51.6s\n",
            "111:\tloss: 0.8634310\tbest: 0.8699893 (5)\ttotal: 43.7s\tremaining: 51.1s\n",
            "112:\tloss: 0.8721006\tbest: 0.8721006 (112)\ttotal: 44.1s\tremaining: 50.7s\n",
            "113:\tloss: 0.8478663\tbest: 0.8721006 (112)\ttotal: 44.4s\tremaining: 50.3s\n",
            "114:\tloss: 0.8663949\tbest: 0.8721006 (112)\ttotal: 45.1s\tremaining: 50.2s\n",
            "115:\tloss: 0.8694233\tbest: 0.8721006 (112)\ttotal: 45.8s\tremaining: 50.2s\n",
            "116:\tloss: 0.8378664\tbest: 0.8721006 (112)\ttotal: 46.5s\tremaining: 50.1s\n",
            "117:\tloss: 0.8574506\tbest: 0.8721006 (112)\ttotal: 46.6s\tremaining: 49.4s\n",
            "118:\tloss: 0.8560821\tbest: 0.8721006 (112)\ttotal: 46.7s\tremaining: 48.6s\n",
            "119:\tloss: 0.8602521\tbest: 0.8721006 (112)\ttotal: 46.7s\tremaining: 47.9s\n",
            "120:\tloss: 0.8588072\tbest: 0.8721006 (112)\ttotal: 47.1s\tremaining: 47.5s\n",
            "121:\tloss: 0.8666194\tbest: 0.8721006 (112)\ttotal: 47.4s\tremaining: 47s\n",
            "122:\tloss: 0.8458816\tbest: 0.8721006 (112)\ttotal: 47.8s\tremaining: 46.6s\n",
            "123:\tloss: 0.8598365\tbest: 0.8721006 (112)\ttotal: 48.4s\tremaining: 46.4s\n",
            "124:\tloss: 0.8687187\tbest: 0.8721006 (112)\ttotal: 49s\tremaining: 46.3s\n",
            "125:\tloss: 0.8313128\tbest: 0.8721006 (112)\ttotal: 49.8s\tremaining: 46.2s\n",
            "126:\tloss: 0.8508302\tbest: 0.8721006 (112)\ttotal: 49.8s\tremaining: 45.5s\n",
            "127:\tloss: 0.8465145\tbest: 0.8721006 (112)\ttotal: 49.9s\tremaining: 44.8s\n",
            "128:\tloss: 0.8413844\tbest: 0.8721006 (112)\ttotal: 50s\tremaining: 44.2s\n",
            "129:\tloss: 0.8563018\tbest: 0.8721006 (112)\ttotal: 50.3s\tremaining: 43.7s\n",
            "130:\tloss: 0.8647254\tbest: 0.8721006 (112)\ttotal: 50.6s\tremaining: 43.3s\n",
            "131:\tloss: 0.8441883\tbest: 0.8721006 (112)\ttotal: 51s\tremaining: 42.9s\n",
            "132:\tloss: 0.8589170\tbest: 0.8721006 (112)\ttotal: 51.6s\tremaining: 42.7s\n",
            "133:\tloss: 0.8684321\tbest: 0.8721006 (112)\ttotal: 52.2s\tremaining: 42.5s\n",
            "134:\tloss: 0.8320174\tbest: 0.8721006 (112)\ttotal: 52.9s\tremaining: 42.4s\n",
            "135:\tloss: 0.8589338\tbest: 0.8721006 (112)\ttotal: 53.1s\tremaining: 41.7s\n",
            "136:\tloss: 0.8614367\tbest: 0.8721006 (112)\ttotal: 53.2s\tremaining: 41.1s\n",
            "137:\tloss: 0.8521008\tbest: 0.8721006 (112)\ttotal: 53.3s\tremaining: 40.5s\n",
            "138:\tloss: 0.8648234\tbest: 0.8721006 (112)\ttotal: 53.9s\tremaining: 40.3s\n",
            "139:\tloss: 0.8670923\tbest: 0.8721006 (112)\ttotal: 54.4s\tremaining: 40s\n",
            "140:\tloss: 0.8159440\tbest: 0.8721006 (112)\ttotal: 55.1s\tremaining: 39.8s\n",
            "141:\tloss: 0.8650192\tbest: 0.8721006 (112)\ttotal: 56.2s\tremaining: 40s\n",
            "142:\tloss: 0.8606653\tbest: 0.8721006 (112)\ttotal: 57.3s\tremaining: 40.1s\n",
            "143:\tloss: 0.8058987\tbest: 0.8721006 (112)\ttotal: 58.6s\tremaining: 40.3s\n",
            "144:\tloss: 0.8573527\tbest: 0.8721006 (112)\ttotal: 58.7s\tremaining: 39.7s\n",
            "145:\tloss: 0.8595213\tbest: 0.8721006 (112)\ttotal: 58.8s\tremaining: 39.1s\n",
            "146:\tloss: 0.8659483\tbest: 0.8721006 (112)\ttotal: 58.9s\tremaining: 38.5s\n",
            "147:\tloss: 0.8601375\tbest: 0.8721006 (112)\ttotal: 59.5s\tremaining: 38.2s\n",
            "148:\tloss: 0.8659411\tbest: 0.8721006 (112)\ttotal: 1m\tremaining: 37.9s\n",
            "149:\tloss: 0.8285567\tbest: 0.8721006 (112)\ttotal: 1m\tremaining: 37.6s\n",
            "150:\tloss: 0.8626094\tbest: 0.8721006 (112)\ttotal: 1m 1s\tremaining: 37.6s\n",
            "151:\tloss: 0.8680571\tbest: 0.8721006 (112)\ttotal: 1m 2s\tremaining: 37.6s\n",
            "152:\tloss: 0.8091229\tbest: 0.8721006 (112)\ttotal: 1m 4s\tremaining: 37.9s\n",
            "153:\tloss: 0.8419743\tbest: 0.8721006 (112)\ttotal: 1m 4s\tremaining: 37.4s\n",
            "154:\tloss: 0.8484156\tbest: 0.8721006 (112)\ttotal: 1m 4s\tremaining: 36.8s\n",
            "155:\tloss: 0.8546181\tbest: 0.8721006 (112)\ttotal: 1m 5s\tremaining: 36.3s\n",
            "156:\tloss: 0.8573575\tbest: 0.8721006 (112)\ttotal: 1m 6s\tremaining: 36.2s\n",
            "157:\tloss: 0.8621341\tbest: 0.8721006 (112)\ttotal: 1m 6s\tremaining: 35.9s\n",
            "158:\tloss: 0.8391680\tbest: 0.8721006 (112)\ttotal: 1m 7s\tremaining: 35.6s\n",
            "159:\tloss: 0.8608898\tbest: 0.8721006 (112)\ttotal: 1m 9s\tremaining: 35.8s\n",
            "160:\tloss: 0.8660390\tbest: 0.8721006 (112)\ttotal: 1m 10s\tremaining: 36s\n",
            "161:\tloss: 0.8317141\tbest: 0.8721006 (112)\ttotal: 1m 12s\tremaining: 36s\n",
            "Estimating final quality...\n"
          ]
        },
        {
          "output_type": "execute_result",
          "data": {
            "text/plain": [
              "{'params': {'subsample': 1,\n",
              "  'random_strength': 1,\n",
              "  'depth': 4,\n",
              "  'iterations': 50,\n",
              "  'learning_rate': 0.1},\n",
              " 'cv_results': defaultdict(list,\n",
              "             {'iterations': [0, 49],\n",
              "              'test-AUC-mean': [0.7764729564630057, 0.847594861751922],\n",
              "              'test-AUC-std': [0.02375283367785925, 0.01606876508306207],\n",
              "              'train-AUC-mean': [0.7769676755350954, 0.8625074209353164],\n",
              "              'train-AUC-std': [0.004809977100599343, 0.001694672705631062],\n",
              "              'test-Logloss-mean': [0.6415751702046605, 0.41210231963962246],\n",
              "              'test-Logloss-std': [0.00210879208245954, 0.01761412552309923],\n",
              "              'train-Logloss-mean': [0.6413609078281264, 0.394641605013864],\n",
              "              'train-Logloss-std': [0.001106431955739257,\n",
              "               0.0021355550609682156]})}"
            ]
          },
          "metadata": {},
          "execution_count": 35
        }
      ]
    },
    {
      "cell_type": "code",
      "source": [
        "from pprint import pprint\n",
        "print(\"Best score:\", end=' ')\n",
        "pprint(my_catboost.best_score_)\n",
        "\n",
        "best_params = my_catboost.get_params()\n",
        "print(\"Best params:\", end=' ')\n",
        "pprint(best_params)"
      ],
      "metadata": {
        "colab": {
          "base_uri": "https://localhost:8080/"
        },
        "id": "OGbG4tarimfk",
        "outputId": "4940cee4-0415-4969-b6f6-657c091263c3"
      },
      "execution_count": 36,
      "outputs": [
        {
          "output_type": "stream",
          "name": "stdout",
          "text": [
            "Best score: {'learn': {'AUC': 0.8597384496866631, 'Logloss': 0.3997981294069469}}\n",
            "Best params: {'cat_features': ['Sex',\n",
            "                  'IsSeniorCitizen',\n",
            "                  'HasPartner',\n",
            "                  'HasChild',\n",
            "                  'HasPhoneService',\n",
            "                  'HasMultiplePhoneNumbers',\n",
            "                  'HasInternetService',\n",
            "                  'HasOnlineSecurityService',\n",
            "                  'HasOnlineBackup',\n",
            "                  'HasDeviceProtection',\n",
            "                  'HasTechSupportAccess',\n",
            "                  'HasOnlineTV',\n",
            "                  'HasMovieSubscription',\n",
            "                  'HasContractPhone',\n",
            "                  'IsBillingPaperless',\n",
            "                  'PaymentMethod'],\n",
            " 'depth': 4,\n",
            " 'eval_metric': 'AUC:hints=skip_train~false',\n",
            " 'grow_policy': 'Lossguide',\n",
            " 'iterations': 50,\n",
            " 'learning_rate': 0.1,\n",
            " 'logging_level': 'Silent',\n",
            " 'metric_period': 100,\n",
            " 'random_seed': 42,\n",
            " 'random_strength': 1,\n",
            " 'subsample': 1}\n"
          ]
        }
      ]
    },
    {
      "cell_type": "code",
      "source": [
        "catboost_submission = pd.read_csv(\"./submission.csv\")\n",
        "catboost_submission[\"Churn\"] = my_catboost.predict_proba(test)[:, 1]\n",
        "catboost_submission.to_csv(\"second_submit.csv\", index=False)"
      ],
      "metadata": {
        "id": "qmJnuZmkimi2"
      },
      "execution_count": 83,
      "outputs": []
    },
    {
      "cell_type": "markdown",
      "source": [
        "![second_submit.jpg](data:image/jpeg;base64,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)"
      ],
      "metadata": {
        "id": "1-6Dk58mlzGP"
      }
    },
    {
      "cell_type": "markdown",
      "metadata": {
        "id": "rf4Kjt96EEZU"
      },
      "source": [
        "Выпишите какое лучшее качество и с какими параметрами вам удалось получить"
      ]
    },
    {
      "cell_type": "code",
      "source": [
        "from pprint import pprint\n",
        "print(\"Best score:\", end=' ')\n",
        "pprint(my_catboost.best_score_)\n",
        "\n",
        "best_params = my_catboost.get_params()\n",
        "print(\"Best params:\", end=' ')\n",
        "pprint(best_params)"
      ],
      "metadata": {
        "colab": {
          "base_uri": "https://localhost:8080/"
        },
        "id": "zoNTgLk8l6OL",
        "outputId": "a0465aea-1655-444c-b298-a5351f35cf20"
      },
      "execution_count": 37,
      "outputs": [
        {
          "output_type": "stream",
          "name": "stdout",
          "text": [
            "Best score: {'learn': {'AUC': 0.8597384496866631, 'Logloss': 0.3997981294069469}}\n",
            "Best params: {'cat_features': ['Sex',\n",
            "                  'IsSeniorCitizen',\n",
            "                  'HasPartner',\n",
            "                  'HasChild',\n",
            "                  'HasPhoneService',\n",
            "                  'HasMultiplePhoneNumbers',\n",
            "                  'HasInternetService',\n",
            "                  'HasOnlineSecurityService',\n",
            "                  'HasOnlineBackup',\n",
            "                  'HasDeviceProtection',\n",
            "                  'HasTechSupportAccess',\n",
            "                  'HasOnlineTV',\n",
            "                  'HasMovieSubscription',\n",
            "                  'HasContractPhone',\n",
            "                  'IsBillingPaperless',\n",
            "                  'PaymentMethod'],\n",
            " 'depth': 4,\n",
            " 'eval_metric': 'AUC:hints=skip_train~false',\n",
            " 'grow_policy': 'Lossguide',\n",
            " 'iterations': 50,\n",
            " 'learning_rate': 0.1,\n",
            " 'logging_level': 'Silent',\n",
            " 'metric_period': 100,\n",
            " 'random_seed': 42,\n",
            " 'random_strength': 1,\n",
            " 'subsample': 1}\n"
          ]
        }
      ]
    },
    {
      "cell_type": "markdown",
      "metadata": {
        "id": "mkxjbGkVEEZc"
      },
      "source": [
        "# Kaggle (5 баллов)\n",
        "\n",
        "Как выставить баллы:\n",
        "\n",
        "1) 1 >= roc auc > 0.84 это 5 баллов\n",
        "\n",
        "2) 0.84 >= roc auc > 0.7 это 3 балла\n",
        "\n",
        "3) 0.7 >= roc auc > 0.6 это 1 балл\n",
        "\n",
        "4) 0.6 >= roc auc это 0 баллов\n",
        "\n",
        "\n",
        "Для выполнения задания необходимо выполнить следующие шаги.\n",
        "* Зарегистрироваться на платформе [kaggle.com](kaggle.com). Процесс выставления оценок будет проходить при подведении итогового рейтинга. Пожалуйста, укажите во вкладке Team -> Team name свои имя и фамилию в формате Имя_Фамилия (важно, чтобы имя и фамилия совпадали с данными на Stepik).\n",
        "* Обучить модель, получить файл с ответами в формате .csv и сдать его в конкурс. Пробуйте и экспериментируйте. Обратите внимание, что вы можете выполнять до 20 попыток сдачи на kaggle в день.\n",
        "* После окончания соревнования отправить в итоговый ноутбук с решением на степик. \n",
        "* После дедлайна проверьте посылки других участников по критериям. Для этого надо зайти на степик, скачать их ноутбук и проверить скор в соревновании."
      ]
    }
  ]
}